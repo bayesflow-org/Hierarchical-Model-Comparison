{
 "cells": [
  {
   "cell_type": "code",
   "execution_count": 1,
   "metadata": {},
   "outputs": [],
   "source": [
    "import os, sys\n",
    "sys.path.append(os.path.abspath(os.path.join('../../..'))) # access sibling directories\n",
    "sys.path.append(\"C:\\\\Users\\\\lasse\\\\Documents\\\\GitHub\\\\BayesFlow\")\n",
    "\n",
    "from src.python.settings import summary_meta_validation, probability_meta_validation\n",
    "from src.python.networks import HierarchicalInvariantNetwork, ModelProbabilityNetwork\n",
    "from src.python.models import HierarchicalSdtMptSimulator, MainSimulator\n",
    "from src.python.losses import softmax_loss\n",
    "from src.python.helpers import n_clust_obs_f_f\n",
    "from src.python.visualization import perf_tester\n",
    "\n",
    "import numpy as np\n",
    "\n",
    "from tensorflow.keras.backend import clear_session\n",
    "\n",
    "from tensorflow.keras.experimental import CosineDecay\n",
    "from tensorflow.keras.optimizers import Adam\n",
    "from functools import partial\n",
    "import matplotlib.pyplot as plt\n",
    "\n",
    "from bayesflow.trainers import ModelComparisonTrainer\n",
    "from bayesflow.amortizers import MultiModelAmortizer"
   ]
  },
  {
   "cell_type": "code",
   "execution_count": 2,
   "metadata": {},
   "outputs": [
    {
     "data": {
      "text/plain": [
       "<Figure size 432x288 with 0 Axes>"
      ]
     },
     "metadata": {},
     "output_type": "display_data"
    }
   ],
   "source": [
    "# Hack to correctly set facecolor to white\n",
    "# matplotlib 3.5 only sets facecolor if a plot was already created \n",
    "_ = plt.figure()\n",
    "plt.rcParams['figure.facecolor'] = 'w'"
   ]
  },
  {
   "attachments": {},
   "cell_type": "markdown",
   "metadata": {},
   "source": [
    "# Load network"
   ]
  },
  {
   "cell_type": "code",
   "execution_count": 24,
   "metadata": {},
   "outputs": [],
   "source": [
    "# Reset network\n",
    "clear_session()"
   ]
  },
  {
   "cell_type": "code",
   "execution_count": 25,
   "metadata": {},
   "outputs": [],
   "source": [
    "summary_net = HierarchicalInvariantNetwork(summary_meta_validation)\n",
    "probability_net = ModelProbabilityNetwork(probability_meta_validation)\n",
    "\n",
    "amortizer = MultiModelAmortizer(probability_net, summary_net)\n",
    "\n",
    "simulator = MainSimulator(HierarchicalSdtMptSimulator())"
   ]
  },
  {
   "cell_type": "code",
   "execution_count": 26,
   "metadata": {},
   "outputs": [
    {
     "name": "stdout",
     "output_type": "stream",
     "text": [
      "Networks loaded from c:\\Users\\lasse\\documents\\hierarchical_model_comparison_project\\checkpoints\\02_bridge_sampling_comparison\\non_nested_models\\ckpt-30\n"
     ]
    }
   ],
   "source": [
    "# Training steps\n",
    "epochs=30 \n",
    "iterations_per_epoch=1000\n",
    "\n",
    "# Cosine decaying learning rate\n",
    "initial_lr = 0.0005\n",
    "decay_steps = epochs*iterations_per_epoch\n",
    "alpha = 0\n",
    "lr_schedule = CosineDecay(\n",
    "    initial_lr, decay_steps, alpha=alpha\n",
    "    )\n",
    "\n",
    "# Checkpoint path for loading pretrained network and saving the final network\n",
    "checkpoint_path = \"c:\\\\Users\\\\lasse\\\\documents\\\\hierarchical_model_comparison_project\\\\checkpoints\\\\02_bridge_sampling_comparison\\\\non_nested_models\"\n",
    "\n",
    "trainer = ModelComparisonTrainer(\n",
    "    network=amortizer, \n",
    "    generative_model=simulator, \n",
    "    loss=partial(softmax_loss),\n",
    "    optimizer=partial(Adam, lr_schedule),\n",
    "    checkpoint_path=checkpoint_path,\n",
    "    skip_checks=True\n",
    "    )\n",
    "\n",
    "# Sample size\n",
    "n_clusters = 25\n",
    "n_obs = 50"
   ]
  },
  {
   "attachments": {},
   "cell_type": "markdown",
   "metadata": {},
   "source": [
    "# Get OOD score"
   ]
  },
  {
   "attachments": {},
   "cell_type": "markdown",
   "metadata": {},
   "source": [
    "## Utility functions"
   ]
  },
  {
   "cell_type": "code",
   "execution_count": 6,
   "metadata": {},
   "outputs": [],
   "source": [
    "class NoiseGenerator:\n",
    "\n",
    "    def __init__(self):\n",
    "        pass\n",
    "\n",
    "    def generate_single(self, model_index, n_clusters, n_obs):\n",
    "        \"\"\" Generates a single hierarchical data set. \"\"\"\n",
    "        \n",
    "        RNG = np.random.default_rng()\n",
    "        data = RNG.integers(low=0, high=2, size=(n_clusters, n_obs, 2)) \n",
    "        #data = RNG.integers(low=-10, high=11, size=(n_clusters, n_obs, 2))\n",
    "\n",
    "        return data"
   ]
  },
  {
   "cell_type": "code",
   "execution_count": 7,
   "metadata": {},
   "outputs": [],
   "source": [
    "class SingleModelSimulator:\n",
    "\n",
    "    def __init__(self, simulator):\n",
    "        \n",
    "        self.simulator = simulator\n",
    "\n",
    "    def simulate(self, batch_size, n_obs, model, n_vars):\n",
    "        \"\"\" Simulates a batch of hierarchical data sets, solely from a single model. \"\"\"\n",
    "\n",
    "        K, N = n_obs\n",
    "        \n",
    "        model_indices = np.repeat(model, batch_size)\n",
    "\n",
    "        X_gen = np.zeros((batch_size, K, N, n_vars), dtype=np.float32)\n",
    "\n",
    "        for b in range(batch_size):\n",
    "            X_gen[b] = self.simulator.generate_single(model_indices[b], K, N)\n",
    "\n",
    "        return X_gen\n",
    "\n",
    "    def __call__(self, batch_size, n_obs, model, n_vars=2):\n",
    "        return self.simulate(batch_size, n_obs, model, n_vars)"
   ]
  },
  {
   "cell_type": "code",
   "execution_count": 8,
   "metadata": {},
   "outputs": [],
   "source": [
    "def get_max_activation(data, probability_net, summary_net, method):\n",
    "    \"\"\" Gets the inference networks' last-layer-activation, either before or after \n",
    "    passing it through the softmax function. \"\"\"\n",
    "\n",
    "    if method=='max_softmax':\n",
    "        activations = probability_net.predict(summary_net(data))['m_probs']\n",
    "    if method=='max_logits':\n",
    "        activations = probability_net.get_logits(summary_net(data))    \n",
    "          \n",
    "    max_activation = np.max(activations, axis=1)\n",
    "\n",
    "    return max_activation"
   ]
  },
  {
   "attachments": {},
   "cell_type": "markdown",
   "metadata": {},
   "source": [
    "## Data generation"
   ]
  },
  {
   "cell_type": "code",
   "execution_count": 9,
   "metadata": {},
   "outputs": [],
   "source": [
    "#simulator = MainSimulator(HierarchicalSdtMptSimulator())\n",
    "single_model_simulator = SingleModelSimulator(HierarchicalSdtMptSimulator())\n",
    "noise_simulator = MainSimulator(NoiseGenerator())\n",
    "\n",
    "#sdtmpt_data = simulator(batch_size=5000, n_obs=n_clust_obs_f_f(n_clusters, n_obs), n_vars=2)\n",
    "#sdt_data = sdtmpt_data[2][sdtmpt_data[0][:,0]==1]\n",
    "#mpt_data = sdtmpt_data[2][sdtmpt_data[0][:,0]==1]\n",
    "sdt_data = single_model_simulator(batch_size=5000, n_obs=n_clust_obs_f_f(n_clusters, n_obs), model=0)\n",
    "mpt_data = single_model_simulator(batch_size=5000, n_obs=n_clust_obs_f_f(n_clusters, n_obs), model=1)\n",
    "noise_data1 = noise_simulator(batch_size=5000, n_obs=n_clust_obs_f_f(n_clusters, n_obs), n_vars=2)[2]\n",
    "noise_data2 = noise_simulator(batch_size=5000, n_obs=n_clust_obs_f_f(n_clusters, n_obs), n_vars=2)[2]"
   ]
  },
  {
   "attachments": {},
   "cell_type": "markdown",
   "metadata": {},
   "source": [
    "## max_softmax"
   ]
  },
  {
   "cell_type": "code",
   "execution_count": 10,
   "metadata": {},
   "outputs": [
    {
     "name": "stdout",
     "output_type": "stream",
     "text": [
      "0.93648493 0.925144 1.0\n"
     ]
    }
   ],
   "source": [
    "#sdtmpt_max_softmax = get_max_activation(sdtmpt_data, probability_net, summary_net, 'max_softmax')\n",
    "sdt_max_softmax = get_max_activation(sdt_data, probability_net, summary_net, 'max_softmax')\n",
    "mpt_max_softmax = get_max_activation(mpt_data, probability_net, summary_net, 'max_softmax')\n",
    "noise_max_softmax = get_max_activation(noise_data1, probability_net, summary_net, 'max_softmax')\n",
    "print(np.mean(sdt_max_softmax), np.mean(mpt_max_softmax), np.mean(noise_max_softmax))"
   ]
  },
  {
   "cell_type": "code",
   "execution_count": 11,
   "metadata": {},
   "outputs": [
    {
     "data": {
      "text/plain": [
       "Text(0.5, 1.0, 'MaxSoftmax')"
      ]
     },
     "execution_count": 11,
     "metadata": {},
     "output_type": "execute_result"
    },
    {
     "data": {
      "image/png": "[encoded data removed]",
      "text/plain": [
       "<Figure size 432x288 with 1 Axes>"
      ]
     },
     "metadata": {},
     "output_type": "display_data"
    }
   ],
   "source": [
    "plt.hist(sdt_max_softmax, alpha=0.7, label='SDT simulations')\n",
    "plt.hist(mpt_max_softmax, alpha=0.7, label='MPT simulations')\n",
    "plt.hist(noise_max_softmax, alpha=0.7, label='Noise simulations')\n",
    "plt.legend()\n",
    "plt.title('MaxSoftmax')"
   ]
  },
  {
   "attachments": {},
   "cell_type": "markdown",
   "metadata": {},
   "source": [
    "## max_logits"
   ]
  },
  {
   "cell_type": "code",
   "execution_count": 27,
   "metadata": {},
   "outputs": [
    {
     "name": "stdout",
     "output_type": "stream",
     "text": [
      "0.5749536 0.35319212 21.282028 21.28429\n"
     ]
    }
   ],
   "source": [
    "#import tensorflow as tf\n",
    "#tf.random.set_seed(2023) \n",
    "# fixes wildly differing results - but why are they so different when reloading the net in the first place??\n",
    "\n",
    "sdt_max_logits = get_max_activation(sdt_data, probability_net, summary_net, 'max_logits')\n",
    "mpt_max_logits = get_max_activation(mpt_data, probability_net, summary_net, 'max_logits')\n",
    "#noise_max_logits = get_max_activation(noise_data, probability_net, summary_net, 'max_logits')\n",
    "noise_max_logits1 = get_max_activation(noise_data1, probability_net, summary_net, 'max_logits')\n",
    "noise_max_logits2 = get_max_activation(noise_data2, probability_net, summary_net, 'max_logits')\n",
    "print(np.mean(sdt_max_logits), np.mean(mpt_max_logits), np.mean(noise_max_logits1), np.mean(noise_max_logits2))"
   ]
  },
  {
   "cell_type": "code",
   "execution_count": 28,
   "metadata": {},
   "outputs": [
    {
     "name": "stdout",
     "output_type": "stream",
     "text": [
      "WARNING:tensorflow:Unresolved object in checkpoint: (root).optimizer.iter\n",
      "WARNING:tensorflow:Unresolved object in checkpoint: (root).optimizer.beta_1\n",
      "WARNING:tensorflow:Unresolved object in checkpoint: (root).optimizer.beta_2\n",
      "WARNING:tensorflow:Unresolved object in checkpoint: (root).optimizer.decay\n",
      "WARNING:tensorflow:A checkpoint was restored (e.g. tf.train.Checkpoint.restore or tf.keras.Model.load_weights) but not all checkpointed values were used. See above for specific issues. Use expect_partial() on the load status object, e.g. tf.train.Checkpoint.restore(...).expect_partial(), to silence these warnings, or use assert_consumed() to make the check explicit. See https://www.tensorflow.org/guide/checkpoint#loading_mechanics for details.\n"
     ]
    },
    {
     "data": {
      "text/plain": [
       "Text(0.5, 1.0, 'MaxLogit')"
      ]
     },
     "execution_count": 28,
     "metadata": {},
     "output_type": "execute_result"
    },
    {
     "data": {
      "image/png": "[encoded data removed]",
      "text/plain": [
       "<Figure size 432x288 with 1 Axes>"
      ]
     },
     "metadata": {},
     "output_type": "display_data"
    }
   ],
   "source": [
    "plt.hist(sdt_max_logits, alpha=0.7, label='SDT simulations')\n",
    "plt.hist(mpt_max_logits, alpha=0.7, label='MPT simulations')\n",
    "#plt.hist(noise_max_logits, alpha=0.7, label='Noise simulations')\n",
    "plt.hist(noise_max_logits1, alpha=0.7, label='Noise simulations1')\n",
    "plt.hist(noise_max_logits2, alpha=0.7, label='Noise simulations2')\n",
    "plt.legend()\n",
    "plt.title('MaxLogit')"
   ]
  },
  {
   "attachments": {},
   "cell_type": "markdown",
   "metadata": {},
   "source": [
    "# Inspect predictions "
   ]
  },
  {
   "attachments": {},
   "cell_type": "markdown",
   "metadata": {},
   "source": [
    "## SDT MPT data"
   ]
  },
  {
   "cell_type": "code",
   "execution_count": 14,
   "metadata": {},
   "outputs": [],
   "source": [
    "sims_sdtmpt = simulator(batch_size=5000, n_obs=n_clust_obs_f_f(n_clusters, n_obs), n_vars=2)\n",
    "preds_sdtmpt = probability_net.predict(summary_net(sims_sdtmpt[2]))['m_probs']"
   ]
  },
  {
   "cell_type": "code",
   "execution_count": 15,
   "metadata": {},
   "outputs": [
    {
     "name": "stdout",
     "output_type": "stream",
     "text": [
      "ECE = 0.010\n"
     ]
    },
    {
     "data": {
      "image/png": "[encoded data removed]",
      "text/plain": [
       "<Figure size 720x720 with 5 Axes>"
      ]
     },
     "metadata": {},
     "output_type": "display_data"
    }
   ],
   "source": [
    "val_sims_sdtmpt = {'X' : sims_sdtmpt[2], 'm' : sims_sdtmpt[0]}\n",
    "perf_tester(probability_net, summary_net, val_sims_sdtmpt, n_cal_bins=15)"
   ]
  },
  {
   "attachments": {},
   "cell_type": "markdown",
   "metadata": {},
   "source": [
    "## Noisy data"
   ]
  },
  {
   "cell_type": "code",
   "execution_count": 16,
   "metadata": {},
   "outputs": [
    {
     "data": {
      "text/plain": [
       "array([[[[ -5.,   2.],\n",
       "         [ -6.,  -7.],\n",
       "         [  0.,  -8.],\n",
       "         ...,\n",
       "         [ -5.,  -2.],\n",
       "         [  0.,   4.],\n",
       "         [ -8.,   1.]],\n",
       "\n",
       "        [[  4.,   6.],\n",
       "         [  6.,   2.],\n",
       "         [  5.,  -2.],\n",
       "         ...,\n",
       "         [ -9.,  -1.],\n",
       "         [  2.,   9.],\n",
       "         [  2.,   6.]],\n",
       "\n",
       "        [[  8.,   5.],\n",
       "         [  6.,  -8.],\n",
       "         [ 10., -10.],\n",
       "         ...,\n",
       "         [  7.,   2.],\n",
       "         [  3.,  -1.],\n",
       "         [ -5.,   2.]],\n",
       "\n",
       "        ...,\n",
       "\n",
       "        [[  3.,  -8.],\n",
       "         [-10.,   6.],\n",
       "         [-10.,  -8.],\n",
       "         ...,\n",
       "         [  9.,  -5.],\n",
       "         [  0.,  -1.],\n",
       "         [ -9.,  -4.]],\n",
       "\n",
       "        [[ -1.,  -7.],\n",
       "         [ 10.,   5.],\n",
       "         [ -2.,  -6.],\n",
       "         ...,\n",
       "         [ -1.,   9.],\n",
       "         [  0.,   7.],\n",
       "         [  8.,   1.]],\n",
       "\n",
       "        [[ -7.,   2.],\n",
       "         [  6.,  -2.],\n",
       "         [-10.,   9.],\n",
       "         ...,\n",
       "         [  0.,   9.],\n",
       "         [ -4.,  10.],\n",
       "         [  8.,   1.]]],\n",
       "\n",
       "\n",
       "       [[[  1.,  -3.],\n",
       "         [  9.,  -3.],\n",
       "         [ 10.,  -2.],\n",
       "         ...,\n",
       "         [ -4.,   8.],\n",
       "         [ -4.,  -1.],\n",
       "         [  6.,   7.]],\n",
       "\n",
       "        [[  8., -10.],\n",
       "         [  8.,   7.],\n",
       "         [  5.,  -4.],\n",
       "         ...,\n",
       "         [ -4.,  10.],\n",
       "         [  3.,  -6.],\n",
       "         [  3.,   6.]],\n",
       "\n",
       "        [[ -1.,   1.],\n",
       "         [ -6.,   7.],\n",
       "         [ -1.,  -1.],\n",
       "         ...,\n",
       "         [ -7.,  -7.],\n",
       "         [  8., -10.],\n",
       "         [  8.,   4.]],\n",
       "\n",
       "        ...,\n",
       "\n",
       "        [[ -3.,  -8.],\n",
       "         [-10.,   3.],\n",
       "         [ -8.,  -2.],\n",
       "         ...,\n",
       "         [ 10.,  -6.],\n",
       "         [ -7.,  -6.],\n",
       "         [  3.,  -6.]],\n",
       "\n",
       "        [[ -2.,   0.],\n",
       "         [  8.,  -8.],\n",
       "         [ -1.,  -6.],\n",
       "         ...,\n",
       "         [  8.,  -7.],\n",
       "         [  1.,   4.],\n",
       "         [  6.,   1.]],\n",
       "\n",
       "        [[ -3.,  -2.],\n",
       "         [  2.,  -6.],\n",
       "         [ -4.,   4.],\n",
       "         ...,\n",
       "         [  0.,  -4.],\n",
       "         [ -9.,  -3.],\n",
       "         [  1.,   3.]]],\n",
       "\n",
       "\n",
       "       [[[ -4.,   0.],\n",
       "         [ -8.,   9.],\n",
       "         [  2.,  -8.],\n",
       "         ...,\n",
       "         [  1.,   4.],\n",
       "         [-10.,  10.],\n",
       "         [ -1.,  -5.]],\n",
       "\n",
       "        [[ -8.,   9.],\n",
       "         [  3.,  10.],\n",
       "         [ 10.,  10.],\n",
       "         ...,\n",
       "         [  4.,  -6.],\n",
       "         [ -9.,  -5.],\n",
       "         [  5.,  -5.]],\n",
       "\n",
       "        [[ -9.,   1.],\n",
       "         [  0.,  -2.],\n",
       "         [ -3.,   0.],\n",
       "         ...,\n",
       "         [  4.,   9.],\n",
       "         [  8.,  -2.],\n",
       "         [  6.,  -1.]],\n",
       "\n",
       "        ...,\n",
       "\n",
       "        [[ -8.,  -1.],\n",
       "         [ -6.,  -6.],\n",
       "         [  9.,  -7.],\n",
       "         ...,\n",
       "         [-10., -10.],\n",
       "         [  9.,  -4.],\n",
       "         [ -5.,   7.]],\n",
       "\n",
       "        [[-10.,  10.],\n",
       "         [ -3.,   1.],\n",
       "         [  4.,   9.],\n",
       "         ...,\n",
       "         [ -4.,   5.],\n",
       "         [ -1.,   4.],\n",
       "         [  8.,  -1.]],\n",
       "\n",
       "        [[  2.,   7.],\n",
       "         [ -5.,   1.],\n",
       "         [  6.,  -1.],\n",
       "         ...,\n",
       "         [  9.,   3.],\n",
       "         [ -6.,  -4.],\n",
       "         [ -1.,  -5.]]],\n",
       "\n",
       "\n",
       "       ...,\n",
       "\n",
       "\n",
       "       [[[  3.,  -8.],\n",
       "         [  4.,  -1.],\n",
       "         [ -8.,   8.],\n",
       "         ...,\n",
       "         [  4.,   7.],\n",
       "         [ -4.,   0.],\n",
       "         [  1.,   1.]],\n",
       "\n",
       "        [[  8.,  -3.],\n",
       "         [ -5.,  -2.],\n",
       "         [  3.,  -1.],\n",
       "         ...,\n",
       "         [  2.,   2.],\n",
       "         [ -2.,   1.],\n",
       "         [ -9.,  -2.]],\n",
       "\n",
       "        [[  6.,   1.],\n",
       "         [ -6.,   6.],\n",
       "         [  8.,   8.],\n",
       "         ...,\n",
       "         [  0., -10.],\n",
       "         [ 10.,  -2.],\n",
       "         [ -8.,   9.]],\n",
       "\n",
       "        ...,\n",
       "\n",
       "        [[  2.,   3.],\n",
       "         [ -2.,  -2.],\n",
       "         [ -9.,   2.],\n",
       "         ...,\n",
       "         [ -5., -10.],\n",
       "         [ -1.,   9.],\n",
       "         [ -9.,   6.]],\n",
       "\n",
       "        [[  9.,   7.],\n",
       "         [ -6.,  10.],\n",
       "         [-10.,   2.],\n",
       "         ...,\n",
       "         [ -6.,  10.],\n",
       "         [ -7.,   0.],\n",
       "         [ -1.,   1.]],\n",
       "\n",
       "        [[  1.,  -6.],\n",
       "         [ -2.,  -1.],\n",
       "         [  4.,  -2.],\n",
       "         ...,\n",
       "         [  2.,   2.],\n",
       "         [ -9.,  -8.],\n",
       "         [  3.,   8.]]],\n",
       "\n",
       "\n",
       "       [[[ -8.,   9.],\n",
       "         [ -5.,   3.],\n",
       "         [ -4., -10.],\n",
       "         ...,\n",
       "         [ -7., -10.],\n",
       "         [ -6.,   2.],\n",
       "         [ -1.,   7.]],\n",
       "\n",
       "        [[  9.,   5.],\n",
       "         [  1.,  -4.],\n",
       "         [  0.,   1.],\n",
       "         ...,\n",
       "         [  0.,  10.],\n",
       "         [ -8., -10.],\n",
       "         [ -9.,   3.]],\n",
       "\n",
       "        [[-10.,  -1.],\n",
       "         [ -6.,   6.],\n",
       "         [ -4.,  -6.],\n",
       "         ...,\n",
       "         [ -7.,   8.],\n",
       "         [-10.,  -4.],\n",
       "         [  8.,  -2.]],\n",
       "\n",
       "        ...,\n",
       "\n",
       "        [[ 10., -10.],\n",
       "         [-10.,  10.],\n",
       "         [ -7.,   5.],\n",
       "         ...,\n",
       "         [-10.,  -3.],\n",
       "         [  9.,   6.],\n",
       "         [-10.,  -8.]],\n",
       "\n",
       "        [[ -2.,  -3.],\n",
       "         [ -7.,   6.],\n",
       "         [ -5.,  -7.],\n",
       "         ...,\n",
       "         [  1.,  -6.],\n",
       "         [ -1.,  -2.],\n",
       "         [  2.,   3.]],\n",
       "\n",
       "        [[  9.,  -6.],\n",
       "         [  3.,  -4.],\n",
       "         [  2.,  -5.],\n",
       "         ...,\n",
       "         [  5.,  10.],\n",
       "         [ -2.,   5.],\n",
       "         [ -2.,   2.]]],\n",
       "\n",
       "\n",
       "       [[[  1.,   5.],\n",
       "         [  3.,  -8.],\n",
       "         [  2.,   7.],\n",
       "         ...,\n",
       "         [  5.,  -8.],\n",
       "         [  9.,  -3.],\n",
       "         [  1.,   4.]],\n",
       "\n",
       "        [[  4.,  10.],\n",
       "         [ -2.,  10.],\n",
       "         [  7.,  -9.],\n",
       "         ...,\n",
       "         [  2.,   2.],\n",
       "         [  4.,   0.],\n",
       "         [  3.,  -9.]],\n",
       "\n",
       "        [[  9.,  -9.],\n",
       "         [ -5.,   4.],\n",
       "         [  4.,  -5.],\n",
       "         ...,\n",
       "         [ -5.,   8.],\n",
       "         [  0., -10.],\n",
       "         [  7.,  -8.]],\n",
       "\n",
       "        ...,\n",
       "\n",
       "        [[  7.,   1.],\n",
       "         [  8.,   7.],\n",
       "         [ -7.,  -8.],\n",
       "         ...,\n",
       "         [  8.,  -5.],\n",
       "         [  9.,  -6.],\n",
       "         [  3.,   2.]],\n",
       "\n",
       "        [[ -6.,  -6.],\n",
       "         [ -6.,  -1.],\n",
       "         [ -1.,  10.],\n",
       "         ...,\n",
       "         [ -6.,   8.],\n",
       "         [  4., -10.],\n",
       "         [ -5.,   7.]],\n",
       "\n",
       "        [[-10.,   2.],\n",
       "         [ 10.,  -8.],\n",
       "         [  6.,  -1.],\n",
       "         ...,\n",
       "         [  8.,   9.],\n",
       "         [ -5.,   3.],\n",
       "         [ -5.,  -2.]]]], dtype=float32)"
      ]
     },
     "execution_count": 16,
     "metadata": {},
     "output_type": "execute_result"
    }
   ],
   "source": [
    "sims_noise = noise_simulator(batch_size=100, n_obs=n_clust_obs_f_f(n_clusters, n_obs), n_vars=2)\n",
    "sims_noise[2]"
   ]
  },
  {
   "cell_type": "code",
   "execution_count": 17,
   "metadata": {},
   "outputs": [
    {
     "data": {
      "text/plain": [
       "array([0.014768, 0.014576], dtype=float32)"
      ]
     },
     "execution_count": 17,
     "metadata": {},
     "output_type": "execute_result"
    }
   ],
   "source": [
    "# check that both columns are random\n",
    "np.mean(sims_noise[2], axis=(0,1,2))"
   ]
  },
  {
   "cell_type": "code",
   "execution_count": 18,
   "metadata": {},
   "outputs": [
    {
     "name": "stdout",
     "output_type": "stream",
     "text": [
      "[[1. 0.]\n",
      " [1. 0.]\n",
      " [1. 0.]\n",
      " [1. 0.]\n",
      " [1. 0.]\n",
      " [1. 0.]\n",
      " [1. 0.]\n",
      " [1. 0.]\n",
      " [1. 0.]\n",
      " [1. 0.]]\n",
      "tf.Tensor(\n",
      "[[-71.48539   36.313957]\n",
      " [-73.025925  37.152447]\n",
      " [-72.74391   37.00664 ]\n",
      " [-74.58672   38.051487]\n",
      " [-72.04035   36.51227 ]\n",
      " [-70.41552   35.67847 ]\n",
      " [-72.405464  36.787613]\n",
      " [-74.22012   37.77739 ]\n",
      " [-72.93393   37.126266]\n",
      " [-74.3518    37.900787]], shape=(10, 2), dtype=float32)\n"
     ]
    }
   ],
   "source": [
    "preds_noise = probability_net.predict(summary_net(noise_data1))['m_probs']\n",
    "print(preds_noise[:10,:])\n",
    "print(probability_net.get_logits(summary_net(sims_noise[2]))[:10,:])"
   ]
  },
  {
   "cell_type": "code",
   "execution_count": 19,
   "metadata": {},
   "outputs": [
    {
     "data": {
      "text/plain": [
       "array([[1., 0.],\n",
       "       [1., 0.],\n",
       "       [1., 0.],\n",
       "       [1., 0.],\n",
       "       [1., 0.],\n",
       "       [1., 0.],\n",
       "       [1., 0.],\n",
       "       [1., 0.],\n",
       "       [1., 0.],\n",
       "       [1., 0.]], dtype=float32)"
      ]
     },
     "execution_count": 19,
     "metadata": {},
     "output_type": "execute_result"
    }
   ],
   "source": [
    "preds_noise = probability_net.predict(summary_net(sims_noise[2]))['m_probs']\n",
    "preds_noise[:10,:]"
   ]
  },
  {
   "cell_type": "code",
   "execution_count": 20,
   "metadata": {},
   "outputs": [
    {
     "data": {
      "text/plain": [
       "<tf.Tensor: shape=(10, 2), dtype=float32, numpy=\n",
       "array([[-71.48539 ,  36.313957],\n",
       "       [-73.025925,  37.152447],\n",
       "       [-72.74391 ,  37.00664 ],\n",
       "       [-74.58672 ,  38.051487],\n",
       "       [-72.04035 ,  36.51227 ],\n",
       "       [-70.41552 ,  35.67847 ],\n",
       "       [-72.405464,  36.787613],\n",
       "       [-74.22012 ,  37.77739 ],\n",
       "       [-72.93393 ,  37.126266],\n",
       "       [-74.3518  ,  37.900787]], dtype=float32)>"
      ]
     },
     "execution_count": 20,
     "metadata": {},
     "output_type": "execute_result"
    }
   ],
   "source": [
    "probability_net.get_logits(summary_net(sims_noise[2]))[:10,:]  "
   ]
  },
  {
   "cell_type": "code",
   "execution_count": 21,
   "metadata": {},
   "outputs": [
    {
     "data": {
      "text/plain": [
       "(array([  0.,   0.,   0.,   0.,   0., 100.,   0.,   0.,   0.,   0.]),\n",
       " array([0.5, 0.6, 0.7, 0.8, 0.9, 1. , 1.1, 1.2, 1.3, 1.4, 1.5],\n",
       "       dtype=float32),\n",
       " <BarContainer object of 10 artists>)"
      ]
     },
     "execution_count": 21,
     "metadata": {},
     "output_type": "execute_result"
    },
    {
     "data": {
      "image/png": "[encoded data removed]",
      "text/plain": [
       "<Figure size 432x288 with 1 Axes>"
      ]
     },
     "metadata": {},
     "output_type": "display_data"
    }
   ],
   "source": [
    "plt.hist(preds_noise[:,0])"
   ]
  },
  {
   "cell_type": "code",
   "execution_count": 22,
   "metadata": {},
   "outputs": [
    {
     "name": "stdout",
     "output_type": "stream",
     "text": [
      "ECE = 0.550\n"
     ]
    },
    {
     "data": {
      "image/png": "[encoded data removed]",
      "text/plain": [
       "<Figure size 720x720 with 5 Axes>"
      ]
     },
     "metadata": {},
     "output_type": "display_data"
    }
   ],
   "source": [
    "val_sims_noise = {'X' : sims_noise[2], 'm' : sims_noise[0]}\n",
    "perf_tester(probability_net, summary_net, val_sims_noise, n_cal_bins=15)"
   ]
  },
  {
   "cell_type": "code",
   "execution_count": null,
   "metadata": {},
   "outputs": [],
   "source": []
  }
 ],
 "metadata": {
  "kernelspec": {
   "display_name": "bf",
   "language": "python",
   "name": "python3"
  },
  "language_info": {
   "codemirror_mode": {
    "name": "ipython",
    "version": 3
   },
   "file_extension": ".py",
   "mimetype": "text/x-python",
   "name": "python",
   "nbconvert_exporter": "python",
   "pygments_lexer": "ipython3",
   "version": "3.8.13"
  },
  "orig_nbformat": 4
 },
 "nbformat": 4,
 "nbformat_minor": 2
}
