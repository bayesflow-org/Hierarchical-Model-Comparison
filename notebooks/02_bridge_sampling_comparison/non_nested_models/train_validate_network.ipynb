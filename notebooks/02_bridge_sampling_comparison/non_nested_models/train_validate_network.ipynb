{
 "cells": [
  {
   "cell_type": "code",
   "execution_count": 1,
   "metadata": {},
   "outputs": [
    {
     "name": "stderr",
     "output_type": "stream",
     "text": [
      "c:\\Users\\lasse\\projects\\BayesFlow_dev\\BayesFlow\\bayesflow\\trainers.py:26: TqdmExperimentalWarning: Using `tqdm.autonotebook.tqdm` in notebook mode. Use `tqdm.tqdm` instead to force console mode (e.g. in jupyter console)\n",
      "  from tqdm.autonotebook import tqdm\n"
     ]
    }
   ],
   "source": [
    "import os, sys\n",
    "\n",
    "sys.path.append(os.path.abspath(os.path.join(\"../../..\")))  # access sibling directories\n",
    "sys.path.append(os.path.abspath(os.path.join(\"../../../../BayesFlow_dev/BayesFlow/\")))\n",
    "\n",
    "from src.python.settings import summary_meta_validation, probability_meta_validation\n",
    "from src.python.models import HierarchicalSdtMptSimulator\n",
    "from src.python.helpers import get_repeated_predictions, get_preds_and_bfs\n",
    "from src.python.visualization import (\n",
    "    perf_tester,\n",
    "    plot_calibration_curve_repetition_uncertainty,\n",
    ")\n",
    "\n",
    "import bayesflow as bf\n",
    "import numpy as np\n",
    "import pandas as pd\n",
    "from functools import partial\n",
    "from time import perf_counter\n",
    "from datetime import datetime, timezone, timedelta\n",
    "import matplotlib.pyplot as plt"
   ]
  },
  {
   "attachments": {},
   "cell_type": "markdown",
   "metadata": {},
   "source": [
    "# Set up simulators"
   ]
  },
  {
   "cell_type": "code",
   "execution_count": 2,
   "metadata": {},
   "outputs": [],
   "source": [
    "# Sample size\n",
    "n_clusters = 25\n",
    "n_obs = 50"
   ]
  },
  {
   "cell_type": "code",
   "execution_count": 3,
   "metadata": {},
   "outputs": [],
   "source": [
    "# Generative models\n",
    "sdtmpt_model = HierarchicalSdtMptSimulator()\n",
    "\n",
    "sdt_simulator = partial(\n",
    "    sdtmpt_model.generate_batch, model_index=0, n_clusters=n_clusters, n_obs=n_obs\n",
    ")\n",
    "mpt_simulator = partial(\n",
    "    sdtmpt_model.generate_batch, model_index=1, n_clusters=n_clusters, n_obs=n_obs\n",
    ")\n",
    "meta_model = bf.simulation.MultiGenerativeModel([sdt_simulator, mpt_simulator])"
   ]
  },
  {
   "attachments": {},
   "cell_type": "markdown",
   "metadata": {},
   "source": [
    "# Set up networks"
   ]
  },
  {
   "cell_type": "code",
   "execution_count": 4,
   "metadata": {},
   "outputs": [],
   "source": [
    "summary_net = bf.summary_networks.HierarchicalNetwork([\n",
    "    bf.networks.DeepSet(dense_s1_args=summary_meta_validation['level_1']['inv_inner']['dense_inv_pre_pooling_args'],\n",
    "                        dense_s2_args=summary_meta_validation['level_1']['inv_outer']['dense_inv_post_pooling_args'],\n",
    "                        dense_s3_args=summary_meta_validation['level_1']['dense_equiv_args']), \n",
    "    bf.networks.DeepSet(dense_s1_args=summary_meta_validation['level_2']['inv_inner']['dense_inv_pre_pooling_args'],\n",
    "                        dense_s2_args=summary_meta_validation['level_2']['inv_outer']['dense_inv_post_pooling_args'],\n",
    "                        dense_s3_args=summary_meta_validation['level_2']['dense_equiv_args']) \n",
    "])\n",
    "probability_net = bf.inference_networks.PMPNetwork(num_models=2, \n",
    "                                                   dense_args=probability_meta_validation['dense_args'], \n",
    "                                                   dropout=False)\n",
    "amortizer = bf.amortizers.AmortizedModelComparison(probability_net, summary_net)"
   ]
  },
  {
   "cell_type": "code",
   "execution_count": 5,
   "metadata": {},
   "outputs": [
    {
     "name": "stderr",
     "output_type": "stream",
     "text": [
      "INFO:root:Initialized empty loss history.\n",
      "INFO:root:Initialized networks from scratch.\n",
      "INFO:root:Performing a consistency check with provided components...\n",
      "INFO:root:Done.\n"
     ]
    }
   ],
   "source": [
    "# Training steps\n",
    "epochs = 40\n",
    "iterations_per_epoch = 1000\n",
    "\n",
    "# Checkpoint path for loading pretrained network and saving the final network\n",
    "checkpoint_path = \"C:/Users/lasse/OneDrive/Ph.D/Projekte/hierarchical_model_comparison/checkpoints/02_bridge_sampling_comparison/non_nested_models\"\n",
    "\n",
    "trainer = bf.trainers.Trainer(\n",
    "    amortizer=amortizer,\n",
    "    generative_model=meta_model,\n",
    "    default_lr=0.00025,\n",
    "    checkpoint_path=checkpoint_path,\n",
    ")"
   ]
  },
  {
   "cell_type": "code",
   "execution_count": 6,
   "metadata": {},
   "outputs": [
    {
     "name": "stdout",
     "output_type": "stream",
     "text": [
      "Model: \"amortized_model_comparison\"\n",
      "_________________________________________________________________\n",
      " Layer (type)                Output Shape              Param #   \n",
      "=================================================================\n",
      " pmp_network (PMPNetwork)    multiple                  9154      \n",
      "                                                                 \n",
      " hierarchical_network (Hiera  multiple                 107508    \n",
      " rchicalNetwork)                                                 \n",
      "                                                                 \n",
      "=================================================================\n",
      "Total params: 116,662\n",
      "Trainable params: 116,662\n",
      "Non-trainable params: 0\n",
      "_________________________________________________________________\n"
     ]
    }
   ],
   "source": [
    "amortizer.summary()"
   ]
  },
  {
   "attachments": {},
   "cell_type": "markdown",
   "metadata": {},
   "source": [
    "# Train"
   ]
  },
  {
   "cell_type": "code",
   "execution_count": 7,
   "metadata": {},
   "outputs": [
    {
     "data": {
      "application/vnd.jupyter.widget-view+json": {
       "model_id": "e37af32d511841a0b4c170bc386fb44a",
       "version_major": 2,
       "version_minor": 0
      },
      "text/plain": [
       "Training epoch 1:   0%|          | 0/1000 [00:00<?, ?it/s]"
      ]
     },
     "metadata": {},
     "output_type": "display_data"
    },
    {
     "data": {
      "application/vnd.jupyter.widget-view+json": {
       "model_id": "ba779e5cea36422d88a6baffd48a86e1",
       "version_major": 2,
       "version_minor": 0
      },
      "text/plain": [
       "Training epoch 2:   0%|          | 0/1000 [00:00<?, ?it/s]"
      ]
     },
     "metadata": {},
     "output_type": "display_data"
    },
    {
     "data": {
      "application/vnd.jupyter.widget-view+json": {
       "model_id": "68d3ca3467ab4e5e90a7e9388b50f3a4",
       "version_major": 2,
       "version_minor": 0
      },
      "text/plain": [
       "Training epoch 3:   0%|          | 0/1000 [00:00<?, ?it/s]"
      ]
     },
     "metadata": {},
     "output_type": "display_data"
    },
    {
     "data": {
      "application/vnd.jupyter.widget-view+json": {
       "model_id": "869b5dadd911449a959de78424f9ab1b",
       "version_major": 2,
       "version_minor": 0
      },
      "text/plain": [
       "Training epoch 4:   0%|          | 0/1000 [00:00<?, ?it/s]"
      ]
     },
     "metadata": {},
     "output_type": "display_data"
    },
    {
     "data": {
      "application/vnd.jupyter.widget-view+json": {
       "model_id": "1ea64ac6e3f74af68cef3219e96891b8",
       "version_major": 2,
       "version_minor": 0
      },
      "text/plain": [
       "Training epoch 5:   0%|          | 0/1000 [00:00<?, ?it/s]"
      ]
     },
     "metadata": {},
     "output_type": "display_data"
    },
    {
     "data": {
      "application/vnd.jupyter.widget-view+json": {
       "model_id": "3a88e197d759466eb5e3162ae4ed0d24",
       "version_major": 2,
       "version_minor": 0
      },
      "text/plain": [
       "Training epoch 6:   0%|          | 0/1000 [00:00<?, ?it/s]"
      ]
     },
     "metadata": {},
     "output_type": "display_data"
    },
    {
     "data": {
      "application/vnd.jupyter.widget-view+json": {
       "model_id": "620c611efe774196ac05c2f842fa22e9",
       "version_major": 2,
       "version_minor": 0
      },
      "text/plain": [
       "Training epoch 7:   0%|          | 0/1000 [00:00<?, ?it/s]"
      ]
     },
     "metadata": {},
     "output_type": "display_data"
    },
    {
     "data": {
      "application/vnd.jupyter.widget-view+json": {
       "model_id": "fc28b301a3754db6a68632044b543e0b",
       "version_major": 2,
       "version_minor": 0
      },
      "text/plain": [
       "Training epoch 8:   0%|          | 0/1000 [00:00<?, ?it/s]"
      ]
     },
     "metadata": {},
     "output_type": "display_data"
    },
    {
     "data": {
      "application/vnd.jupyter.widget-view+json": {
       "model_id": "155b17a7b92e466ebb91c9636fbf8830",
       "version_major": 2,
       "version_minor": 0
      },
      "text/plain": [
       "Training epoch 9:   0%|          | 0/1000 [00:00<?, ?it/s]"
      ]
     },
     "metadata": {},
     "output_type": "display_data"
    },
    {
     "data": {
      "application/vnd.jupyter.widget-view+json": {
       "model_id": "cbe9273e8a174277949019883d24db63",
       "version_major": 2,
       "version_minor": 0
      },
      "text/plain": [
       "Training epoch 10:   0%|          | 0/1000 [00:00<?, ?it/s]"
      ]
     },
     "metadata": {},
     "output_type": "display_data"
    },
    {
     "data": {
      "application/vnd.jupyter.widget-view+json": {
       "model_id": "057d1b320bac44bb85aea0192b71f6e1",
       "version_major": 2,
       "version_minor": 0
      },
      "text/plain": [
       "Training epoch 11:   0%|          | 0/1000 [00:00<?, ?it/s]"
      ]
     },
     "metadata": {},
     "output_type": "display_data"
    },
    {
     "data": {
      "application/vnd.jupyter.widget-view+json": {
       "model_id": "50fd0dea9fd74ed0a11c5dfd2113bace",
       "version_major": 2,
       "version_minor": 0
      },
      "text/plain": [
       "Training epoch 12:   0%|          | 0/1000 [00:00<?, ?it/s]"
      ]
     },
     "metadata": {},
     "output_type": "display_data"
    },
    {
     "data": {
      "application/vnd.jupyter.widget-view+json": {
       "model_id": "fd8e587b4d7d47e48e31043ab6eff0d4",
       "version_major": 2,
       "version_minor": 0
      },
      "text/plain": [
       "Training epoch 13:   0%|          | 0/1000 [00:00<?, ?it/s]"
      ]
     },
     "metadata": {},
     "output_type": "display_data"
    },
    {
     "data": {
      "application/vnd.jupyter.widget-view+json": {
       "model_id": "82ed00c7934e4cd08fa98b537d042a10",
       "version_major": 2,
       "version_minor": 0
      },
      "text/plain": [
       "Training epoch 14:   0%|          | 0/1000 [00:00<?, ?it/s]"
      ]
     },
     "metadata": {},
     "output_type": "display_data"
    },
    {
     "data": {
      "application/vnd.jupyter.widget-view+json": {
       "model_id": "fffa3c97c05c402c89fcf49b6a40caf2",
       "version_major": 2,
       "version_minor": 0
      },
      "text/plain": [
       "Training epoch 15:   0%|          | 0/1000 [00:00<?, ?it/s]"
      ]
     },
     "metadata": {},
     "output_type": "display_data"
    },
    {
     "data": {
      "application/vnd.jupyter.widget-view+json": {
       "model_id": "d3ae7d1cc7904cc699ba1d858cb14d05",
       "version_major": 2,
       "version_minor": 0
      },
      "text/plain": [
       "Training epoch 16:   0%|          | 0/1000 [00:00<?, ?it/s]"
      ]
     },
     "metadata": {},
     "output_type": "display_data"
    },
    {
     "data": {
      "application/vnd.jupyter.widget-view+json": {
       "model_id": "821a1b93642a4f64a3d6ec21876120de",
       "version_major": 2,
       "version_minor": 0
      },
      "text/plain": [
       "Training epoch 17:   0%|          | 0/1000 [00:00<?, ?it/s]"
      ]
     },
     "metadata": {},
     "output_type": "display_data"
    },
    {
     "data": {
      "application/vnd.jupyter.widget-view+json": {
       "model_id": "7533b97bec3b4c96b5741648dcffd26b",
       "version_major": 2,
       "version_minor": 0
      },
      "text/plain": [
       "Training epoch 18:   0%|          | 0/1000 [00:00<?, ?it/s]"
      ]
     },
     "metadata": {},
     "output_type": "display_data"
    },
    {
     "data": {
      "application/vnd.jupyter.widget-view+json": {
       "model_id": "c6972090d95e40768753784d463613df",
       "version_major": 2,
       "version_minor": 0
      },
      "text/plain": [
       "Training epoch 19:   0%|          | 0/1000 [00:00<?, ?it/s]"
      ]
     },
     "metadata": {},
     "output_type": "display_data"
    },
    {
     "data": {
      "application/vnd.jupyter.widget-view+json": {
       "model_id": "8907cdead70d4655bfe21c1dfb5862ef",
       "version_major": 2,
       "version_minor": 0
      },
      "text/plain": [
       "Training epoch 20:   0%|          | 0/1000 [00:00<?, ?it/s]"
      ]
     },
     "metadata": {},
     "output_type": "display_data"
    },
    {
     "data": {
      "application/vnd.jupyter.widget-view+json": {
       "model_id": "41675c8ead164848a55ebba0fdbe4f6b",
       "version_major": 2,
       "version_minor": 0
      },
      "text/plain": [
       "Training epoch 21:   0%|          | 0/1000 [00:00<?, ?it/s]"
      ]
     },
     "metadata": {},
     "output_type": "display_data"
    },
    {
     "data": {
      "application/vnd.jupyter.widget-view+json": {
       "model_id": "055cc768f09c487296cddd9a54a0b0f3",
       "version_major": 2,
       "version_minor": 0
      },
      "text/plain": [
       "Training epoch 22:   0%|          | 0/1000 [00:00<?, ?it/s]"
      ]
     },
     "metadata": {},
     "output_type": "display_data"
    },
    {
     "data": {
      "application/vnd.jupyter.widget-view+json": {
       "model_id": "6ab19a4c31ff42289fb5cc57ddd044ea",
       "version_major": 2,
       "version_minor": 0
      },
      "text/plain": [
       "Training epoch 23:   0%|          | 0/1000 [00:00<?, ?it/s]"
      ]
     },
     "metadata": {},
     "output_type": "display_data"
    },
    {
     "data": {
      "application/vnd.jupyter.widget-view+json": {
       "model_id": "3b1dc80544a848cfacd542542305fb80",
       "version_major": 2,
       "version_minor": 0
      },
      "text/plain": [
       "Training epoch 24:   0%|          | 0/1000 [00:00<?, ?it/s]"
      ]
     },
     "metadata": {},
     "output_type": "display_data"
    },
    {
     "data": {
      "application/vnd.jupyter.widget-view+json": {
       "model_id": "14b234535a39411492305054eaa502ad",
       "version_major": 2,
       "version_minor": 0
      },
      "text/plain": [
       "Training epoch 25:   0%|          | 0/1000 [00:00<?, ?it/s]"
      ]
     },
     "metadata": {},
     "output_type": "display_data"
    },
    {
     "data": {
      "application/vnd.jupyter.widget-view+json": {
       "model_id": "a7cb3aea23cb4d78a33d68770789534a",
       "version_major": 2,
       "version_minor": 0
      },
      "text/plain": [
       "Training epoch 26:   0%|          | 0/1000 [00:00<?, ?it/s]"
      ]
     },
     "metadata": {},
     "output_type": "display_data"
    },
    {
     "data": {
      "application/vnd.jupyter.widget-view+json": {
       "model_id": "8cb41b9151ed4d7aacd1ea88ab14ebc9",
       "version_major": 2,
       "version_minor": 0
      },
      "text/plain": [
       "Training epoch 27:   0%|          | 0/1000 [00:00<?, ?it/s]"
      ]
     },
     "metadata": {},
     "output_type": "display_data"
    },
    {
     "data": {
      "application/vnd.jupyter.widget-view+json": {
       "model_id": "6f4f408f1cd44d0994137650e6159165",
       "version_major": 2,
       "version_minor": 0
      },
      "text/plain": [
       "Training epoch 28:   0%|          | 0/1000 [00:00<?, ?it/s]"
      ]
     },
     "metadata": {},
     "output_type": "display_data"
    },
    {
     "data": {
      "application/vnd.jupyter.widget-view+json": {
       "model_id": "0711725f2e36411c93e40036b3bdb74c",
       "version_major": 2,
       "version_minor": 0
      },
      "text/plain": [
       "Training epoch 29:   0%|          | 0/1000 [00:00<?, ?it/s]"
      ]
     },
     "metadata": {},
     "output_type": "display_data"
    },
    {
     "data": {
      "application/vnd.jupyter.widget-view+json": {
       "model_id": "6d7c438db46d4945bb7314f5fba1692f",
       "version_major": 2,
       "version_minor": 0
      },
      "text/plain": [
       "Training epoch 30:   0%|          | 0/1000 [00:00<?, ?it/s]"
      ]
     },
     "metadata": {},
     "output_type": "display_data"
    },
    {
     "data": {
      "application/vnd.jupyter.widget-view+json": {
       "model_id": "fadb51115d754965af14ed4b1938a05f",
       "version_major": 2,
       "version_minor": 0
      },
      "text/plain": [
       "Training epoch 31:   0%|          | 0/1000 [00:00<?, ?it/s]"
      ]
     },
     "metadata": {},
     "output_type": "display_data"
    },
    {
     "data": {
      "application/vnd.jupyter.widget-view+json": {
       "model_id": "aa42903dd63d42bda40bb8ec4ef200d9",
       "version_major": 2,
       "version_minor": 0
      },
      "text/plain": [
       "Training epoch 32:   0%|          | 0/1000 [00:00<?, ?it/s]"
      ]
     },
     "metadata": {},
     "output_type": "display_data"
    },
    {
     "data": {
      "application/vnd.jupyter.widget-view+json": {
       "model_id": "fce3c533783d40f2ba9f4d6064cbe24c",
       "version_major": 2,
       "version_minor": 0
      },
      "text/plain": [
       "Training epoch 33:   0%|          | 0/1000 [00:00<?, ?it/s]"
      ]
     },
     "metadata": {},
     "output_type": "display_data"
    },
    {
     "data": {
      "application/vnd.jupyter.widget-view+json": {
       "model_id": "63b1961ec54d4414bea63f5effff0557",
       "version_major": 2,
       "version_minor": 0
      },
      "text/plain": [
       "Training epoch 34:   0%|          | 0/1000 [00:00<?, ?it/s]"
      ]
     },
     "metadata": {},
     "output_type": "display_data"
    },
    {
     "data": {
      "application/vnd.jupyter.widget-view+json": {
       "model_id": "6e8be144c7894ef39e130bf288862a41",
       "version_major": 2,
       "version_minor": 0
      },
      "text/plain": [
       "Training epoch 35:   0%|          | 0/1000 [00:00<?, ?it/s]"
      ]
     },
     "metadata": {},
     "output_type": "display_data"
    },
    {
     "data": {
      "application/vnd.jupyter.widget-view+json": {
       "model_id": "ce5ddf4ea7254244a386547614a4d547",
       "version_major": 2,
       "version_minor": 0
      },
      "text/plain": [
       "Training epoch 36:   0%|          | 0/1000 [00:00<?, ?it/s]"
      ]
     },
     "metadata": {},
     "output_type": "display_data"
    },
    {
     "data": {
      "application/vnd.jupyter.widget-view+json": {
       "model_id": "9d41f4f969bf4cf194d7e00b53f99424",
       "version_major": 2,
       "version_minor": 0
      },
      "text/plain": [
       "Training epoch 37:   0%|          | 0/1000 [00:00<?, ?it/s]"
      ]
     },
     "metadata": {},
     "output_type": "display_data"
    },
    {
     "data": {
      "application/vnd.jupyter.widget-view+json": {
       "model_id": "9661be81f15e4243aa4d28f1949432b3",
       "version_major": 2,
       "version_minor": 0
      },
      "text/plain": [
       "Training epoch 38:   0%|          | 0/1000 [00:00<?, ?it/s]"
      ]
     },
     "metadata": {},
     "output_type": "display_data"
    },
    {
     "data": {
      "application/vnd.jupyter.widget-view+json": {
       "model_id": "548c496c31be43d4a2850531caefde17",
       "version_major": 2,
       "version_minor": 0
      },
      "text/plain": [
       "Training epoch 39:   0%|          | 0/1000 [00:00<?, ?it/s]"
      ]
     },
     "metadata": {},
     "output_type": "display_data"
    },
    {
     "data": {
      "application/vnd.jupyter.widget-view+json": {
       "model_id": "15566541e7914a5cadf9ab97a0bcc101",
       "version_major": 2,
       "version_minor": 0
      },
      "text/plain": [
       "Training epoch 40:   0%|          | 0/1000 [00:00<?, ?it/s]"
      ]
     },
     "metadata": {},
     "output_type": "display_data"
    }
   ],
   "source": [
    "training_time_start = perf_counter()\n",
    "losses = trainer.train_online(\n",
    "    epochs=epochs, iterations_per_epoch=iterations_per_epoch, batch_size=32\n",
    ")\n",
    "training_time_stop = perf_counter()"
   ]
  },
  {
   "attachments": {},
   "cell_type": "markdown",
   "metadata": {},
   "source": [
    "# Validate"
   ]
  },
  {
   "cell_type": "code",
   "execution_count": 13,
   "metadata": {},
   "outputs": [
    {
     "name": "stdout",
     "output_type": "stream",
     "text": [
      "ECE = 0.015\n"
     ]
    },
    {
     "data": {
      "image/png": "[encoded data removed]",
      "text/plain": [
       "<Figure size 1000x1000 with 5 Axes>"
      ]
     },
     "metadata": {},
     "output_type": "display_data"
    }
   ],
   "source": [
    "# Test performance\n",
    "val_data = trainer.configurator(meta_model(5000))\n",
    "perf_tester(probability_net, summary_net, val_data, n_cal_bins=15)"
   ]
  },
  {
   "cell_type": "code",
   "execution_count": 9,
   "metadata": {},
   "outputs": [
    {
     "name": "stdout",
     "output_type": "stream",
     "text": [
      "Median ECE = 0.011357352610584383\n",
      "Median accuracy = 0.9314\n"
     ]
    },
    {
     "data": {
      "image/png": "[encoded data removed]",
      "text/plain": [
       "<Figure size 500x500 with 1 Axes>"
      ]
     },
     "metadata": {},
     "output_type": "display_data"
    }
   ],
   "source": [
    "# Plot calibration with repetition uncertainty\n",
    "n_repetitions = 25\n",
    "\n",
    "fig, ax = plt.subplots(1, 1, figsize=(5, 5))\n",
    "m_true_r, m_soft_r = get_repeated_predictions(\n",
    "    probability_net,\n",
    "    summary_net,\n",
    "    trainer,\n",
    "    meta_model,\n",
    "    n_models=2,\n",
    "    n_repetitions=n_repetitions,\n",
    ")\n",
    "\n",
    "plot_calibration_curve_repetition_uncertainty(\n",
    "    m_true_r[:, :, 1],\n",
    "    m_soft_r[:, :, 1],\n",
    "    narrow_ci=[0.25, 0.75],\n",
    "    wide_ci=[0.025, 0.975],\n",
    "    n_bins=15,\n",
    "    ax=ax,\n",
    "    print_accuracy=True,\n",
    "    xlabel=True,\n",
    "    ylabel=True,\n",
    "    title=None,\n",
    "    show_ece=True,\n",
    "    show_legend=True,\n",
    ")\n",
    "\n",
    "fig.savefig(\"calibration_SDTMPT.pdf\", dpi=300, bbox_inches=\"tight\")"
   ]
  },
  {
   "cell_type": "code",
   "execution_count": 14,
   "metadata": {},
   "outputs": [],
   "source": [
    "# Save training meta-information for bridge sampling comparison?\n",
    "# (so that network can be loaded from checkpoint)\n",
    "save_training_vars = True\n",
    "\n",
    "if save_training_vars:\n",
    "    folder = os.path.join(\n",
    "        os.path.dirname(os.path.dirname(os.path.dirname(os.getcwd()))),\n",
    "        \"data\",\n",
    "        \"02_bridge_sampling_comparison\",\n",
    "        \"non_nested_models\",\n",
    "    )\n",
    "\n",
    "    np.save(\n",
    "        os.path.join(folder, \"training_time_start\"),\n",
    "        training_time_start,\n",
    "        allow_pickle=True,\n",
    "    )\n",
    "    np.save(\n",
    "        os.path.join(folder, \"training_time_stop\"),\n",
    "        training_time_stop,\n",
    "        allow_pickle=True,\n",
    "    )\n",
    "    np.save(os.path.join(folder, \"losses\"), losses, allow_pickle=True)"
   ]
  },
  {
   "attachments": {},
   "cell_type": "markdown",
   "metadata": {},
   "source": [
    "# Calculate Bayes factors for bridge sampling comparison"
   ]
  },
  {
   "cell_type": "code",
   "execution_count": null,
   "metadata": {},
   "outputs": [],
   "source": [
    "# Import training meta-information?\n",
    "# (use if network was loaded from checkpoint)\n",
    "import_training_vars = False\n",
    "\n",
    "if import_training_vars:\n",
    "    folder = os.path.join(\n",
    "        os.path.dirname(os.path.dirname(os.path.dirname(os.getcwd()))),\n",
    "        \"data\",\n",
    "        \"01_calibration_validation\",\n",
    "        \"03_variable\",\n",
    "    )\n",
    "\n",
    "    training_time_start = np.load(\n",
    "        os.path.join(folder, \"training_time_start.npy\"), allow_pickle=True\n",
    "    )\n",
    "    training_time_stop = np.load(\n",
    "        os.path.join(folder, \"training_time_stop.npy\"), allow_pickle=True\n",
    "    )\n",
    "    losses = np.load(os.path.join(folder, \"losses.npy\"), allow_pickle=True)"
   ]
  },
  {
   "cell_type": "code",
   "execution_count": 10,
   "metadata": {},
   "outputs": [],
   "source": [
    "# Import test data\n",
    "val_folder = os.path.join(\n",
    "    os.path.dirname(os.path.dirname(os.path.dirname(os.getcwd()))),\n",
    "    \"data\",\n",
    "    \"02_bridge_sampling_comparison\",\n",
    "    \"non_nested_models\",\n",
    ")\n",
    "data_filename = \"test_data.npy\"\n",
    "test_data = np.load(os.path.join(val_folder, data_filename), allow_pickle=True).item()"
   ]
  },
  {
   "cell_type": "code",
   "execution_count": 11,
   "metadata": {},
   "outputs": [
    {
     "data": {
      "text/html": [
       "<div>\n",
       "<style scoped>\n",
       "    .dataframe tbody tr th:only-of-type {\n",
       "        vertical-align: middle;\n",
       "    }\n",
       "\n",
       "    .dataframe tbody tr th {\n",
       "        vertical-align: top;\n",
       "    }\n",
       "\n",
       "    .dataframe thead th {\n",
       "        text-align: right;\n",
       "    }\n",
       "</style>\n",
       "<table border=\"1\" class=\"dataframe\">\n",
       "  <thead>\n",
       "    <tr style=\"text-align: right;\">\n",
       "      <th></th>\n",
       "      <th>dataset</th>\n",
       "      <th>true_model</th>\n",
       "      <th>m0_prob</th>\n",
       "      <th>m1_prob</th>\n",
       "      <th>selected_model</th>\n",
       "      <th>bayes_factor</th>\n",
       "      <th>training_time</th>\n",
       "      <th>inference_time</th>\n",
       "      <th>final_epoch_loss</th>\n",
       "    </tr>\n",
       "  </thead>\n",
       "  <tbody>\n",
       "    <tr>\n",
       "      <th>0</th>\n",
       "      <td>1</td>\n",
       "      <td>0</td>\n",
       "      <td>0.976086</td>\n",
       "      <td>0.023914</td>\n",
       "      <td>0</td>\n",
       "      <td>0.024500</td>\n",
       "      <td>1919.199481</td>\n",
       "      <td>0.00041</td>\n",
       "      <td>0.18033</td>\n",
       "    </tr>\n",
       "    <tr>\n",
       "      <th>1</th>\n",
       "      <td>2</td>\n",
       "      <td>0</td>\n",
       "      <td>0.980397</td>\n",
       "      <td>0.019603</td>\n",
       "      <td>0</td>\n",
       "      <td>0.019995</td>\n",
       "      <td>1919.199481</td>\n",
       "      <td>0.00041</td>\n",
       "      <td>0.18033</td>\n",
       "    </tr>\n",
       "    <tr>\n",
       "      <th>2</th>\n",
       "      <td>3</td>\n",
       "      <td>0</td>\n",
       "      <td>0.994822</td>\n",
       "      <td>0.005178</td>\n",
       "      <td>0</td>\n",
       "      <td>0.005205</td>\n",
       "      <td>1919.199481</td>\n",
       "      <td>0.00041</td>\n",
       "      <td>0.18033</td>\n",
       "    </tr>\n",
       "    <tr>\n",
       "      <th>3</th>\n",
       "      <td>4</td>\n",
       "      <td>1</td>\n",
       "      <td>0.211423</td>\n",
       "      <td>0.788577</td>\n",
       "      <td>1</td>\n",
       "      <td>3.729848</td>\n",
       "      <td>1919.199481</td>\n",
       "      <td>0.00041</td>\n",
       "      <td>0.18033</td>\n",
       "    </tr>\n",
       "    <tr>\n",
       "      <th>4</th>\n",
       "      <td>5</td>\n",
       "      <td>0</td>\n",
       "      <td>0.993373</td>\n",
       "      <td>0.006627</td>\n",
       "      <td>0</td>\n",
       "      <td>0.006672</td>\n",
       "      <td>1919.199481</td>\n",
       "      <td>0.00041</td>\n",
       "      <td>0.18033</td>\n",
       "    </tr>\n",
       "  </tbody>\n",
       "</table>\n",
       "</div>"
      ],
      "text/plain": [
       "   dataset  true_model   m0_prob   m1_prob  selected_model  bayes_factor   \n",
       "0        1           0  0.976086  0.023914               0      0.024500  \\\n",
       "1        2           0  0.980397  0.019603               0      0.019995   \n",
       "2        3           0  0.994822  0.005178               0      0.005205   \n",
       "3        4           1  0.211423  0.788577               1      3.729848   \n",
       "4        5           0  0.993373  0.006627               0      0.006672   \n",
       "\n",
       "   training_time  inference_time  final_epoch_loss  \n",
       "0    1919.199481         0.00041           0.18033  \n",
       "1    1919.199481         0.00041           0.18033  \n",
       "2    1919.199481         0.00041           0.18033  \n",
       "3    1919.199481         0.00041           0.18033  \n",
       "4    1919.199481         0.00041           0.18033  "
      ]
     },
     "execution_count": 11,
     "metadata": {},
     "output_type": "execute_result"
    }
   ],
   "source": [
    "# Get NN predictions\n",
    "comparison_results = get_preds_and_bfs(\n",
    "    probability_net,\n",
    "    summary_net,\n",
    "    test_data,\n",
    "    training_time_start,\n",
    "    training_time_stop,\n",
    "    losses,\n",
    ")\n",
    "comparison_results.head(5)"
   ]
  },
  {
   "cell_type": "code",
   "execution_count": 12,
   "metadata": {},
   "outputs": [],
   "source": [
    "# Export results\n",
    "local_timezone = datetime.now(timezone(timedelta(0))).astimezone().tzinfo\n",
    "filename = pd.Timestamp.today(tz=local_timezone).strftime(\"%Y_%m_%d_BF_NN_lr25\")\n",
    "comparison_folder = os.path.join(\n",
    "    os.path.dirname(os.path.dirname(os.path.dirname(os.getcwd()))),\n",
    "    \"data\",\n",
    "    \"02_bridge_sampling_comparison\",\n",
    "    \"non_nested_models\",\n",
    ")\n",
    "\n",
    "comparison_results.to_csv(os.path.join(comparison_folder, filename), index=False)"
   ]
  }
 ],
 "metadata": {
  "kernelspec": {
   "display_name": "Python 3.8.13 ('tf')",
   "language": "python",
   "name": "python3"
  },
  "language_info": {
   "codemirror_mode": {
    "name": "ipython",
    "version": 3
   },
   "file_extension": ".py",
   "mimetype": "text/x-python",
   "name": "python",
   "nbconvert_exporter": "python",
   "pygments_lexer": "ipython3",
   "version": "3.10.10"
  },
  "orig_nbformat": 4,
  "vscode": {
   "interpreter": {
    "hash": "27a86c9f63fe2f1aa7d9f3c637434a8367b5c148236c1390e91d25c0e560ef1a"
   }
  }
 },
 "nbformat": 4,
 "nbformat_minor": 2
}
