{
 "cells": [
  {
   "cell_type": "code",
   "execution_count": 1,
   "metadata": {},
   "outputs": [],
   "source": [
    "%load_ext autoreload\n",
    "%autoreload 2"
   ]
  },
  {
   "cell_type": "code",
   "execution_count": 2,
   "metadata": {},
   "outputs": [
    {
     "name": "stderr",
     "output_type": "stream",
     "text": [
      "c:\\Users\\lasse\\projects\\BayesFlow_dev\\BayesFlow\\bayesflow\\trainers.py:26: TqdmExperimentalWarning: Using `tqdm.autonotebook.tqdm` in notebook mode. Use `tqdm.tqdm` instead to force console mode (e.g. in jupyter console)\n",
      "  from tqdm.autonotebook import tqdm\n"
     ]
    }
   ],
   "source": [
    "import os, sys\n",
    "sys.path.append(os.path.abspath(os.path.join('../../..'))) # access sibling directories\n",
    "sys.path.append(os.path.abspath(os.path.join('../../../../BayesFlow_dev/BayesFlow/')))\n",
    "\n",
    "from src.python.settings import summary_meta_validation, probability_meta_validation\n",
    "from src.python.networks import HierarchicalInvariantNetwork, ModelProbabilityNetwork\n",
    "from src.python.models import HierarchicalSdtMptSimulator, MainSimulator\n",
    "from src.python.losses import softmax_loss\n",
    "from src.python.helpers import n_clust_obs_f_f, get_repeated_predictions, get_preds_and_bfs\n",
    "from src.python.visualization import perf_tester, plot_calibration_curve_repetition_uncertainty\n",
    "\n",
    "import numpy as np\n",
    "import bayesflow as bf\n",
    "import pandas as pd\n",
    "import tensorflow as tf\n",
    "from functools import partial\n",
    "from time import perf_counter\n",
    "from datetime import datetime, timezone, timedelta\n",
    "import matplotlib.pyplot as plt"
   ]
  },
  {
   "attachments": {},
   "cell_type": "markdown",
   "metadata": {},
   "source": [
    "# Set up simulators"
   ]
  },
  {
   "cell_type": "code",
   "execution_count": 3,
   "metadata": {},
   "outputs": [],
   "source": [
    "# Sample size\n",
    "n_clusters = 25\n",
    "n_obs = 50"
   ]
  },
  {
   "cell_type": "code",
   "execution_count": 4,
   "metadata": {},
   "outputs": [],
   "source": [
    "# Generative models\n",
    "sdtmpt_model = HierarchicalSdtMptSimulator()\n",
    "\n",
    "sdt_simulator = partial(sdtmpt_model.generate_batch, model_index=0, n_clusters=n_clusters, n_obs=n_obs, n_vars=2)\n",
    "mpt_simulator = partial(sdtmpt_model.generate_batch, model_index=1, n_clusters=n_clusters, n_obs=n_obs, n_vars=2)\n",
    "meta_model = bf.simulation.MultiGenerativeModel([sdt_simulator, mpt_simulator])"
   ]
  },
  {
   "attachments": {},
   "cell_type": "markdown",
   "metadata": {},
   "source": [
    "# Set up networks"
   ]
  },
  {
   "cell_type": "code",
   "execution_count": 5,
   "metadata": {},
   "outputs": [],
   "source": [
    "summary_net = bf.summary_networks.HierarchicalNetwork([bf.networks.DeepSet(), bf.networks.DeepSet()])\n",
    "probability_net = bf.inference_networks.PMPNetwork(num_models=2, dropout=False)\n",
    "amortizer = bf.amortizers.AmortizedModelComparison(probability_net, summary_net)"
   ]
  },
  {
   "cell_type": "code",
   "execution_count": 6,
   "metadata": {},
   "outputs": [
    {
     "name": "stderr",
     "output_type": "stream",
     "text": [
      "INFO:root:Loaded loss history from C:/Users/lasse/OneDrive/Ph.D/Projekte/hierarchical_model_comparison/checkpoints/02_bridge_sampling_comparison/non_nested_models\\history_30.pkl.\n",
      "INFO:root:Networks loaded from C:/Users/lasse/OneDrive/Ph.D/Projekte/hierarchical_model_comparison/checkpoints/02_bridge_sampling_comparison/non_nested_models\\ckpt-30\n",
      "INFO:root:Performing a consistency check with provided components...\n",
      "INFO:root:Done.\n"
     ]
    }
   ],
   "source": [
    "# Training steps\n",
    "epochs = 30 \n",
    "iterations_per_epoch = 1000\n",
    "\n",
    "# Optimizer\n",
    "initial_lr = 0.00005 # smaller than default!\n",
    "schedule = tf.keras.optimizers.schedules.CosineDecay(\n",
    "    initial_lr, iterations_per_epoch * epochs, name=\"lr_decay\"\n",
    ")\n",
    "optimizer = tf.keras.optimizers.Adam(schedule)\n",
    "\n",
    "# Checkpoint path for loading pretrained network and saving the final network\n",
    "checkpoint_path = 'C:/Users/lasse/OneDrive/Ph.D/Projekte/hierarchical_model_comparison/checkpoints/02_bridge_sampling_comparison/non_nested_models'\n",
    "\n",
    "trainer = bf.trainers.Trainer(\n",
    "    amortizer=amortizer, \n",
    "    generative_model=meta_model, \n",
    "    checkpoint_path=checkpoint_path\n",
    "    )"
   ]
  },
  {
   "attachments": {},
   "cell_type": "markdown",
   "metadata": {},
   "source": [
    "# Train"
   ]
  },
  {
   "cell_type": "code",
   "execution_count": 7,
   "metadata": {},
   "outputs": [
    {
     "data": {
      "application/vnd.jupyter.widget-view+json": {
       "model_id": "6500c409c48942a699a6b40014ee9ca2",
       "version_major": 2,
       "version_minor": 0
      },
      "text/plain": [
       "Training epoch 1:   0%|          | 0/1000 [00:00<?, ?it/s]"
      ]
     },
     "metadata": {},
     "output_type": "display_data"
    },
    {
     "data": {
      "application/vnd.jupyter.widget-view+json": {
       "model_id": "a0e3d8477bea4112babdb54c44a97e11",
       "version_major": 2,
       "version_minor": 0
      },
      "text/plain": [
       "Training epoch 2:   0%|          | 0/1000 [00:00<?, ?it/s]"
      ]
     },
     "metadata": {},
     "output_type": "display_data"
    },
    {
     "data": {
      "application/vnd.jupyter.widget-view+json": {
       "model_id": "6c1f56e35318421aab51a24f30391aec",
       "version_major": 2,
       "version_minor": 0
      },
      "text/plain": [
       "Training epoch 3:   0%|          | 0/1000 [00:00<?, ?it/s]"
      ]
     },
     "metadata": {},
     "output_type": "display_data"
    },
    {
     "data": {
      "application/vnd.jupyter.widget-view+json": {
       "model_id": "10ac56294cf74044a1258dbf654e4b7d",
       "version_major": 2,
       "version_minor": 0
      },
      "text/plain": [
       "Training epoch 4:   0%|          | 0/1000 [00:00<?, ?it/s]"
      ]
     },
     "metadata": {},
     "output_type": "display_data"
    },
    {
     "data": {
      "application/vnd.jupyter.widget-view+json": {
       "model_id": "3196ee4faa4a4090a180d6c2174268d8",
       "version_major": 2,
       "version_minor": 0
      },
      "text/plain": [
       "Training epoch 5:   0%|          | 0/1000 [00:00<?, ?it/s]"
      ]
     },
     "metadata": {},
     "output_type": "display_data"
    },
    {
     "data": {
      "application/vnd.jupyter.widget-view+json": {
       "model_id": "9f6796a5d9414437b026f31d519a74b4",
       "version_major": 2,
       "version_minor": 0
      },
      "text/plain": [
       "Training epoch 6:   0%|          | 0/1000 [00:00<?, ?it/s]"
      ]
     },
     "metadata": {},
     "output_type": "display_data"
    },
    {
     "data": {
      "application/vnd.jupyter.widget-view+json": {
       "model_id": "f7622a32c9b44995948841be6f1dcd16",
       "version_major": 2,
       "version_minor": 0
      },
      "text/plain": [
       "Training epoch 7:   0%|          | 0/1000 [00:00<?, ?it/s]"
      ]
     },
     "metadata": {},
     "output_type": "display_data"
    },
    {
     "data": {
      "application/vnd.jupyter.widget-view+json": {
       "model_id": "a8746195f4554e25ac75f2e6ed2bf966",
       "version_major": 2,
       "version_minor": 0
      },
      "text/plain": [
       "Training epoch 8:   0%|          | 0/1000 [00:00<?, ?it/s]"
      ]
     },
     "metadata": {},
     "output_type": "display_data"
    },
    {
     "data": {
      "application/vnd.jupyter.widget-view+json": {
       "model_id": "59115329c62a41dcbfb28c17b238d292",
       "version_major": 2,
       "version_minor": 0
      },
      "text/plain": [
       "Training epoch 9:   0%|          | 0/1000 [00:00<?, ?it/s]"
      ]
     },
     "metadata": {},
     "output_type": "display_data"
    },
    {
     "data": {
      "application/vnd.jupyter.widget-view+json": {
       "model_id": "51d3be3045924389a971077bd39e1563",
       "version_major": 2,
       "version_minor": 0
      },
      "text/plain": [
       "Training epoch 10:   0%|          | 0/1000 [00:00<?, ?it/s]"
      ]
     },
     "metadata": {},
     "output_type": "display_data"
    },
    {
     "data": {
      "application/vnd.jupyter.widget-view+json": {
       "model_id": "5e56f4b5542c4c3a9a0f3eec76054a06",
       "version_major": 2,
       "version_minor": 0
      },
      "text/plain": [
       "Training epoch 11:   0%|          | 0/1000 [00:00<?, ?it/s]"
      ]
     },
     "metadata": {},
     "output_type": "display_data"
    },
    {
     "data": {
      "application/vnd.jupyter.widget-view+json": {
       "model_id": "9210d2c8210248aa85da320521e42d1a",
       "version_major": 2,
       "version_minor": 0
      },
      "text/plain": [
       "Training epoch 12:   0%|          | 0/1000 [00:00<?, ?it/s]"
      ]
     },
     "metadata": {},
     "output_type": "display_data"
    },
    {
     "data": {
      "application/vnd.jupyter.widget-view+json": {
       "model_id": "b8ba696b8dd249babe02b9ef1bb96f10",
       "version_major": 2,
       "version_minor": 0
      },
      "text/plain": [
       "Training epoch 13:   0%|          | 0/1000 [00:00<?, ?it/s]"
      ]
     },
     "metadata": {},
     "output_type": "display_data"
    },
    {
     "data": {
      "application/vnd.jupyter.widget-view+json": {
       "model_id": "3c35e60ef2f1468e8f1c3b69bf356e40",
       "version_major": 2,
       "version_minor": 0
      },
      "text/plain": [
       "Training epoch 14:   0%|          | 0/1000 [00:00<?, ?it/s]"
      ]
     },
     "metadata": {},
     "output_type": "display_data"
    },
    {
     "data": {
      "application/vnd.jupyter.widget-view+json": {
       "model_id": "f5d5318af5b84e6d97ccc4738cc551c5",
       "version_major": 2,
       "version_minor": 0
      },
      "text/plain": [
       "Training epoch 15:   0%|          | 0/1000 [00:00<?, ?it/s]"
      ]
     },
     "metadata": {},
     "output_type": "display_data"
    },
    {
     "data": {
      "application/vnd.jupyter.widget-view+json": {
       "model_id": "2fe57f8a2b9a410a805a20eaec5ca923",
       "version_major": 2,
       "version_minor": 0
      },
      "text/plain": [
       "Training epoch 16:   0%|          | 0/1000 [00:00<?, ?it/s]"
      ]
     },
     "metadata": {},
     "output_type": "display_data"
    },
    {
     "data": {
      "application/vnd.jupyter.widget-view+json": {
       "model_id": "b52c1849b89d400897dcb1311afd2225",
       "version_major": 2,
       "version_minor": 0
      },
      "text/plain": [
       "Training epoch 17:   0%|          | 0/1000 [00:00<?, ?it/s]"
      ]
     },
     "metadata": {},
     "output_type": "display_data"
    },
    {
     "data": {
      "application/vnd.jupyter.widget-view+json": {
       "model_id": "07cda9a82b0b4c14b905a0abea24468a",
       "version_major": 2,
       "version_minor": 0
      },
      "text/plain": [
       "Training epoch 18:   0%|          | 0/1000 [00:00<?, ?it/s]"
      ]
     },
     "metadata": {},
     "output_type": "display_data"
    },
    {
     "data": {
      "application/vnd.jupyter.widget-view+json": {
       "model_id": "c6a1cd72b576415c8f645b79c55d8c0f",
       "version_major": 2,
       "version_minor": 0
      },
      "text/plain": [
       "Training epoch 19:   0%|          | 0/1000 [00:00<?, ?it/s]"
      ]
     },
     "metadata": {},
     "output_type": "display_data"
    },
    {
     "data": {
      "application/vnd.jupyter.widget-view+json": {
       "model_id": "6961d2075524470aabedbee295584a03",
       "version_major": 2,
       "version_minor": 0
      },
      "text/plain": [
       "Training epoch 20:   0%|          | 0/1000 [00:00<?, ?it/s]"
      ]
     },
     "metadata": {},
     "output_type": "display_data"
    },
    {
     "data": {
      "application/vnd.jupyter.widget-view+json": {
       "model_id": "235fffc4ea164a049f96503d8d8a69de",
       "version_major": 2,
       "version_minor": 0
      },
      "text/plain": [
       "Training epoch 21:   0%|          | 0/1000 [00:00<?, ?it/s]"
      ]
     },
     "metadata": {},
     "output_type": "display_data"
    },
    {
     "data": {
      "application/vnd.jupyter.widget-view+json": {
       "model_id": "31a90e557ac4457e95e0f5c3b5eca206",
       "version_major": 2,
       "version_minor": 0
      },
      "text/plain": [
       "Training epoch 22:   0%|          | 0/1000 [00:00<?, ?it/s]"
      ]
     },
     "metadata": {},
     "output_type": "display_data"
    },
    {
     "data": {
      "application/vnd.jupyter.widget-view+json": {
       "model_id": "029879704c17416395942024494d8373",
       "version_major": 2,
       "version_minor": 0
      },
      "text/plain": [
       "Training epoch 23:   0%|          | 0/1000 [00:00<?, ?it/s]"
      ]
     },
     "metadata": {},
     "output_type": "display_data"
    },
    {
     "data": {
      "application/vnd.jupyter.widget-view+json": {
       "model_id": "6129c3dd62fe4a07ac4359fdb78f8944",
       "version_major": 2,
       "version_minor": 0
      },
      "text/plain": [
       "Training epoch 24:   0%|          | 0/1000 [00:00<?, ?it/s]"
      ]
     },
     "metadata": {},
     "output_type": "display_data"
    },
    {
     "data": {
      "application/vnd.jupyter.widget-view+json": {
       "model_id": "a1f094efa2844472b9a13fc62dcbd2c4",
       "version_major": 2,
       "version_minor": 0
      },
      "text/plain": [
       "Training epoch 25:   0%|          | 0/1000 [00:00<?, ?it/s]"
      ]
     },
     "metadata": {},
     "output_type": "display_data"
    },
    {
     "data": {
      "application/vnd.jupyter.widget-view+json": {
       "model_id": "11436faa7d454e0d893a4c68fc1fea9d",
       "version_major": 2,
       "version_minor": 0
      },
      "text/plain": [
       "Training epoch 26:   0%|          | 0/1000 [00:00<?, ?it/s]"
      ]
     },
     "metadata": {},
     "output_type": "display_data"
    },
    {
     "data": {
      "application/vnd.jupyter.widget-view+json": {
       "model_id": "3f04fc37fa484e75b1f6f5053ee3cb5c",
       "version_major": 2,
       "version_minor": 0
      },
      "text/plain": [
       "Training epoch 27:   0%|          | 0/1000 [00:00<?, ?it/s]"
      ]
     },
     "metadata": {},
     "output_type": "display_data"
    },
    {
     "data": {
      "application/vnd.jupyter.widget-view+json": {
       "model_id": "83b2425f2da6460b9563a6665735af30",
       "version_major": 2,
       "version_minor": 0
      },
      "text/plain": [
       "Training epoch 28:   0%|          | 0/1000 [00:00<?, ?it/s]"
      ]
     },
     "metadata": {},
     "output_type": "display_data"
    },
    {
     "data": {
      "application/vnd.jupyter.widget-view+json": {
       "model_id": "6500ee8c6cda4ee0981b915d27bfb417",
       "version_major": 2,
       "version_minor": 0
      },
      "text/plain": [
       "Training epoch 29:   0%|          | 0/1000 [00:00<?, ?it/s]"
      ]
     },
     "metadata": {},
     "output_type": "display_data"
    },
    {
     "data": {
      "application/vnd.jupyter.widget-view+json": {
       "model_id": "54825f9ab0fb4bc591adbfc282c71a7f",
       "version_major": 2,
       "version_minor": 0
      },
      "text/plain": [
       "Training epoch 30:   0%|          | 0/1000 [00:00<?, ?it/s]"
      ]
     },
     "metadata": {},
     "output_type": "display_data"
    }
   ],
   "source": [
    "training_time_start = perf_counter()\n",
    "losses = trainer.train_online(\n",
    "    epochs=epochs, \n",
    "    iterations_per_epoch=iterations_per_epoch, \n",
    "    batch_size=32,\n",
    "    optimizer=optimizer\n",
    "    )\n",
    "training_time_stop = perf_counter()"
   ]
  },
  {
   "attachments": {},
   "cell_type": "markdown",
   "metadata": {},
   "source": [
    "# Validate"
   ]
  },
  {
   "cell_type": "code",
   "execution_count": 15,
   "metadata": {},
   "outputs": [
    {
     "data": {
      "text/plain": [
       "[{'sim_data': array([[[[1., 1.],\n",
       "           [1., 1.],\n",
       "           [1., 1.],\n",
       "           ...,\n",
       "           [0., 0.],\n",
       "           [0., 0.],\n",
       "           [0., 0.]],\n",
       "  \n",
       "          [[1., 1.],\n",
       "           [1., 1.],\n",
       "           [1., 1.],\n",
       "           ...,\n",
       "           [0., 0.],\n",
       "           [0., 0.],\n",
       "           [0., 0.]],\n",
       "  \n",
       "          [[1., 0.],\n",
       "           [1., 0.],\n",
       "           [1., 0.],\n",
       "           ...,\n",
       "           [0., 1.],\n",
       "           [0., 1.],\n",
       "           [0., 1.]],\n",
       "  \n",
       "          ...,\n",
       "  \n",
       "          [[1., 0.],\n",
       "           [1., 0.],\n",
       "           [1., 0.],\n",
       "           ...,\n",
       "           [0., 1.],\n",
       "           [0., 1.],\n",
       "           [0., 1.]],\n",
       "  \n",
       "          [[1., 0.],\n",
       "           [1., 0.],\n",
       "           [1., 1.],\n",
       "           ...,\n",
       "           [0., 0.],\n",
       "           [0., 1.],\n",
       "           [0., 0.]],\n",
       "  \n",
       "          [[1., 1.],\n",
       "           [1., 1.],\n",
       "           [1., 1.],\n",
       "           ...,\n",
       "           [0., 1.],\n",
       "           [0., 0.],\n",
       "           [0., 0.]]],\n",
       "  \n",
       "  \n",
       "         [[[1., 0.],\n",
       "           [1., 1.],\n",
       "           [1., 1.],\n",
       "           ...,\n",
       "           [0., 0.],\n",
       "           [0., 0.],\n",
       "           [0., 1.]],\n",
       "  \n",
       "          [[1., 1.],\n",
       "           [1., 1.],\n",
       "           [1., 1.],\n",
       "           ...,\n",
       "           [0., 0.],\n",
       "           [0., 0.],\n",
       "           [0., 0.]],\n",
       "  \n",
       "          [[1., 1.],\n",
       "           [1., 1.],\n",
       "           [1., 1.],\n",
       "           ...,\n",
       "           [0., 0.],\n",
       "           [0., 0.],\n",
       "           [0., 0.]],\n",
       "  \n",
       "          ...,\n",
       "  \n",
       "          [[1., 1.],\n",
       "           [1., 1.],\n",
       "           [1., 1.],\n",
       "           ...,\n",
       "           [0., 0.],\n",
       "           [0., 0.],\n",
       "           [0., 0.]],\n",
       "  \n",
       "          [[1., 1.],\n",
       "           [1., 1.],\n",
       "           [1., 1.],\n",
       "           ...,\n",
       "           [0., 1.],\n",
       "           [0., 0.],\n",
       "           [0., 0.]],\n",
       "  \n",
       "          [[1., 1.],\n",
       "           [1., 0.],\n",
       "           [1., 1.],\n",
       "           ...,\n",
       "           [0., 0.],\n",
       "           [0., 0.],\n",
       "           [0., 0.]]]], dtype=float32)},\n",
       " {'sim_data': array([[[[1., 1.],\n",
       "           [1., 0.],\n",
       "           [1., 1.],\n",
       "           ...,\n",
       "           [0., 0.],\n",
       "           [0., 0.],\n",
       "           [0., 0.]],\n",
       "  \n",
       "          [[1., 1.],\n",
       "           [1., 1.],\n",
       "           [1., 1.],\n",
       "           ...,\n",
       "           [0., 0.],\n",
       "           [0., 0.],\n",
       "           [0., 1.]],\n",
       "  \n",
       "          [[1., 0.],\n",
       "           [1., 0.],\n",
       "           [1., 0.],\n",
       "           ...,\n",
       "           [0., 0.],\n",
       "           [0., 0.],\n",
       "           [0., 0.]],\n",
       "  \n",
       "          ...,\n",
       "  \n",
       "          [[1., 1.],\n",
       "           [1., 1.],\n",
       "           [1., 1.],\n",
       "           ...,\n",
       "           [0., 0.],\n",
       "           [0., 0.],\n",
       "           [0., 0.]],\n",
       "  \n",
       "          [[1., 1.],\n",
       "           [1., 0.],\n",
       "           [1., 1.],\n",
       "           ...,\n",
       "           [0., 0.],\n",
       "           [0., 0.],\n",
       "           [0., 0.]],\n",
       "  \n",
       "          [[1., 0.],\n",
       "           [1., 1.],\n",
       "           [1., 0.],\n",
       "           ...,\n",
       "           [0., 0.],\n",
       "           [0., 0.],\n",
       "           [0., 0.]]],\n",
       "  \n",
       "  \n",
       "         [[[1., 1.],\n",
       "           [1., 0.],\n",
       "           [1., 1.],\n",
       "           ...,\n",
       "           [0., 0.],\n",
       "           [0., 0.],\n",
       "           [0., 1.]],\n",
       "  \n",
       "          [[1., 0.],\n",
       "           [1., 1.],\n",
       "           [1., 1.],\n",
       "           ...,\n",
       "           [0., 0.],\n",
       "           [0., 0.],\n",
       "           [0., 0.]],\n",
       "  \n",
       "          [[1., 1.],\n",
       "           [1., 1.],\n",
       "           [1., 1.],\n",
       "           ...,\n",
       "           [0., 0.],\n",
       "           [0., 0.],\n",
       "           [0., 0.]],\n",
       "  \n",
       "          ...,\n",
       "  \n",
       "          [[1., 1.],\n",
       "           [1., 1.],\n",
       "           [1., 1.],\n",
       "           ...,\n",
       "           [0., 1.],\n",
       "           [0., 0.],\n",
       "           [0., 1.]],\n",
       "  \n",
       "          [[1., 1.],\n",
       "           [1., 1.],\n",
       "           [1., 0.],\n",
       "           ...,\n",
       "           [0., 0.],\n",
       "           [0., 0.],\n",
       "           [0., 0.]],\n",
       "  \n",
       "          [[1., 1.],\n",
       "           [1., 1.],\n",
       "           [1., 0.],\n",
       "           ...,\n",
       "           [0., 0.],\n",
       "           [0., 0.],\n",
       "           [0., 1.]]],\n",
       "  \n",
       "  \n",
       "         [[[1., 1.],\n",
       "           [1., 1.],\n",
       "           [1., 1.],\n",
       "           ...,\n",
       "           [0., 0.],\n",
       "           [0., 0.],\n",
       "           [0., 1.]],\n",
       "  \n",
       "          [[1., 1.],\n",
       "           [1., 1.],\n",
       "           [1., 1.],\n",
       "           ...,\n",
       "           [0., 1.],\n",
       "           [0., 1.],\n",
       "           [0., 0.]],\n",
       "  \n",
       "          [[1., 0.],\n",
       "           [1., 1.],\n",
       "           [1., 0.],\n",
       "           ...,\n",
       "           [0., 0.],\n",
       "           [0., 0.],\n",
       "           [0., 0.]],\n",
       "  \n",
       "          ...,\n",
       "  \n",
       "          [[1., 1.],\n",
       "           [1., 1.],\n",
       "           [1., 1.],\n",
       "           ...,\n",
       "           [0., 1.],\n",
       "           [0., 0.],\n",
       "           [0., 1.]],\n",
       "  \n",
       "          [[1., 1.],\n",
       "           [1., 1.],\n",
       "           [1., 0.],\n",
       "           ...,\n",
       "           [0., 0.],\n",
       "           [0., 0.],\n",
       "           [0., 0.]],\n",
       "  \n",
       "          [[1., 1.],\n",
       "           [1., 1.],\n",
       "           [1., 1.],\n",
       "           ...,\n",
       "           [0., 0.],\n",
       "           [0., 0.],\n",
       "           [0., 0.]]]], dtype=float32)}]"
      ]
     },
     "execution_count": 15,
     "metadata": {},
     "output_type": "execute_result"
    }
   ],
   "source": [
    "meta_model(5)['model_outputs']"
   ]
  },
  {
   "cell_type": "code",
   "execution_count": null,
   "metadata": {},
   "outputs": [],
   "source": []
  },
  {
   "cell_type": "code",
   "execution_count": 11,
   "metadata": {},
   "outputs": [
    {
     "data": {
      "text/plain": [
       "{'summary_conditions': array([[[[1., 0.],\n",
       "          [1., 1.],\n",
       "          [1., 1.],\n",
       "          ...,\n",
       "          [0., 1.],\n",
       "          [0., 1.],\n",
       "          [0., 0.]],\n",
       " \n",
       "         [[1., 1.],\n",
       "          [1., 1.],\n",
       "          [1., 0.],\n",
       "          ...,\n",
       "          [0., 0.],\n",
       "          [0., 1.],\n",
       "          [0., 0.]],\n",
       " \n",
       "         [[1., 0.],\n",
       "          [1., 1.],\n",
       "          [1., 1.],\n",
       "          ...,\n",
       "          [0., 0.],\n",
       "          [0., 1.],\n",
       "          [0., 0.]],\n",
       " \n",
       "         ...,\n",
       " \n",
       "         [[1., 1.],\n",
       "          [1., 1.],\n",
       "          [1., 0.],\n",
       "          ...,\n",
       "          [0., 0.],\n",
       "          [0., 1.],\n",
       "          [0., 1.]],\n",
       " \n",
       "         [[1., 1.],\n",
       "          [1., 0.],\n",
       "          [1., 0.],\n",
       "          ...,\n",
       "          [0., 1.],\n",
       "          [0., 1.],\n",
       "          [0., 1.]],\n",
       " \n",
       "         [[1., 0.],\n",
       "          [1., 1.],\n",
       "          [1., 0.],\n",
       "          ...,\n",
       "          [0., 0.],\n",
       "          [0., 1.],\n",
       "          [0., 0.]]],\n",
       " \n",
       " \n",
       "        [[[1., 1.],\n",
       "          [1., 1.],\n",
       "          [1., 1.],\n",
       "          ...,\n",
       "          [0., 0.],\n",
       "          [0., 0.],\n",
       "          [0., 1.]],\n",
       " \n",
       "         [[1., 1.],\n",
       "          [1., 1.],\n",
       "          [1., 1.],\n",
       "          ...,\n",
       "          [0., 0.],\n",
       "          [0., 0.],\n",
       "          [0., 0.]],\n",
       " \n",
       "         [[1., 1.],\n",
       "          [1., 1.],\n",
       "          [1., 0.],\n",
       "          ...,\n",
       "          [0., 1.],\n",
       "          [0., 0.],\n",
       "          [0., 1.]],\n",
       " \n",
       "         ...,\n",
       " \n",
       "         [[1., 1.],\n",
       "          [1., 1.],\n",
       "          [1., 1.],\n",
       "          ...,\n",
       "          [0., 0.],\n",
       "          [0., 0.],\n",
       "          [0., 0.]],\n",
       " \n",
       "         [[1., 0.],\n",
       "          [1., 1.],\n",
       "          [1., 1.],\n",
       "          ...,\n",
       "          [0., 0.],\n",
       "          [0., 0.],\n",
       "          [0., 0.]],\n",
       " \n",
       "         [[1., 1.],\n",
       "          [1., 1.],\n",
       "          [1., 0.],\n",
       "          ...,\n",
       "          [0., 0.],\n",
       "          [0., 0.],\n",
       "          [0., 0.]]],\n",
       " \n",
       " \n",
       "        [[[1., 1.],\n",
       "          [1., 0.],\n",
       "          [1., 1.],\n",
       "          ...,\n",
       "          [0., 1.],\n",
       "          [0., 1.],\n",
       "          [0., 1.]],\n",
       " \n",
       "         [[1., 1.],\n",
       "          [1., 0.],\n",
       "          [1., 0.],\n",
       "          ...,\n",
       "          [0., 0.],\n",
       "          [0., 0.],\n",
       "          [0., 0.]],\n",
       " \n",
       "         [[1., 1.],\n",
       "          [1., 1.],\n",
       "          [1., 1.],\n",
       "          ...,\n",
       "          [0., 0.],\n",
       "          [0., 0.],\n",
       "          [0., 0.]],\n",
       " \n",
       "         ...,\n",
       " \n",
       "         [[1., 1.],\n",
       "          [1., 1.],\n",
       "          [1., 1.],\n",
       "          ...,\n",
       "          [0., 1.],\n",
       "          [0., 1.],\n",
       "          [0., 0.]],\n",
       " \n",
       "         [[1., 0.],\n",
       "          [1., 1.],\n",
       "          [1., 1.],\n",
       "          ...,\n",
       "          [0., 1.],\n",
       "          [0., 0.],\n",
       "          [0., 1.]],\n",
       " \n",
       "         [[1., 1.],\n",
       "          [1., 1.],\n",
       "          [1., 1.],\n",
       "          ...,\n",
       "          [0., 0.],\n",
       "          [0., 0.],\n",
       "          [0., 0.]]],\n",
       " \n",
       " \n",
       "        [[[1., 0.],\n",
       "          [1., 1.],\n",
       "          [1., 0.],\n",
       "          ...,\n",
       "          [0., 0.],\n",
       "          [0., 0.],\n",
       "          [0., 0.]],\n",
       " \n",
       "         [[1., 1.],\n",
       "          [1., 0.],\n",
       "          [1., 1.],\n",
       "          ...,\n",
       "          [0., 0.],\n",
       "          [0., 1.],\n",
       "          [0., 0.]],\n",
       " \n",
       "         [[1., 1.],\n",
       "          [1., 1.],\n",
       "          [1., 0.],\n",
       "          ...,\n",
       "          [0., 0.],\n",
       "          [0., 1.],\n",
       "          [0., 0.]],\n",
       " \n",
       "         ...,\n",
       " \n",
       "         [[1., 1.],\n",
       "          [1., 1.],\n",
       "          [1., 1.],\n",
       "          ...,\n",
       "          [0., 0.],\n",
       "          [0., 0.],\n",
       "          [0., 0.]],\n",
       " \n",
       "         [[1., 1.],\n",
       "          [1., 0.],\n",
       "          [1., 0.],\n",
       "          ...,\n",
       "          [0., 0.],\n",
       "          [0., 0.],\n",
       "          [0., 0.]],\n",
       " \n",
       "         [[1., 0.],\n",
       "          [1., 0.],\n",
       "          [1., 0.],\n",
       "          ...,\n",
       "          [0., 0.],\n",
       "          [0., 0.],\n",
       "          [0., 0.]]],\n",
       " \n",
       " \n",
       "        [[[1., 0.],\n",
       "          [1., 1.],\n",
       "          [1., 1.],\n",
       "          ...,\n",
       "          [0., 0.],\n",
       "          [0., 1.],\n",
       "          [0., 0.]],\n",
       " \n",
       "         [[1., 0.],\n",
       "          [1., 0.],\n",
       "          [1., 1.],\n",
       "          ...,\n",
       "          [0., 0.],\n",
       "          [0., 0.],\n",
       "          [0., 1.]],\n",
       " \n",
       "         [[1., 1.],\n",
       "          [1., 1.],\n",
       "          [1., 0.],\n",
       "          ...,\n",
       "          [0., 0.],\n",
       "          [0., 0.],\n",
       "          [0., 0.]],\n",
       " \n",
       "         ...,\n",
       " \n",
       "         [[1., 0.],\n",
       "          [1., 1.],\n",
       "          [1., 1.],\n",
       "          ...,\n",
       "          [0., 0.],\n",
       "          [0., 1.],\n",
       "          [0., 0.]],\n",
       " \n",
       "         [[1., 0.],\n",
       "          [1., 0.],\n",
       "          [1., 0.],\n",
       "          ...,\n",
       "          [0., 0.],\n",
       "          [0., 1.],\n",
       "          [0., 0.]],\n",
       " \n",
       "         [[1., 0.],\n",
       "          [1., 1.],\n",
       "          [1., 0.],\n",
       "          ...,\n",
       "          [0., 0.],\n",
       "          [0., 1.],\n",
       "          [0., 1.]]]], dtype=float32),\n",
       " 'direct_conditions': None,\n",
       " 'model_indices': array([[1., 0.],\n",
       "        [1., 0.],\n",
       "        [1., 0.],\n",
       "        [0., 1.],\n",
       "        [0., 1.]], dtype=float32)}"
      ]
     },
     "execution_count": 11,
     "metadata": {},
     "output_type": "execute_result"
    }
   ],
   "source": [
    "trainer.configurator(meta_model(5))"
   ]
  },
  {
   "cell_type": "code",
   "execution_count": 9,
   "metadata": {},
   "outputs": [
    {
     "name": "stdout",
     "output_type": "stream",
     "text": [
      "ECE = 0.016\n"
     ]
    },
    {
     "data": {
      "image/png": "[encoded data removed]",
      "text/plain": [
       "<Figure size 1000x1000 with 5 Axes>"
      ]
     },
     "metadata": {},
     "output_type": "display_data"
    }
   ],
   "source": [
    "# Test performance \n",
    "val_data = trainer.configurator(meta_model(5000))\n",
    "perf_tester(probability_net, summary_net, val_data, n_cal_bins=15)"
   ]
  },
  {
   "cell_type": "code",
   "execution_count": null,
   "metadata": {},
   "outputs": [],
   "source": [
    "# Plot calibration with repetition uncertainty\n",
    "n_repetitions = 25\n",
    "\n",
    "fig, ax = plt.subplots(1, 1, figsize=(5,5))\n",
    "m_true_r, m_soft_r = get_repeated_predictions(probability_net, summary_net, trainer, meta_model, \n",
    "                                              n_models=2, n_repetitions=n_repetitions)\n",
    "\n",
    "plot_calibration_curve_repetition_uncertainty(m_true_r[:,:,1], m_soft_r[:,:,1], narrow_ci=[0.25, 0.75], wide_ci=[0.025, 0.975], n_bins=15, ax=ax, print_accuracy=True,\n",
    "                                              xlabel=True, ylabel=True, title=None, show_ece=True, show_legend=True)\n",
    "\n",
    "fig.savefig('calibration_SDTMPT.pdf', dpi=300, bbox_inches='tight')"
   ]
  },
  {
   "cell_type": "code",
   "execution_count": null,
   "metadata": {},
   "outputs": [
    {
     "name": "stdout",
     "output_type": "stream",
     "text": [
      "Median ECE = 0.009618807224562554\n",
      "Median accuracy = 0.9324\n"
     ]
    },
    {
     "data": {
      "image/png": "[encoded data removed]",
      "text/plain": [
       "<Figure size 360x360 with 1 Axes>"
      ]
     },
     "metadata": {},
     "output_type": "display_data"
    }
   ],
   "source": [
    "# Plot calibration with repetition uncertainty\n",
    "n_repetitions = 25\n",
    "\n",
    "fig, ax = plt.subplots(1, 1, figsize=(5,5))\n",
    "m_true_r, m_soft_r = get_repeated_predictions(probability_net, summary_net, \n",
    "                                              partial(simulator, batch_size=n_data_sets, n_obs=n_clust_obs_f_f(n_clusters, n_obs), n_vars=2), \n",
    "                                              n_models=2, n_repetitions=n_repetitions)\n",
    "\n",
    "plot_calibration_curve_repetition_uncertainty(m_true_r[:,:,1], m_soft_r[:,:,1], narrow_ci=[0.25, 0.75], wide_ci=[0.025, 0.975], n_bins=15, ax=ax, print_accuracy=True,\n",
    "                                              xlabel=True, ylabel=True, title=None, show_ece=True, show_legend=True)\n",
    "\n",
    "fig.savefig('calibration_SDTMPT.pdf', dpi=300, bbox_inches='tight')"
   ]
  },
  {
   "cell_type": "code",
   "execution_count": 14,
   "metadata": {},
   "outputs": [],
   "source": [
    "# Save training meta-information for bridge sampling comparison? \n",
    "# (so that network can be loaded from checkpoint)\n",
    "save_training_vars = False\n",
    "\n",
    "if save_training_vars:\n",
    "    folder = os.path.join(os.path.dirname(os.path.dirname(os.path.dirname(os.getcwd()))),'data', '02_bridge_sampling_comparison', 'non_nested_models')\n",
    "\n",
    "    np.save(os.path.join(folder, 'training_time_start'), training_time_start, allow_pickle=True)\n",
    "    np.save(os.path.join(folder, 'training_time_stop'), training_time_stop, allow_pickle=True)\n",
    "    np.save(os.path.join(folder, 'losses'), losses, allow_pickle=True)"
   ]
  },
  {
   "attachments": {},
   "cell_type": "markdown",
   "metadata": {},
   "source": [
    "# Calculate Bayes factors for bridge sampling comparison"
   ]
  },
  {
   "cell_type": "code",
   "execution_count": null,
   "metadata": {},
   "outputs": [],
   "source": [
    "# Import training meta-information? \n",
    "# (use if network was loaded from checkpoint)\n",
    "import_training_vars = False\n",
    "\n",
    "if import_training_vars:\n",
    "    folder = os.path.join(os.path.dirname(os.path.dirname(os.path.dirname(os.getcwd()))),'data', '01_calibration_validation', '03_variable')\n",
    "\n",
    "    training_time_start = np.load(os.path.join(folder, 'training_time_start.npy'), allow_pickle=True)\n",
    "    training_time_stop = np.load(os.path.join(folder, 'training_time_stop.npy'), allow_pickle=True)\n",
    "    losses = np.load(os.path.join(folder, 'losses.npy'), allow_pickle=True).item()"
   ]
  },
  {
   "cell_type": "code",
   "execution_count": 15,
   "metadata": {},
   "outputs": [],
   "source": [
    "# Import test data\n",
    "val_folder = os.path.join(os.path.dirname(os.path.dirname(os.path.dirname(os.getcwd()))),'data', '02_bridge_sampling_comparison','non_nested_models')\n",
    "data_filename = \"test_data.npy\"\n",
    "test_data = np.load(os.path.join(val_folder, data_filename), allow_pickle=True).item()"
   ]
  },
  {
   "cell_type": "code",
   "execution_count": 16,
   "metadata": {},
   "outputs": [
    {
     "name": "stdout",
     "output_type": "stream",
     "text": [
      "4/4 [==============================] - 0s 1ms/step\n"
     ]
    },
    {
     "ename": "IndexError",
     "evalue": "only integers, slices (`:`), ellipsis (`...`), numpy.newaxis (`None`) and integer or boolean arrays are valid indices",
     "output_type": "error",
     "traceback": [
      "\u001b[1;31m---------------------------------------------------------------------------\u001b[0m",
      "\u001b[1;31mIndexError\u001b[0m                                Traceback (most recent call last)",
      "Cell \u001b[1;32mIn[16], line 2\u001b[0m\n\u001b[0;32m      1\u001b[0m \u001b[39m# Get NN predictions\u001b[39;00m\n\u001b[1;32m----> 2\u001b[0m comparison_results \u001b[39m=\u001b[39m get_preds_and_bfs(probability_net, summary_net, test_data, training_time_start, training_time_stop, losses)\n\u001b[0;32m      3\u001b[0m comparison_results\u001b[39m.\u001b[39mhead(\u001b[39m5\u001b[39m)\n",
      "File \u001b[1;32mc:\\Users\\lasse\\projects\\hierarchical_model_comparison\\src\\python\\helpers.py:326\u001b[0m, in \u001b[0;36mget_preds_and_bfs\u001b[1;34m(probability_net, summary_net, data, training_time_start, training_time_stop, losses)\u001b[0m\n\u001b[0;32m    324\u001b[0m \u001b[39m# Predict\u001b[39;00m\n\u001b[0;32m    325\u001b[0m inference_time_start \u001b[39m=\u001b[39m perf_counter()\n\u001b[1;32m--> 326\u001b[0m m1_prob \u001b[39m=\u001b[39m np\u001b[39m.\u001b[39marray(probability_net\u001b[39m.\u001b[39;49mpredict(summary_net(data[\u001b[39m'\u001b[39;49m\u001b[39mX\u001b[39;49m\u001b[39m'\u001b[39;49m]))[\u001b[39m'\u001b[39;49m\u001b[39mm_probs\u001b[39;49m\u001b[39m'\u001b[39;49m][:, \u001b[39m1\u001b[39m], dtype \u001b[39m=\u001b[39m np\u001b[39m.\u001b[39mlongdouble)\n\u001b[0;32m    327\u001b[0m inference_time_stop \u001b[39m=\u001b[39m perf_counter()\n\u001b[0;32m    328\u001b[0m m0_prob \u001b[39m=\u001b[39m \u001b[39m1\u001b[39m \u001b[39m-\u001b[39m m1_prob\n",
      "\u001b[1;31mIndexError\u001b[0m: only integers, slices (`:`), ellipsis (`...`), numpy.newaxis (`None`) and integer or boolean arrays are valid indices"
     ]
    }
   ],
   "source": [
    "# Get NN predictions\n",
    "comparison_results = get_preds_and_bfs(probability_net, summary_net, test_data, training_time_start, training_time_stop, losses)\n",
    "comparison_results.head(5)"
   ]
  },
  {
   "cell_type": "code",
   "execution_count": null,
   "metadata": {},
   "outputs": [],
   "source": [
    "# Export results\n",
    "local_timezone = datetime.now(timezone(timedelta(0))).astimezone().tzinfo\n",
    "filename = pd.Timestamp.today(tz=local_timezone).strftime('%Y_%m_%d_BF_NN_softmax_30epochs')\n",
    "comparison_folder = os.path.join(os.path.dirname(os.path.dirname(os.path.dirname(os.getcwd()))),'data', '02_bridge_sampling_comparison','non_nested_models')\n",
    "\n",
    "comparison_results.to_csv(os.path.join(comparison_folder, filename), index = False)"
   ]
  }
 ],
 "metadata": {
  "kernelspec": {
   "display_name": "Python 3.8.13 ('tf')",
   "language": "python",
   "name": "python3"
  },
  "language_info": {
   "codemirror_mode": {
    "name": "ipython",
    "version": 3
   },
   "file_extension": ".py",
   "mimetype": "text/x-python",
   "name": "python",
   "nbconvert_exporter": "python",
   "pygments_lexer": "ipython3",
   "version": "3.10.10"
  },
  "orig_nbformat": 4,
  "vscode": {
   "interpreter": {
    "hash": "27a86c9f63fe2f1aa7d9f3c637434a8367b5c148236c1390e91d25c0e560ef1a"
   }
  }
 },
 "nbformat": 4,
 "nbformat_minor": 2
}
