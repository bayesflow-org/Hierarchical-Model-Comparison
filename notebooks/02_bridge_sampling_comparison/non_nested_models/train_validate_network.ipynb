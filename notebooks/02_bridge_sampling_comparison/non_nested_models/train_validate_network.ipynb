{
 "cells": [
  {
   "cell_type": "code",
   "execution_count": 1,
   "metadata": {},
   "outputs": [
    {
     "name": "stderr",
     "output_type": "stream",
     "text": [
      "c:\\Users\\lasse\\projects\\BayesFlow_dev\\BayesFlow\\bayesflow\\trainers.py:26: TqdmExperimentalWarning: Using `tqdm.autonotebook.tqdm` in notebook mode. Use `tqdm.tqdm` instead to force console mode (e.g. in jupyter console)\n",
      "  from tqdm.autonotebook import tqdm\n"
     ]
    }
   ],
   "source": [
    "import os, sys\n",
    "sys.path.append(os.path.abspath(os.path.join('../../..'))) # access sibling directories\n",
    "sys.path.append(os.path.abspath(os.path.join('../../../../BayesFlow_dev/BayesFlow/')))\n",
    "\n",
    "from src.python.settings import summary_meta_validation, probability_meta_validation\n",
    "from src.python.networks import HierarchicalInvariantNetwork, ModelProbabilityNetwork\n",
    "from src.python.models import HierarchicalSdtMptSimulator, MainSimulator\n",
    "from src.python.losses import softmax_loss\n",
    "from src.python.helpers import n_clust_obs_f_f, get_repeated_predictions, get_preds_and_bfs\n",
    "from src.python.visualization import perf_tester, plot_calibration_curve_repetition_uncertainty\n",
    "\n",
    "import numpy as np\n",
    "import bayesflow as bf\n",
    "import pandas as pd\n",
    "from tensorflow.keras.experimental import CosineDecay\n",
    "from tensorflow.keras.optimizers import Adam\n",
    "from functools import partial\n",
    "from time import perf_counter\n",
    "from datetime import datetime, timezone, timedelta\n",
    "import matplotlib.pyplot as plt\n"
   ]
  },
  {
   "attachments": {},
   "cell_type": "markdown",
   "metadata": {},
   "source": [
    "# Set up simulators"
   ]
  },
  {
   "cell_type": "code",
   "execution_count": 3,
   "metadata": {},
   "outputs": [],
   "source": [
    "# Sample size\n",
    "n_clusters = 25\n",
    "n_obs = 50"
   ]
  },
  {
   "cell_type": "code",
   "execution_count": 4,
   "metadata": {},
   "outputs": [],
   "source": [
    "# Generative models\n",
    "sdtmpt_model = HierarchicalSdtMptSimulator()\n",
    "\n",
    "sdt_simulator = partial(sdtmpt_model.generate_batch, model_index=0, n_clusters=n_clusters, n_obs=n_obs, n_vars=2)\n",
    "mpt_simulator = partial(sdtmpt_model.generate_batch, model_index=1, n_clusters=n_clusters, n_obs=n_obs, n_vars=2)\n",
    "meta_model = bf.simulation.MultiGenerativeModel([sdt_simulator, mpt_simulator])"
   ]
  },
  {
   "attachments": {},
   "cell_type": "markdown",
   "metadata": {},
   "source": [
    "# Set up networks"
   ]
  },
  {
   "cell_type": "code",
   "execution_count": 8,
   "metadata": {},
   "outputs": [],
   "source": [
    "summary_net = bf.summary_networks.HierarchicalNetwork([bf.networks.DeepSet(), bf.networks.DeepSet()])\n",
    "probability_net = bf.inference_networks.PMPNetwork(num_models=2, dropout=False)\n",
    "amortizer = bf.amortizers.AmortizedModelComparison(probability_net, summary_net)"
   ]
  },
  {
   "cell_type": "code",
   "execution_count": 9,
   "metadata": {},
   "outputs": [
    {
     "name": "stderr",
     "output_type": "stream",
     "text": [
      "INFO:root:Initialized empty loss history.\n",
      "INFO:root:Initialized networks from scratch.\n",
      "INFO:root:Performing a consistency check with provided components...\n",
      "INFO:root:Done.\n"
     ]
    }
   ],
   "source": [
    "# Training steps\n",
    "epochs = 30 \n",
    "iterations_per_epoch = 1000\n",
    "\n",
    "# Checkpoint path for loading pretrained network and saving the final network\n",
    "checkpoint_path = 'C:/Users/lasse/OneDrive/Ph.D/Projekte/hierarchical_model_comparison/checkpoints/02_bridge_sampling_comparison/non_nested_models'\n",
    "\n",
    "trainer = bf.trainers.Trainer(\n",
    "    amortizer=amortizer, \n",
    "    generative_model=meta_model, \n",
    "    checkpoint_path=checkpoint_path, \n",
    "    memory=False)"
   ]
  },
  {
   "attachments": {},
   "cell_type": "markdown",
   "metadata": {},
   "source": [
    "# Train"
   ]
  },
  {
   "cell_type": "code",
   "execution_count": 11,
   "metadata": {},
   "outputs": [
    {
     "data": {
      "application/vnd.jupyter.widget-view+json": {
       "model_id": "04b62f818806466cb09348a731000a83",
       "version_major": 2,
       "version_minor": 0
      },
      "text/plain": [
       "Training epoch 1:   0%|          | 0/1000 [00:00<?, ?it/s]"
      ]
     },
     "metadata": {},
     "output_type": "display_data"
    },
    {
     "data": {
      "application/vnd.jupyter.widget-view+json": {
       "model_id": "f96a50fde530435ab74e8661893dadf6",
       "version_major": 2,
       "version_minor": 0
      },
      "text/plain": [
       "Training epoch 2:   0%|          | 0/1000 [00:00<?, ?it/s]"
      ]
     },
     "metadata": {},
     "output_type": "display_data"
    },
    {
     "data": {
      "application/vnd.jupyter.widget-view+json": {
       "model_id": "2574615a073840c7b979a02b56c2e6ff",
       "version_major": 2,
       "version_minor": 0
      },
      "text/plain": [
       "Training epoch 3:   0%|          | 0/1000 [00:00<?, ?it/s]"
      ]
     },
     "metadata": {},
     "output_type": "display_data"
    },
    {
     "data": {
      "application/vnd.jupyter.widget-view+json": {
       "model_id": "3af43ab92eab4aaebdc0f17d0f2d2ef5",
       "version_major": 2,
       "version_minor": 0
      },
      "text/plain": [
       "Training epoch 4:   0%|          | 0/1000 [00:00<?, ?it/s]"
      ]
     },
     "metadata": {},
     "output_type": "display_data"
    },
    {
     "data": {
      "application/vnd.jupyter.widget-view+json": {
       "model_id": "068289d446e841258239aa0be65f7c8b",
       "version_major": 2,
       "version_minor": 0
      },
      "text/plain": [
       "Training epoch 5:   0%|          | 0/1000 [00:00<?, ?it/s]"
      ]
     },
     "metadata": {},
     "output_type": "display_data"
    },
    {
     "data": {
      "application/vnd.jupyter.widget-view+json": {
       "model_id": "acb0c0d0003343c680aa469c8b266441",
       "version_major": 2,
       "version_minor": 0
      },
      "text/plain": [
       "Training epoch 6:   0%|          | 0/1000 [00:00<?, ?it/s]"
      ]
     },
     "metadata": {},
     "output_type": "display_data"
    },
    {
     "data": {
      "application/vnd.jupyter.widget-view+json": {
       "model_id": "28a01d5810b34e25ba699270e534db75",
       "version_major": 2,
       "version_minor": 0
      },
      "text/plain": [
       "Training epoch 7:   0%|          | 0/1000 [00:00<?, ?it/s]"
      ]
     },
     "metadata": {},
     "output_type": "display_data"
    },
    {
     "data": {
      "application/vnd.jupyter.widget-view+json": {
       "model_id": "a388c7f1aa6e47de9cfea2ae97070a39",
       "version_major": 2,
       "version_minor": 0
      },
      "text/plain": [
       "Training epoch 8:   0%|          | 0/1000 [00:00<?, ?it/s]"
      ]
     },
     "metadata": {},
     "output_type": "display_data"
    },
    {
     "data": {
      "application/vnd.jupyter.widget-view+json": {
       "model_id": "a225a05419024176a0eed1fad03a707b",
       "version_major": 2,
       "version_minor": 0
      },
      "text/plain": [
       "Training epoch 9:   0%|          | 0/1000 [00:00<?, ?it/s]"
      ]
     },
     "metadata": {},
     "output_type": "display_data"
    },
    {
     "data": {
      "application/vnd.jupyter.widget-view+json": {
       "model_id": "618a3394905942cfa234dbc897b56007",
       "version_major": 2,
       "version_minor": 0
      },
      "text/plain": [
       "Training epoch 10:   0%|          | 0/1000 [00:00<?, ?it/s]"
      ]
     },
     "metadata": {},
     "output_type": "display_data"
    },
    {
     "data": {
      "application/vnd.jupyter.widget-view+json": {
       "model_id": "a6c1144f57af4464aa830dd5b414ef39",
       "version_major": 2,
       "version_minor": 0
      },
      "text/plain": [
       "Training epoch 11:   0%|          | 0/1000 [00:00<?, ?it/s]"
      ]
     },
     "metadata": {},
     "output_type": "display_data"
    },
    {
     "data": {
      "application/vnd.jupyter.widget-view+json": {
       "model_id": "9b5628c7d8e24523aa67ad90b8a20e01",
       "version_major": 2,
       "version_minor": 0
      },
      "text/plain": [
       "Training epoch 12:   0%|          | 0/1000 [00:00<?, ?it/s]"
      ]
     },
     "metadata": {},
     "output_type": "display_data"
    },
    {
     "data": {
      "application/vnd.jupyter.widget-view+json": {
       "model_id": "2c1bb6eac0c94622b6a5d2d77d63d1b0",
       "version_major": 2,
       "version_minor": 0
      },
      "text/plain": [
       "Training epoch 13:   0%|          | 0/1000 [00:00<?, ?it/s]"
      ]
     },
     "metadata": {},
     "output_type": "display_data"
    },
    {
     "data": {
      "application/vnd.jupyter.widget-view+json": {
       "model_id": "54b6293a59504fe0a5500a3ffe7e61ed",
       "version_major": 2,
       "version_minor": 0
      },
      "text/plain": [
       "Training epoch 14:   0%|          | 0/1000 [00:00<?, ?it/s]"
      ]
     },
     "metadata": {},
     "output_type": "display_data"
    },
    {
     "data": {
      "application/vnd.jupyter.widget-view+json": {
       "model_id": "0247cb205f9b4111999d012487c58083",
       "version_major": 2,
       "version_minor": 0
      },
      "text/plain": [
       "Training epoch 15:   0%|          | 0/1000 [00:00<?, ?it/s]"
      ]
     },
     "metadata": {},
     "output_type": "display_data"
    },
    {
     "data": {
      "application/vnd.jupyter.widget-view+json": {
       "model_id": "eb91ef1083e740b396d9bfb3251fd547",
       "version_major": 2,
       "version_minor": 0
      },
      "text/plain": [
       "Training epoch 16:   0%|          | 0/1000 [00:00<?, ?it/s]"
      ]
     },
     "metadata": {},
     "output_type": "display_data"
    },
    {
     "data": {
      "application/vnd.jupyter.widget-view+json": {
       "model_id": "52dc4a17ee2d4705b56f44e4a9c84dfb",
       "version_major": 2,
       "version_minor": 0
      },
      "text/plain": [
       "Training epoch 17:   0%|          | 0/1000 [00:00<?, ?it/s]"
      ]
     },
     "metadata": {},
     "output_type": "display_data"
    },
    {
     "data": {
      "application/vnd.jupyter.widget-view+json": {
       "model_id": "eaf91ecad33d466b9f4cde2744900200",
       "version_major": 2,
       "version_minor": 0
      },
      "text/plain": [
       "Training epoch 18:   0%|          | 0/1000 [00:00<?, ?it/s]"
      ]
     },
     "metadata": {},
     "output_type": "display_data"
    },
    {
     "data": {
      "application/vnd.jupyter.widget-view+json": {
       "model_id": "3942bc354b914065bee4a290b05baeb0",
       "version_major": 2,
       "version_minor": 0
      },
      "text/plain": [
       "Training epoch 19:   0%|          | 0/1000 [00:00<?, ?it/s]"
      ]
     },
     "metadata": {},
     "output_type": "display_data"
    },
    {
     "data": {
      "application/vnd.jupyter.widget-view+json": {
       "model_id": "939a968f2f644a60bf621d67b1c6e9cf",
       "version_major": 2,
       "version_minor": 0
      },
      "text/plain": [
       "Training epoch 20:   0%|          | 0/1000 [00:00<?, ?it/s]"
      ]
     },
     "metadata": {},
     "output_type": "display_data"
    },
    {
     "data": {
      "application/vnd.jupyter.widget-view+json": {
       "model_id": "51eef82020ae4a91adb380fc670423b3",
       "version_major": 2,
       "version_minor": 0
      },
      "text/plain": [
       "Training epoch 21:   0%|          | 0/1000 [00:00<?, ?it/s]"
      ]
     },
     "metadata": {},
     "output_type": "display_data"
    },
    {
     "data": {
      "application/vnd.jupyter.widget-view+json": {
       "model_id": "2bdc46debdd846d9ae09c1c8835d26a7",
       "version_major": 2,
       "version_minor": 0
      },
      "text/plain": [
       "Training epoch 22:   0%|          | 0/1000 [00:00<?, ?it/s]"
      ]
     },
     "metadata": {},
     "output_type": "display_data"
    },
    {
     "data": {
      "application/vnd.jupyter.widget-view+json": {
       "model_id": "b3bc90f62dd34b40b5ccd358e7f5ee80",
       "version_major": 2,
       "version_minor": 0
      },
      "text/plain": [
       "Training epoch 23:   0%|          | 0/1000 [00:00<?, ?it/s]"
      ]
     },
     "metadata": {},
     "output_type": "display_data"
    },
    {
     "data": {
      "application/vnd.jupyter.widget-view+json": {
       "model_id": "84dab64c61b649ddb025879c435436b3",
       "version_major": 2,
       "version_minor": 0
      },
      "text/plain": [
       "Training epoch 24:   0%|          | 0/1000 [00:00<?, ?it/s]"
      ]
     },
     "metadata": {},
     "output_type": "display_data"
    },
    {
     "data": {
      "application/vnd.jupyter.widget-view+json": {
       "model_id": "e64a00562ed74a46a08f906a6d8428e3",
       "version_major": 2,
       "version_minor": 0
      },
      "text/plain": [
       "Training epoch 25:   0%|          | 0/1000 [00:00<?, ?it/s]"
      ]
     },
     "metadata": {},
     "output_type": "display_data"
    },
    {
     "ename": "KeyboardInterrupt",
     "evalue": "",
     "output_type": "error",
     "traceback": [
      "\u001b[1;31m---------------------------------------------------------------------------\u001b[0m",
      "\u001b[1;31mKeyboardInterrupt\u001b[0m                         Traceback (most recent call last)",
      "Cell \u001b[1;32mIn[11], line 2\u001b[0m\n\u001b[0;32m      1\u001b[0m training_time_start \u001b[39m=\u001b[39m perf_counter()\n\u001b[1;32m----> 2\u001b[0m losses \u001b[39m=\u001b[39m trainer\u001b[39m.\u001b[39;49mtrain_online(\n\u001b[0;32m      3\u001b[0m     epochs\u001b[39m=\u001b[39;49mepochs, iterations_per_epoch\u001b[39m=\u001b[39;49miterations_per_epoch, batch_size\u001b[39m=\u001b[39;49m\u001b[39m32\u001b[39;49m)\n\u001b[0;32m      4\u001b[0m training_time_stop \u001b[39m=\u001b[39m perf_counter()\n",
      "File \u001b[1;32mc:\\Users\\lasse\\projects\\BayesFlow_dev\\BayesFlow\\bayesflow\\trainers.py:419\u001b[0m, in \u001b[0;36mTrainer.train_online\u001b[1;34m(self, epochs, iterations_per_epoch, batch_size, save_checkpoint, optimizer, reuse_optimizer, early_stopping, use_autograph, validation_sims, **kwargs)\u001b[0m\n\u001b[0;32m    416\u001b[0m loss \u001b[39m=\u001b[39m \u001b[39mself\u001b[39m\u001b[39m.\u001b[39m_train_step(batch_size, update_step\u001b[39m=\u001b[39m_backprop_step, \u001b[39m*\u001b[39m\u001b[39m*\u001b[39mkwargs)\n\u001b[0;32m    418\u001b[0m \u001b[39m# Store returned loss\u001b[39;00m\n\u001b[1;32m--> 419\u001b[0m \u001b[39mself\u001b[39;49m\u001b[39m.\u001b[39;49mloss_history\u001b[39m.\u001b[39;49madd_entry(ep, loss)\n\u001b[0;32m    421\u001b[0m \u001b[39m# Compute running loss\u001b[39;00m\n\u001b[0;32m    422\u001b[0m avg_dict \u001b[39m=\u001b[39m \u001b[39mself\u001b[39m\u001b[39m.\u001b[39mloss_history\u001b[39m.\u001b[39mget_running_losses(ep)\n",
      "File \u001b[1;32mc:\\Users\\lasse\\projects\\BayesFlow_dev\\BayesFlow\\bayesflow\\helper_classes.py:540\u001b[0m, in \u001b[0;36mLossHistory.add_entry\u001b[1;34m(self, epoch, current_loss)\u001b[0m\n\u001b[0;32m    536\u001b[0m     \u001b[39mself\u001b[39m\u001b[39m.\u001b[39m_total_loss\u001b[39m.\u001b[39mappend(\u001b[39msum\u001b[39m(entry))\n\u001b[0;32m    538\u001b[0m \u001b[39m# Assume scalar loss output\u001b[39;00m\n\u001b[0;32m    539\u001b[0m \u001b[39melse\u001b[39;00m:\n\u001b[1;32m--> 540\u001b[0m     \u001b[39mself\u001b[39m\u001b[39m.\u001b[39mhistory[\u001b[39mf\u001b[39m\u001b[39m\"\u001b[39m\u001b[39mRun \u001b[39m\u001b[39m{\u001b[39;00m\u001b[39mself\u001b[39m\u001b[39m.\u001b[39m_current_run\u001b[39m}\u001b[39;00m\u001b[39m\"\u001b[39m][\u001b[39mf\u001b[39m\u001b[39m\"\u001b[39m\u001b[39mEpoch \u001b[39m\u001b[39m{\u001b[39;00mepoch\u001b[39m}\u001b[39;00m\u001b[39m\"\u001b[39m]\u001b[39m.\u001b[39mappend(current_loss\u001b[39m.\u001b[39;49mnumpy())\n\u001b[0;32m    541\u001b[0m     \u001b[39m# Store keys, if none existing\u001b[39;00m\n\u001b[0;32m    542\u001b[0m     \u001b[39mif\u001b[39;00m \u001b[39mself\u001b[39m\u001b[39m.\u001b[39mloss_names \u001b[39m==\u001b[39m []:\n",
      "File \u001b[1;32mc:\\Users\\lasse\\anaconda3\\envs\\bf\\lib\\site-packages\\tensorflow\\python\\framework\\ops.py:1157\u001b[0m, in \u001b[0;36m_EagerTensorBase.numpy\u001b[1;34m(self)\u001b[0m\n\u001b[0;32m   1134\u001b[0m \u001b[39m\u001b[39m\u001b[39m\"\"\"Copy of the contents of this Tensor into a NumPy array or scalar.\u001b[39;00m\n\u001b[0;32m   1135\u001b[0m \n\u001b[0;32m   1136\u001b[0m \u001b[39mUnlike NumPy arrays, Tensors are immutable, so this method has to copy\u001b[39;00m\n\u001b[1;32m   (...)\u001b[0m\n\u001b[0;32m   1154\u001b[0m \u001b[39m    NumPy dtype.\u001b[39;00m\n\u001b[0;32m   1155\u001b[0m \u001b[39m\"\"\"\u001b[39;00m\n\u001b[0;32m   1156\u001b[0m \u001b[39m# TODO(slebedev): Consider avoiding a copy for non-CPU or remote tensors.\u001b[39;00m\n\u001b[1;32m-> 1157\u001b[0m maybe_arr \u001b[39m=\u001b[39m \u001b[39mself\u001b[39;49m\u001b[39m.\u001b[39;49m_numpy()  \u001b[39m# pylint: disable=protected-access\u001b[39;00m\n\u001b[0;32m   1158\u001b[0m \u001b[39mreturn\u001b[39;00m maybe_arr\u001b[39m.\u001b[39mcopy() \u001b[39mif\u001b[39;00m \u001b[39misinstance\u001b[39m(maybe_arr, np\u001b[39m.\u001b[39mndarray) \u001b[39melse\u001b[39;00m maybe_arr\n",
      "File \u001b[1;32mc:\\Users\\lasse\\anaconda3\\envs\\bf\\lib\\site-packages\\tensorflow\\python\\framework\\ops.py:1123\u001b[0m, in \u001b[0;36m_EagerTensorBase._numpy\u001b[1;34m(self)\u001b[0m\n\u001b[0;32m   1121\u001b[0m \u001b[39mdef\u001b[39;00m \u001b[39m_numpy\u001b[39m(\u001b[39mself\u001b[39m):\n\u001b[0;32m   1122\u001b[0m   \u001b[39mtry\u001b[39;00m:\n\u001b[1;32m-> 1123\u001b[0m     \u001b[39mreturn\u001b[39;00m \u001b[39mself\u001b[39;49m\u001b[39m.\u001b[39;49m_numpy_internal()\n\u001b[0;32m   1124\u001b[0m   \u001b[39mexcept\u001b[39;00m core\u001b[39m.\u001b[39m_NotOkStatusException \u001b[39mas\u001b[39;00m e:  \u001b[39m# pylint: disable=protected-access\u001b[39;00m\n\u001b[0;32m   1125\u001b[0m     \u001b[39mraise\u001b[39;00m core\u001b[39m.\u001b[39m_status_to_exception(e) \u001b[39mfrom\u001b[39;00m \u001b[39mNone\u001b[39;00m\n",
      "\u001b[1;31mKeyboardInterrupt\u001b[0m: "
     ]
    }
   ],
   "source": [
    "training_time_start = perf_counter()\n",
    "losses = trainer.train_online(\n",
    "    epochs=epochs, iterations_per_epoch=iterations_per_epoch, batch_size=32)\n",
    "training_time_stop = perf_counter()"
   ]
  },
  {
   "attachments": {},
   "cell_type": "markdown",
   "metadata": {},
   "source": [
    "# Validate"
   ]
  },
  {
   "cell_type": "code",
   "execution_count": null,
   "metadata": {},
   "outputs": [
    {
     "ename": "NameError",
     "evalue": "name 'simulator' is not defined",
     "output_type": "error",
     "traceback": [
      "\u001b[1;31m---------------------------------------------------------------------------\u001b[0m",
      "\u001b[1;31mNameError\u001b[0m                                 Traceback (most recent call last)",
      "Cell \u001b[1;32mIn[21], line 4\u001b[0m\n\u001b[0;32m      1\u001b[0m \u001b[39m# Simulate data\u001b[39;00m\n\u001b[0;32m      2\u001b[0m n_data_sets \u001b[39m=\u001b[39m \u001b[39m5000\u001b[39m\n\u001b[1;32m----> 4\u001b[0m m_val, _, x_val \u001b[39m=\u001b[39m simulator(batch_size\u001b[39m=\u001b[39mn_data_sets, n_obs\u001b[39m=\u001b[39mn_clust_obs_f_f(n_clusters, n_obs), n_vars\u001b[39m=\u001b[39m\u001b[39m2\u001b[39m)\n\u001b[0;32m      5\u001b[0m val_data \u001b[39m=\u001b[39m {\u001b[39m'\u001b[39m\u001b[39mX\u001b[39m\u001b[39m'\u001b[39m : x_val, \u001b[39m'\u001b[39m\u001b[39mm\u001b[39m\u001b[39m'\u001b[39m : m_val}\n",
      "\u001b[1;31mNameError\u001b[0m: name 'simulator' is not defined"
     ]
    }
   ],
   "source": [
    "# Simulate data\n",
    "n_data_sets = 5000\n",
    "\n",
    "m_val, _, x_val = simulator(batch_size=n_data_sets, n_obs=n_clust_obs_f_f(n_clusters, n_obs), n_vars=2)\n",
    "val_data = {'X' : x_val, 'm' : m_val}"
   ]
  },
  {
   "cell_type": "code",
   "execution_count": 12,
   "metadata": {},
   "outputs": [],
   "source": [
    "# Simulate validation data\n",
    "sim_data = [trainer.configurator(meta_model(100)) for _ in range(50)]\n",
    "sim_indices = np.concatenate([s[\"model_indices\"] for s in sim_data])\n",
    "model_probs = np.concatenate([amortizer.posterior_probs(s) for s in sim_data])"
   ]
  },
  {
   "cell_type": "code",
   "execution_count": 13,
   "metadata": {},
   "outputs": [
    {
     "data": {
      "image/png": "[encoded data removed]",
      "text/plain": [
       "<Figure size 1000x500 with 2 Axes>"
      ]
     },
     "metadata": {},
     "output_type": "display_data"
    }
   ],
   "source": [
    "cal_curves = bf.diagnostics.plot_calibration_curves(sim_indices, model_probs)"
   ]
  },
  {
   "cell_type": "code",
   "execution_count": null,
   "metadata": {},
   "outputs": [
    {
     "ename": "NameError",
     "evalue": "name 'probability_net' is not defined",
     "output_type": "error",
     "traceback": [
      "\u001b[1;31m---------------------------------------------------------------------------\u001b[0m",
      "\u001b[1;31mNameError\u001b[0m                                 Traceback (most recent call last)",
      "Cell \u001b[1;32mIn[35], line 1\u001b[0m\n\u001b[1;32m----> 1\u001b[0m probability_net\u001b[39m.\u001b[39mposterior_probs(summary_net(sim_data[\u001b[39m0\u001b[39m]))\n",
      "\u001b[1;31mNameError\u001b[0m: name 'probability_net' is not defined"
     ]
    }
   ],
   "source": [
    "probability_net.posterior_probs(summary_net(sim_data[0]))"
   ]
  },
  {
   "cell_type": "code",
   "execution_count": null,
   "metadata": {},
   "outputs": [
    {
     "ename": "TypeError",
     "evalue": "list indices must be integers or slices, not str",
     "output_type": "error",
     "traceback": [
      "\u001b[1;31m---------------------------------------------------------------------------\u001b[0m",
      "\u001b[1;31mTypeError\u001b[0m                                 Traceback (most recent call last)",
      "Cell \u001b[1;32mIn[25], line 2\u001b[0m\n\u001b[0;32m      1\u001b[0m \u001b[39m# Test performance \u001b[39;00m\n\u001b[1;32m----> 2\u001b[0m perf_tester(inference_net, summary_net, sim_data, n_cal_bins\u001b[39m=\u001b[39;49m\u001b[39m15\u001b[39;49m)\n",
      "File \u001b[1;32mc:\\Users\\lasse\\projects\\hierarchical_model_comparison\\src\\python\\visualization.py:138\u001b[0m, in \u001b[0;36mperf_tester\u001b[1;34m(probability_net, summary_net, val_data, n_bootstrap, n_cal_bins, pub_style, save)\u001b[0m\n\u001b[0;32m    135\u001b[0m \u001b[39m\u001b[39m\u001b[39m\"\"\"Helper function to test the performance of the model.\"\"\"\u001b[39;00m\n\u001b[0;32m    137\u001b[0m \u001b[39m# Compute model predictions in chunks so GPU memory does not blow-up\u001b[39;00m\n\u001b[1;32m--> 138\u001b[0m m_soft \u001b[39m=\u001b[39m tf\u001b[39m.\u001b[39mconcat([probability_net\u001b[39m.\u001b[39mpredict(summary_net(x_chunk))[\u001b[39m'\u001b[39m\u001b[39mm_probs\u001b[39m\u001b[39m'\u001b[39m][:, \u001b[39m1\u001b[39m] \u001b[39mfor\u001b[39;00m x_chunk \u001b[39min\u001b[39;00m tf\u001b[39m.\u001b[39msplit(val_data[\u001b[39m'\u001b[39;49m\u001b[39mX\u001b[39;49m\u001b[39m'\u001b[39;49m], \u001b[39m20\u001b[39m)], axis\u001b[39m=\u001b[39m\u001b[39m0\u001b[39m)\u001b[39m.\u001b[39mnumpy()\n\u001b[0;32m    139\u001b[0m m_hard \u001b[39m=\u001b[39m (m_soft \u001b[39m>\u001b[39m \u001b[39m0.5\u001b[39m)\u001b[39m.\u001b[39mastype(np\u001b[39m.\u001b[39mint32)\n\u001b[0;32m    140\u001b[0m m_true \u001b[39m=\u001b[39m val_data[\u001b[39m'\u001b[39m\u001b[39mm\u001b[39m\u001b[39m'\u001b[39m][:, \u001b[39m1\u001b[39m]\n",
      "\u001b[1;31mTypeError\u001b[0m: list indices must be integers or slices, not str"
     ]
    }
   ],
   "source": [
    "# Test performance \n",
    "perf_tester(inference_net, summary_net, sim_data, n_cal_bins=15)"
   ]
  },
  {
   "cell_type": "code",
   "execution_count": null,
   "metadata": {},
   "outputs": [
    {
     "name": "stdout",
     "output_type": "stream",
     "text": [
      "Median ECE = 0.009618807224562554\n",
      "Median accuracy = 0.9324\n"
     ]
    },
    {
     "data": {
      "image/png": "[encoded data removed]",
      "text/plain": [
       "<Figure size 360x360 with 1 Axes>"
      ]
     },
     "metadata": {},
     "output_type": "display_data"
    }
   ],
   "source": [
    "# Plot calibration with repetition uncertainty\n",
    "n_repetitions = 25\n",
    "\n",
    "fig, ax = plt.subplots(1, 1, figsize=(5,5))\n",
    "m_true_r, m_soft_r = get_repeated_predictions(probability_net, summary_net, \n",
    "                                              partial(simulator, batch_size=n_data_sets, n_obs=n_clust_obs_f_f(n_clusters, n_obs), n_vars=2), \n",
    "                                              n_models=2, n_repetitions=n_repetitions)\n",
    "\n",
    "plot_calibration_curve_repetition_uncertainty(m_true_r[:,:,1], m_soft_r[:,:,1], narrow_ci=[0.25, 0.75], wide_ci=[0.025, 0.975], n_bins=15, ax=ax, print_accuracy=True,\n",
    "                                              xlabel=True, ylabel=True, title=None, show_ece=True, show_legend=True)\n",
    "\n",
    "fig.savefig('calibration_SDTMPT.pdf', dpi=300, bbox_inches='tight')"
   ]
  },
  {
   "cell_type": "code",
   "execution_count": null,
   "metadata": {},
   "outputs": [],
   "source": [
    "# Save training meta-information for bridge sampling comparison? \n",
    "# (so that network can be loaded from checkpoint)\n",
    "save_training_vars = False\n",
    "\n",
    "if save_training_vars:\n",
    "    folder = os.path.join(os.path.dirname(os.path.dirname(os.path.dirname(os.getcwd()))),'data', '01_calibration_validation', '03_variable')\n",
    "\n",
    "    np.save(os.path.join(folder, 'training_time_start'), training_time_start, allow_pickle=True)\n",
    "    np.save(os.path.join(folder, 'training_time_stop'), training_time_stop, allow_pickle=True)\n",
    "    np.save(os.path.join(folder, 'losses'), losses, allow_pickle=True)"
   ]
  },
  {
   "attachments": {},
   "cell_type": "markdown",
   "metadata": {},
   "source": [
    "# Calculate Bayes factors for bridge sampling comparison"
   ]
  },
  {
   "cell_type": "code",
   "execution_count": null,
   "metadata": {},
   "outputs": [],
   "source": [
    "# Import training meta-information? \n",
    "# (use if network was loaded from checkpoint)\n",
    "import_training_vars = False\n",
    "\n",
    "if import_training_vars:\n",
    "    folder = os.path.join(os.path.dirname(os.path.dirname(os.path.dirname(os.getcwd()))),'data', '01_calibration_validation', '03_variable')\n",
    "\n",
    "    training_time_start = np.load(os.path.join(folder, 'training_time_start.npy'), allow_pickle=True)\n",
    "    training_time_stop = np.load(os.path.join(folder, 'training_time_stop.npy'), allow_pickle=True)\n",
    "    losses = np.load(os.path.join(folder, 'losses.npy'), allow_pickle=True).item()"
   ]
  },
  {
   "cell_type": "code",
   "execution_count": null,
   "metadata": {},
   "outputs": [],
   "source": [
    "# Import test data\n",
    "val_folder = os.path.join(os.path.dirname(os.path.dirname(os.path.dirname(os.getcwd()))),'data', '02_bridge_sampling_comparison','non_nested_models')\n",
    "data_filename = \"test_data.npy\"\n",
    "test_data = np.load(os.path.join(val_folder, data_filename), allow_pickle=True).item()"
   ]
  },
  {
   "cell_type": "code",
   "execution_count": null,
   "metadata": {},
   "outputs": [
    {
     "data": {
      "text/html": [
       "<div>\n",
       "<style scoped>\n",
       "    .dataframe tbody tr th:only-of-type {\n",
       "        vertical-align: middle;\n",
       "    }\n",
       "\n",
       "    .dataframe tbody tr th {\n",
       "        vertical-align: top;\n",
       "    }\n",
       "\n",
       "    .dataframe thead th {\n",
       "        text-align: right;\n",
       "    }\n",
       "</style>\n",
       "<table border=\"1\" class=\"dataframe\">\n",
       "  <thead>\n",
       "    <tr style=\"text-align: right;\">\n",
       "      <th></th>\n",
       "      <th>dataset</th>\n",
       "      <th>true_model</th>\n",
       "      <th>m0_prob</th>\n",
       "      <th>m1_prob</th>\n",
       "      <th>selected_model</th>\n",
       "      <th>bayes_factor</th>\n",
       "      <th>training_time</th>\n",
       "      <th>inference_time</th>\n",
       "      <th>final_epoch_loss</th>\n",
       "    </tr>\n",
       "  </thead>\n",
       "  <tbody>\n",
       "    <tr>\n",
       "      <th>0</th>\n",
       "      <td>1</td>\n",
       "      <td>0</td>\n",
       "      <td>0.986836</td>\n",
       "      <td>1.316385e-02</td>\n",
       "      <td>0</td>\n",
       "      <td>1.333945e-02</td>\n",
       "      <td>2154.584591</td>\n",
       "      <td>0.000181</td>\n",
       "      <td>0.19045</td>\n",
       "    </tr>\n",
       "    <tr>\n",
       "      <th>1</th>\n",
       "      <td>2</td>\n",
       "      <td>0</td>\n",
       "      <td>0.994437</td>\n",
       "      <td>5.562917e-03</td>\n",
       "      <td>0</td>\n",
       "      <td>5.594036e-03</td>\n",
       "      <td>2154.584591</td>\n",
       "      <td>0.000181</td>\n",
       "      <td>0.19045</td>\n",
       "    </tr>\n",
       "    <tr>\n",
       "      <th>2</th>\n",
       "      <td>3</td>\n",
       "      <td>0</td>\n",
       "      <td>1.000000</td>\n",
       "      <td>2.605674e-11</td>\n",
       "      <td>0</td>\n",
       "      <td>2.605674e-11</td>\n",
       "      <td>2154.584591</td>\n",
       "      <td>0.000181</td>\n",
       "      <td>0.19045</td>\n",
       "    </tr>\n",
       "    <tr>\n",
       "      <th>3</th>\n",
       "      <td>4</td>\n",
       "      <td>1</td>\n",
       "      <td>0.311261</td>\n",
       "      <td>6.887386e-01</td>\n",
       "      <td>1</td>\n",
       "      <td>2.212734e+00</td>\n",
       "      <td>2154.584591</td>\n",
       "      <td>0.000181</td>\n",
       "      <td>0.19045</td>\n",
       "    </tr>\n",
       "    <tr>\n",
       "      <th>4</th>\n",
       "      <td>5</td>\n",
       "      <td>0</td>\n",
       "      <td>0.999859</td>\n",
       "      <td>1.408465e-04</td>\n",
       "      <td>0</td>\n",
       "      <td>1.408664e-04</td>\n",
       "      <td>2154.584591</td>\n",
       "      <td>0.000181</td>\n",
       "      <td>0.19045</td>\n",
       "    </tr>\n",
       "  </tbody>\n",
       "</table>\n",
       "</div>"
      ],
      "text/plain": [
       "   dataset  true_model   m0_prob       m1_prob  selected_model  bayes_factor  \\\n",
       "0        1           0  0.986836  1.316385e-02               0  1.333945e-02   \n",
       "1        2           0  0.994437  5.562917e-03               0  5.594036e-03   \n",
       "2        3           0  1.000000  2.605674e-11               0  2.605674e-11   \n",
       "3        4           1  0.311261  6.887386e-01               1  2.212734e+00   \n",
       "4        5           0  0.999859  1.408465e-04               0  1.408664e-04   \n",
       "\n",
       "   training_time  inference_time  final_epoch_loss  \n",
       "0    2154.584591        0.000181           0.19045  \n",
       "1    2154.584591        0.000181           0.19045  \n",
       "2    2154.584591        0.000181           0.19045  \n",
       "3    2154.584591        0.000181           0.19045  \n",
       "4    2154.584591        0.000181           0.19045  "
      ]
     },
     "execution_count": 11,
     "metadata": {},
     "output_type": "execute_result"
    }
   ],
   "source": [
    "# Get NN predictions\n",
    "comparison_results = get_preds_and_bfs(probability_net, summary_net, test_data, training_time_start, training_time_stop, losses)\n",
    "comparison_results.head(5)"
   ]
  },
  {
   "cell_type": "code",
   "execution_count": null,
   "metadata": {},
   "outputs": [],
   "source": [
    "# Export results\n",
    "local_timezone = datetime.now(timezone(timedelta(0))).astimezone().tzinfo\n",
    "filename = pd.Timestamp.today(tz=local_timezone).strftime('%Y_%m_%d_BF_NN_softmax_30epochs')\n",
    "comparison_folder = os.path.join(os.path.dirname(os.path.dirname(os.path.dirname(os.getcwd()))),'data', '02_bridge_sampling_comparison','non_nested_models')\n",
    "\n",
    "comparison_results.to_csv(os.path.join(comparison_folder, filename), index = False)"
   ]
  }
 ],
 "metadata": {
  "kernelspec": {
   "display_name": "Python 3.8.13 ('tf')",
   "language": "python",
   "name": "python3"
  },
  "language_info": {
   "codemirror_mode": {
    "name": "ipython",
    "version": 3
   },
   "file_extension": ".py",
   "mimetype": "text/x-python",
   "name": "python",
   "nbconvert_exporter": "python",
   "pygments_lexer": "ipython3",
   "version": "3.10.10"
  },
  "orig_nbformat": 4,
  "vscode": {
   "interpreter": {
    "hash": "27a86c9f63fe2f1aa7d9f3c637434a8367b5c148236c1390e91d25c0e560ef1a"
   }
  }
 },
 "nbformat": 4,
 "nbformat_minor": 2
}
