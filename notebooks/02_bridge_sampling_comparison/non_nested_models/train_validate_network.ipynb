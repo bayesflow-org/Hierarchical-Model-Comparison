{
 "cells": [
  {
   "cell_type": "code",
   "execution_count": 1,
   "metadata": {},
   "outputs": [
    {
     "name": "stderr",
     "output_type": "stream",
     "text": [
      "c:\\Users\\lasse\\projects\\BayesFlow_dev\\BayesFlow\\bayesflow\\trainers.py:26: TqdmExperimentalWarning: Using `tqdm.autonotebook.tqdm` in notebook mode. Use `tqdm.tqdm` instead to force console mode (e.g. in jupyter console)\n",
      "  from tqdm.autonotebook import tqdm\n"
     ]
    }
   ],
   "source": [
    "import os, sys\n",
    "\n",
    "sys.path.append(os.path.abspath(os.path.join(\"../../..\")))  # access sibling directories\n",
    "sys.path.append(os.path.abspath(os.path.join(\"../../../../BayesFlow_dev/BayesFlow/\")))\n",
    "\n",
    "from src.python.settings import summary_meta_validation, probability_meta_validation\n",
    "from src.python.models import HierarchicalSdtMptSimulator\n",
    "from src.python.helpers import get_repeated_predictions, get_preds_and_bfs\n",
    "from src.python.visualization import (\n",
    "    perf_tester,\n",
    "    plot_calibration_curve_repetition_uncertainty,\n",
    ")\n",
    "\n",
    "import bayesflow as bf\n",
    "import numpy as np\n",
    "import pandas as pd\n",
    "from functools import partial\n",
    "from time import perf_counter\n",
    "from datetime import datetime, timezone, timedelta\n",
    "import matplotlib.pyplot as plt"
   ]
  },
  {
   "attachments": {},
   "cell_type": "markdown",
   "metadata": {},
   "source": [
    "# Set up simulators"
   ]
  },
  {
   "cell_type": "code",
   "execution_count": 2,
   "metadata": {},
   "outputs": [],
   "source": [
    "# Sample size\n",
    "n_clusters = 25\n",
    "n_obs = 50"
   ]
  },
  {
   "cell_type": "code",
   "execution_count": 3,
   "metadata": {},
   "outputs": [],
   "source": [
    "# Generative models\n",
    "sdtmpt_model = HierarchicalSdtMptSimulator()\n",
    "\n",
    "sdt_simulator = partial(\n",
    "    sdtmpt_model.generate_batch, model_index=0, n_clusters=n_clusters, n_obs=n_obs\n",
    ")\n",
    "mpt_simulator = partial(\n",
    "    sdtmpt_model.generate_batch, model_index=1, n_clusters=n_clusters, n_obs=n_obs\n",
    ")\n",
    "meta_model = bf.simulation.MultiGenerativeModel([sdt_simulator, mpt_simulator])"
   ]
  },
  {
   "attachments": {},
   "cell_type": "markdown",
   "metadata": {},
   "source": [
    "# Set up networks"
   ]
  },
  {
   "cell_type": "code",
   "execution_count": 4,
   "metadata": {},
   "outputs": [],
   "source": [
    "summary_net = bf.summary_networks.HierarchicalNetwork([\n",
    "    bf.networks.DeepSet(dense_s1_args=summary_meta_validation['level_1']['inv_inner']['dense_inv_pre_pooling_args'],\n",
    "                        dense_s2_args=summary_meta_validation['level_1']['inv_outer']['dense_inv_post_pooling_args'],\n",
    "                        dense_s3_args=summary_meta_validation['level_1']['dense_equiv_args']), \n",
    "    bf.networks.DeepSet(dense_s1_args=summary_meta_validation['level_2']['inv_inner']['dense_inv_pre_pooling_args'],\n",
    "                        dense_s2_args=summary_meta_validation['level_2']['inv_outer']['dense_inv_post_pooling_args'],\n",
    "                        dense_s3_args=summary_meta_validation['level_2']['dense_equiv_args']) \n",
    "])\n",
    "probability_net = bf.inference_networks.PMPNetwork(num_models=2, \n",
    "                                                   dense_args=probability_meta_validation['dense_args'], \n",
    "                                                   dropout=False)\n",
    "amortizer = bf.amortizers.AmortizedModelComparison(probability_net, \n",
    "                                                   summary_net, \n",
    "                                                   loss_fun=partial(bf.losses.log_loss, label_smoothing=None))"
   ]
  },
  {
   "cell_type": "code",
   "execution_count": 5,
   "metadata": {},
   "outputs": [
    {
     "name": "stderr",
     "output_type": "stream",
     "text": [
      "INFO:root:Initialized empty loss history.\n",
      "INFO:root:Initialized networks from scratch.\n",
      "INFO:root:Performing a consistency check with provided components...\n",
      "INFO:root:Done.\n"
     ]
    }
   ],
   "source": [
    "# Training steps\n",
    "epochs = 40\n",
    "iterations_per_epoch = 1000\n",
    "\n",
    "# Checkpoint path for loading pretrained network and saving the final network\n",
    "checkpoint_path = \"C:/Users/lasse/OneDrive/Ph.D/Projekte/hierarchical_model_comparison/checkpoints/02_bridge_sampling_comparison/non_nested_models\"\n",
    "\n",
    "trainer = bf.trainers.Trainer(\n",
    "    amortizer=amortizer,\n",
    "    generative_model=meta_model,\n",
    "    default_lr=0.0002,\n",
    "    checkpoint_path=checkpoint_path,\n",
    ")"
   ]
  },
  {
   "attachments": {},
   "cell_type": "markdown",
   "metadata": {},
   "source": [
    "# Train"
   ]
  },
  {
   "cell_type": "code",
   "execution_count": 6,
   "metadata": {},
   "outputs": [
    {
     "data": {
      "application/vnd.jupyter.widget-view+json": {
       "model_id": "5dc499cba95b4c6183f12dc7d1f6f4d2",
       "version_major": 2,
       "version_minor": 0
      },
      "text/plain": [
       "Training epoch 1:   0%|          | 0/1000 [00:00<?, ?it/s]"
      ]
     },
     "metadata": {},
     "output_type": "display_data"
    },
    {
     "data": {
      "application/vnd.jupyter.widget-view+json": {
       "model_id": "593451fa0f524055b1e56455636a9083",
       "version_major": 2,
       "version_minor": 0
      },
      "text/plain": [
       "Training epoch 2:   0%|          | 0/1000 [00:00<?, ?it/s]"
      ]
     },
     "metadata": {},
     "output_type": "display_data"
    },
    {
     "data": {
      "application/vnd.jupyter.widget-view+json": {
       "model_id": "f03948ae500a4c0785f2c23817768ce8",
       "version_major": 2,
       "version_minor": 0
      },
      "text/plain": [
       "Training epoch 3:   0%|          | 0/1000 [00:00<?, ?it/s]"
      ]
     },
     "metadata": {},
     "output_type": "display_data"
    },
    {
     "data": {
      "application/vnd.jupyter.widget-view+json": {
       "model_id": "646178b15d564be99c0df2d40fef56df",
       "version_major": 2,
       "version_minor": 0
      },
      "text/plain": [
       "Training epoch 4:   0%|          | 0/1000 [00:00<?, ?it/s]"
      ]
     },
     "metadata": {},
     "output_type": "display_data"
    },
    {
     "data": {
      "application/vnd.jupyter.widget-view+json": {
       "model_id": "8f6f5c02227148abb2753bcc24cbf0d7",
       "version_major": 2,
       "version_minor": 0
      },
      "text/plain": [
       "Training epoch 5:   0%|          | 0/1000 [00:00<?, ?it/s]"
      ]
     },
     "metadata": {},
     "output_type": "display_data"
    },
    {
     "data": {
      "application/vnd.jupyter.widget-view+json": {
       "model_id": "5991072e518845a09f6d4446cf24355c",
       "version_major": 2,
       "version_minor": 0
      },
      "text/plain": [
       "Training epoch 6:   0%|          | 0/1000 [00:00<?, ?it/s]"
      ]
     },
     "metadata": {},
     "output_type": "display_data"
    },
    {
     "data": {
      "application/vnd.jupyter.widget-view+json": {
       "model_id": "2c47223aaab54e81b064436ddaef8577",
       "version_major": 2,
       "version_minor": 0
      },
      "text/plain": [
       "Training epoch 7:   0%|          | 0/1000 [00:00<?, ?it/s]"
      ]
     },
     "metadata": {},
     "output_type": "display_data"
    },
    {
     "data": {
      "application/vnd.jupyter.widget-view+json": {
       "model_id": "9f002a29d78a443ca63d2487d384adac",
       "version_major": 2,
       "version_minor": 0
      },
      "text/plain": [
       "Training epoch 8:   0%|          | 0/1000 [00:00<?, ?it/s]"
      ]
     },
     "metadata": {},
     "output_type": "display_data"
    },
    {
     "data": {
      "application/vnd.jupyter.widget-view+json": {
       "model_id": "b0bd32a3a7d645c7b98e09eeb226618b",
       "version_major": 2,
       "version_minor": 0
      },
      "text/plain": [
       "Training epoch 9:   0%|          | 0/1000 [00:00<?, ?it/s]"
      ]
     },
     "metadata": {},
     "output_type": "display_data"
    },
    {
     "data": {
      "application/vnd.jupyter.widget-view+json": {
       "model_id": "61df607e816248e1842fe364bba32889",
       "version_major": 2,
       "version_minor": 0
      },
      "text/plain": [
       "Training epoch 10:   0%|          | 0/1000 [00:00<?, ?it/s]"
      ]
     },
     "metadata": {},
     "output_type": "display_data"
    },
    {
     "data": {
      "application/vnd.jupyter.widget-view+json": {
       "model_id": "1dcfb21435904d719e42ef576ddee9d2",
       "version_major": 2,
       "version_minor": 0
      },
      "text/plain": [
       "Training epoch 11:   0%|          | 0/1000 [00:00<?, ?it/s]"
      ]
     },
     "metadata": {},
     "output_type": "display_data"
    },
    {
     "data": {
      "application/vnd.jupyter.widget-view+json": {
       "model_id": "050e237328a7418d9247e021201a604e",
       "version_major": 2,
       "version_minor": 0
      },
      "text/plain": [
       "Training epoch 12:   0%|          | 0/1000 [00:00<?, ?it/s]"
      ]
     },
     "metadata": {},
     "output_type": "display_data"
    },
    {
     "data": {
      "application/vnd.jupyter.widget-view+json": {
       "model_id": "b5dd7271c1634ecd8fb64928d52ea7cd",
       "version_major": 2,
       "version_minor": 0
      },
      "text/plain": [
       "Training epoch 13:   0%|          | 0/1000 [00:00<?, ?it/s]"
      ]
     },
     "metadata": {},
     "output_type": "display_data"
    },
    {
     "data": {
      "application/vnd.jupyter.widget-view+json": {
       "model_id": "232e18b2c9214611ab902af6bac1e759",
       "version_major": 2,
       "version_minor": 0
      },
      "text/plain": [
       "Training epoch 14:   0%|          | 0/1000 [00:00<?, ?it/s]"
      ]
     },
     "metadata": {},
     "output_type": "display_data"
    },
    {
     "data": {
      "application/vnd.jupyter.widget-view+json": {
       "model_id": "c6954527dbd94446b62c7f74a24788ee",
       "version_major": 2,
       "version_minor": 0
      },
      "text/plain": [
       "Training epoch 15:   0%|          | 0/1000 [00:00<?, ?it/s]"
      ]
     },
     "metadata": {},
     "output_type": "display_data"
    },
    {
     "data": {
      "application/vnd.jupyter.widget-view+json": {
       "model_id": "2b846b5e659341eea1ab0e70c9502819",
       "version_major": 2,
       "version_minor": 0
      },
      "text/plain": [
       "Training epoch 16:   0%|          | 0/1000 [00:00<?, ?it/s]"
      ]
     },
     "metadata": {},
     "output_type": "display_data"
    },
    {
     "data": {
      "application/vnd.jupyter.widget-view+json": {
       "model_id": "93958ece945a48ab82a232cbb4799580",
       "version_major": 2,
       "version_minor": 0
      },
      "text/plain": [
       "Training epoch 17:   0%|          | 0/1000 [00:00<?, ?it/s]"
      ]
     },
     "metadata": {},
     "output_type": "display_data"
    },
    {
     "data": {
      "application/vnd.jupyter.widget-view+json": {
       "model_id": "3ee1460479fe4b2a8167397dee1d06ee",
       "version_major": 2,
       "version_minor": 0
      },
      "text/plain": [
       "Training epoch 18:   0%|          | 0/1000 [00:00<?, ?it/s]"
      ]
     },
     "metadata": {},
     "output_type": "display_data"
    },
    {
     "data": {
      "application/vnd.jupyter.widget-view+json": {
       "model_id": "9792d1d3e3d54ccbaea91c0f5cb881e0",
       "version_major": 2,
       "version_minor": 0
      },
      "text/plain": [
       "Training epoch 19:   0%|          | 0/1000 [00:00<?, ?it/s]"
      ]
     },
     "metadata": {},
     "output_type": "display_data"
    },
    {
     "data": {
      "application/vnd.jupyter.widget-view+json": {
       "model_id": "df9036e1a92a48248475bc17e7effbcf",
       "version_major": 2,
       "version_minor": 0
      },
      "text/plain": [
       "Training epoch 20:   0%|          | 0/1000 [00:00<?, ?it/s]"
      ]
     },
     "metadata": {},
     "output_type": "display_data"
    },
    {
     "data": {
      "application/vnd.jupyter.widget-view+json": {
       "model_id": "16f522d0745f494483cb45c953d482e8",
       "version_major": 2,
       "version_minor": 0
      },
      "text/plain": [
       "Training epoch 21:   0%|          | 0/1000 [00:00<?, ?it/s]"
      ]
     },
     "metadata": {},
     "output_type": "display_data"
    },
    {
     "data": {
      "application/vnd.jupyter.widget-view+json": {
       "model_id": "8cce2a089b93462780ff540a5713cd64",
       "version_major": 2,
       "version_minor": 0
      },
      "text/plain": [
       "Training epoch 22:   0%|          | 0/1000 [00:00<?, ?it/s]"
      ]
     },
     "metadata": {},
     "output_type": "display_data"
    },
    {
     "data": {
      "application/vnd.jupyter.widget-view+json": {
       "model_id": "37c6612af5af409cb2604af293e273ae",
       "version_major": 2,
       "version_minor": 0
      },
      "text/plain": [
       "Training epoch 23:   0%|          | 0/1000 [00:00<?, ?it/s]"
      ]
     },
     "metadata": {},
     "output_type": "display_data"
    },
    {
     "data": {
      "application/vnd.jupyter.widget-view+json": {
       "model_id": "1af6708f2b1a490b9420bba0a1af4a35",
       "version_major": 2,
       "version_minor": 0
      },
      "text/plain": [
       "Training epoch 24:   0%|          | 0/1000 [00:00<?, ?it/s]"
      ]
     },
     "metadata": {},
     "output_type": "display_data"
    },
    {
     "data": {
      "application/vnd.jupyter.widget-view+json": {
       "model_id": "79c296ae6f0846298ca2f5ee78165c71",
       "version_major": 2,
       "version_minor": 0
      },
      "text/plain": [
       "Training epoch 25:   0%|          | 0/1000 [00:00<?, ?it/s]"
      ]
     },
     "metadata": {},
     "output_type": "display_data"
    },
    {
     "data": {
      "application/vnd.jupyter.widget-view+json": {
       "model_id": "5e76667b427c4b049e63dd6044013a7d",
       "version_major": 2,
       "version_minor": 0
      },
      "text/plain": [
       "Training epoch 26:   0%|          | 0/1000 [00:00<?, ?it/s]"
      ]
     },
     "metadata": {},
     "output_type": "display_data"
    },
    {
     "data": {
      "application/vnd.jupyter.widget-view+json": {
       "model_id": "bb7cf14f2be740a6b33ac6fa906d3f9f",
       "version_major": 2,
       "version_minor": 0
      },
      "text/plain": [
       "Training epoch 27:   0%|          | 0/1000 [00:00<?, ?it/s]"
      ]
     },
     "metadata": {},
     "output_type": "display_data"
    },
    {
     "data": {
      "application/vnd.jupyter.widget-view+json": {
       "model_id": "4da72075e4ec4b54962394b14c621908",
       "version_major": 2,
       "version_minor": 0
      },
      "text/plain": [
       "Training epoch 28:   0%|          | 0/1000 [00:00<?, ?it/s]"
      ]
     },
     "metadata": {},
     "output_type": "display_data"
    },
    {
     "data": {
      "application/vnd.jupyter.widget-view+json": {
       "model_id": "c524b7456e224107b58b7871f4e777c1",
       "version_major": 2,
       "version_minor": 0
      },
      "text/plain": [
       "Training epoch 29:   0%|          | 0/1000 [00:00<?, ?it/s]"
      ]
     },
     "metadata": {},
     "output_type": "display_data"
    },
    {
     "data": {
      "application/vnd.jupyter.widget-view+json": {
       "model_id": "bf098b8780354c20b17bb50788fd9a4f",
       "version_major": 2,
       "version_minor": 0
      },
      "text/plain": [
       "Training epoch 30:   0%|          | 0/1000 [00:00<?, ?it/s]"
      ]
     },
     "metadata": {},
     "output_type": "display_data"
    },
    {
     "data": {
      "application/vnd.jupyter.widget-view+json": {
       "model_id": "bd7c083be76b46698ed6749bf6ae8f49",
       "version_major": 2,
       "version_minor": 0
      },
      "text/plain": [
       "Training epoch 31:   0%|          | 0/1000 [00:00<?, ?it/s]"
      ]
     },
     "metadata": {},
     "output_type": "display_data"
    },
    {
     "data": {
      "application/vnd.jupyter.widget-view+json": {
       "model_id": "ac88d08e9a99427fa52063dbe7ff79ae",
       "version_major": 2,
       "version_minor": 0
      },
      "text/plain": [
       "Training epoch 32:   0%|          | 0/1000 [00:00<?, ?it/s]"
      ]
     },
     "metadata": {},
     "output_type": "display_data"
    },
    {
     "data": {
      "application/vnd.jupyter.widget-view+json": {
       "model_id": "a15be0496ba346a28c26b9c10a4fce37",
       "version_major": 2,
       "version_minor": 0
      },
      "text/plain": [
       "Training epoch 33:   0%|          | 0/1000 [00:00<?, ?it/s]"
      ]
     },
     "metadata": {},
     "output_type": "display_data"
    },
    {
     "data": {
      "application/vnd.jupyter.widget-view+json": {
       "model_id": "ff107877835e4076a589b70961429806",
       "version_major": 2,
       "version_minor": 0
      },
      "text/plain": [
       "Training epoch 34:   0%|          | 0/1000 [00:00<?, ?it/s]"
      ]
     },
     "metadata": {},
     "output_type": "display_data"
    },
    {
     "data": {
      "application/vnd.jupyter.widget-view+json": {
       "model_id": "84da654035b2466293423e98fa0bd594",
       "version_major": 2,
       "version_minor": 0
      },
      "text/plain": [
       "Training epoch 35:   0%|          | 0/1000 [00:00<?, ?it/s]"
      ]
     },
     "metadata": {},
     "output_type": "display_data"
    },
    {
     "data": {
      "application/vnd.jupyter.widget-view+json": {
       "model_id": "6c2cab34f90a4417be278a53dd5cfac2",
       "version_major": 2,
       "version_minor": 0
      },
      "text/plain": [
       "Training epoch 36:   0%|          | 0/1000 [00:00<?, ?it/s]"
      ]
     },
     "metadata": {},
     "output_type": "display_data"
    },
    {
     "data": {
      "application/vnd.jupyter.widget-view+json": {
       "model_id": "b5cd5a6c736a43839d6d62e327c954bc",
       "version_major": 2,
       "version_minor": 0
      },
      "text/plain": [
       "Training epoch 37:   0%|          | 0/1000 [00:00<?, ?it/s]"
      ]
     },
     "metadata": {},
     "output_type": "display_data"
    },
    {
     "data": {
      "application/vnd.jupyter.widget-view+json": {
       "model_id": "19301cefd958423ebbf18e68979ce63c",
       "version_major": 2,
       "version_minor": 0
      },
      "text/plain": [
       "Training epoch 38:   0%|          | 0/1000 [00:00<?, ?it/s]"
      ]
     },
     "metadata": {},
     "output_type": "display_data"
    },
    {
     "data": {
      "application/vnd.jupyter.widget-view+json": {
       "model_id": "c1ac8a51cc844e8e94ef977e1484aa59",
       "version_major": 2,
       "version_minor": 0
      },
      "text/plain": [
       "Training epoch 39:   0%|          | 0/1000 [00:00<?, ?it/s]"
      ]
     },
     "metadata": {},
     "output_type": "display_data"
    },
    {
     "data": {
      "application/vnd.jupyter.widget-view+json": {
       "model_id": "c35f32e7ab2c4d6896f167f0eea88263",
       "version_major": 2,
       "version_minor": 0
      },
      "text/plain": [
       "Training epoch 40:   0%|          | 0/1000 [00:00<?, ?it/s]"
      ]
     },
     "metadata": {},
     "output_type": "display_data"
    }
   ],
   "source": [
    "training_time_start = perf_counter()\n",
    "losses = trainer.train_online(\n",
    "    epochs=epochs, iterations_per_epoch=iterations_per_epoch, batch_size=32\n",
    ")\n",
    "training_time_stop = perf_counter()"
   ]
  },
  {
   "attachments": {},
   "cell_type": "markdown",
   "metadata": {},
   "source": [
    "# Validate"
   ]
  },
  {
   "cell_type": "code",
   "execution_count": 9,
   "metadata": {},
   "outputs": [
    {
     "name": "stdout",
     "output_type": "stream",
     "text": [
      "ECE = 0.011\n"
     ]
    },
    {
     "data": {
      "image/png": "[encoded data removed]",
      "text/plain": [
       "<Figure size 1000x1000 with 5 Axes>"
      ]
     },
     "metadata": {},
     "output_type": "display_data"
    }
   ],
   "source": [
    "# Test performance\n",
    "val_data = trainer.configurator(meta_model(5000))\n",
    "perf_tester(probability_net, summary_net, val_data, n_cal_bins=15)"
   ]
  },
  {
   "cell_type": "code",
   "execution_count": 10,
   "metadata": {},
   "outputs": [
    {
     "name": "stdout",
     "output_type": "stream",
     "text": [
      "Median ECE = 0.012920907872788007\n",
      "Median accuracy = 0.9284\n"
     ]
    },
    {
     "data": {
      "image/png": "[encoded data removed]",
      "text/plain": [
       "<Figure size 500x500 with 1 Axes>"
      ]
     },
     "metadata": {},
     "output_type": "display_data"
    }
   ],
   "source": [
    "# Plot calibration with repetition uncertainty\n",
    "n_repetitions = 25\n",
    "\n",
    "fig, ax = plt.subplots(1, 1, figsize=(5, 5))\n",
    "m_true_r, m_soft_r = get_repeated_predictions(\n",
    "    probability_net,\n",
    "    summary_net,\n",
    "    trainer,\n",
    "    meta_model,\n",
    "    n_models=2,\n",
    "    n_repetitions=n_repetitions,\n",
    ")\n",
    "\n",
    "plot_calibration_curve_repetition_uncertainty(\n",
    "    m_true_r[:, :, 1],\n",
    "    m_soft_r[:, :, 1],\n",
    "    narrow_ci=[0.25, 0.75],\n",
    "    wide_ci=[0.025, 0.975],\n",
    "    n_bins=15,\n",
    "    ax=ax,\n",
    "    print_accuracy=True,\n",
    "    xlabel=True,\n",
    "    ylabel=True,\n",
    "    title=None,\n",
    "    show_ece=True,\n",
    "    show_legend=True,\n",
    ")\n",
    "\n",
    "fig.savefig(\"calibration_SDTMPT.pdf\", dpi=300, bbox_inches=\"tight\")"
   ]
  },
  {
   "cell_type": "code",
   "execution_count": 14,
   "metadata": {},
   "outputs": [],
   "source": [
    "# Save training meta-information for bridge sampling comparison?\n",
    "# (so that network can be loaded from checkpoint)\n",
    "save_training_vars = True\n",
    "\n",
    "if save_training_vars:\n",
    "    folder = os.path.join(\n",
    "        os.path.dirname(os.path.dirname(os.path.dirname(os.getcwd()))),\n",
    "        \"data\",\n",
    "        \"02_bridge_sampling_comparison\",\n",
    "        \"non_nested_models\",\n",
    "    )\n",
    "\n",
    "    np.save(\n",
    "        os.path.join(folder, \"training_time_start\"),\n",
    "        training_time_start,\n",
    "        allow_pickle=True,\n",
    "    )\n",
    "    np.save(\n",
    "        os.path.join(folder, \"training_time_stop\"),\n",
    "        training_time_stop,\n",
    "        allow_pickle=True,\n",
    "    )\n",
    "    np.save(os.path.join(folder, \"losses\"), losses, allow_pickle=True)"
   ]
  },
  {
   "attachments": {},
   "cell_type": "markdown",
   "metadata": {},
   "source": [
    "# Calculate Bayes factors for bridge sampling comparison"
   ]
  },
  {
   "cell_type": "code",
   "execution_count": null,
   "metadata": {},
   "outputs": [],
   "source": [
    "# Import training meta-information?\n",
    "# (use if network was loaded from checkpoint)\n",
    "import_training_vars = False\n",
    "\n",
    "if import_training_vars:\n",
    "    folder = os.path.join(\n",
    "        os.path.dirname(os.path.dirname(os.path.dirname(os.getcwd()))),\n",
    "        \"data\",\n",
    "        \"01_calibration_validation\",\n",
    "        \"03_variable\",\n",
    "    )\n",
    "\n",
    "    training_time_start = np.load(\n",
    "        os.path.join(folder, \"training_time_start.npy\"), allow_pickle=True\n",
    "    )\n",
    "    training_time_stop = np.load(\n",
    "        os.path.join(folder, \"training_time_stop.npy\"), allow_pickle=True\n",
    "    )\n",
    "    losses = np.load(os.path.join(folder, \"losses.npy\"), allow_pickle=True)"
   ]
  },
  {
   "cell_type": "code",
   "execution_count": 11,
   "metadata": {},
   "outputs": [],
   "source": [
    "# Import test data\n",
    "val_folder = os.path.join(\n",
    "    os.path.dirname(os.path.dirname(os.path.dirname(os.getcwd()))),\n",
    "    \"data\",\n",
    "    \"02_bridge_sampling_comparison\",\n",
    "    \"non_nested_models\",\n",
    ")\n",
    "data_filename = \"test_data.npy\"\n",
    "test_data = np.load(os.path.join(val_folder, data_filename), allow_pickle=True).item()"
   ]
  },
  {
   "cell_type": "code",
   "execution_count": 12,
   "metadata": {},
   "outputs": [
    {
     "data": {
      "text/html": [
       "<div>\n",
       "<style scoped>\n",
       "    .dataframe tbody tr th:only-of-type {\n",
       "        vertical-align: middle;\n",
       "    }\n",
       "\n",
       "    .dataframe tbody tr th {\n",
       "        vertical-align: top;\n",
       "    }\n",
       "\n",
       "    .dataframe thead th {\n",
       "        text-align: right;\n",
       "    }\n",
       "</style>\n",
       "<table border=\"1\" class=\"dataframe\">\n",
       "  <thead>\n",
       "    <tr style=\"text-align: right;\">\n",
       "      <th></th>\n",
       "      <th>dataset</th>\n",
       "      <th>true_model</th>\n",
       "      <th>m0_prob</th>\n",
       "      <th>m1_prob</th>\n",
       "      <th>selected_model</th>\n",
       "      <th>bayes_factor</th>\n",
       "      <th>training_time</th>\n",
       "      <th>inference_time</th>\n",
       "      <th>final_epoch_loss</th>\n",
       "    </tr>\n",
       "  </thead>\n",
       "  <tbody>\n",
       "    <tr>\n",
       "      <th>0</th>\n",
       "      <td>1</td>\n",
       "      <td>0</td>\n",
       "      <td>0.995086</td>\n",
       "      <td>4.913798e-03</td>\n",
       "      <td>0</td>\n",
       "      <td>4.938062e-03</td>\n",
       "      <td>1975.20764</td>\n",
       "      <td>0.000347</td>\n",
       "      <td>0.169484</td>\n",
       "    </tr>\n",
       "    <tr>\n",
       "      <th>1</th>\n",
       "      <td>2</td>\n",
       "      <td>0</td>\n",
       "      <td>0.983301</td>\n",
       "      <td>1.669914e-02</td>\n",
       "      <td>0</td>\n",
       "      <td>1.698274e-02</td>\n",
       "      <td>1975.20764</td>\n",
       "      <td>0.000347</td>\n",
       "      <td>0.169484</td>\n",
       "    </tr>\n",
       "    <tr>\n",
       "      <th>2</th>\n",
       "      <td>3</td>\n",
       "      <td>0</td>\n",
       "      <td>0.999999</td>\n",
       "      <td>7.151662e-07</td>\n",
       "      <td>0</td>\n",
       "      <td>7.151667e-07</td>\n",
       "      <td>1975.20764</td>\n",
       "      <td>0.000347</td>\n",
       "      <td>0.169484</td>\n",
       "    </tr>\n",
       "    <tr>\n",
       "      <th>3</th>\n",
       "      <td>4</td>\n",
       "      <td>1</td>\n",
       "      <td>0.302437</td>\n",
       "      <td>6.975632e-01</td>\n",
       "      <td>1</td>\n",
       "      <td>2.306476e+00</td>\n",
       "      <td>1975.20764</td>\n",
       "      <td>0.000347</td>\n",
       "      <td>0.169484</td>\n",
       "    </tr>\n",
       "    <tr>\n",
       "      <th>4</th>\n",
       "      <td>5</td>\n",
       "      <td>0</td>\n",
       "      <td>0.999127</td>\n",
       "      <td>8.733332e-04</td>\n",
       "      <td>0</td>\n",
       "      <td>8.740966e-04</td>\n",
       "      <td>1975.20764</td>\n",
       "      <td>0.000347</td>\n",
       "      <td>0.169484</td>\n",
       "    </tr>\n",
       "  </tbody>\n",
       "</table>\n",
       "</div>"
      ],
      "text/plain": [
       "   dataset  true_model   m0_prob       m1_prob  selected_model  bayes_factor   \n",
       "0        1           0  0.995086  4.913798e-03               0  4.938062e-03  \\\n",
       "1        2           0  0.983301  1.669914e-02               0  1.698274e-02   \n",
       "2        3           0  0.999999  7.151662e-07               0  7.151667e-07   \n",
       "3        4           1  0.302437  6.975632e-01               1  2.306476e+00   \n",
       "4        5           0  0.999127  8.733332e-04               0  8.740966e-04   \n",
       "\n",
       "   training_time  inference_time  final_epoch_loss  \n",
       "0     1975.20764        0.000347          0.169484  \n",
       "1     1975.20764        0.000347          0.169484  \n",
       "2     1975.20764        0.000347          0.169484  \n",
       "3     1975.20764        0.000347          0.169484  \n",
       "4     1975.20764        0.000347          0.169484  "
      ]
     },
     "execution_count": 12,
     "metadata": {},
     "output_type": "execute_result"
    }
   ],
   "source": [
    "# Get NN predictions\n",
    "comparison_results = get_preds_and_bfs(\n",
    "    probability_net,\n",
    "    summary_net,\n",
    "    test_data,\n",
    "    training_time_start,\n",
    "    training_time_stop,\n",
    "    losses,\n",
    ")\n",
    "comparison_results.head(5)"
   ]
  },
  {
   "cell_type": "code",
   "execution_count": 13,
   "metadata": {},
   "outputs": [],
   "source": [
    "# Export results\n",
    "local_timezone = datetime.now(timezone(timedelta(0))).astimezone().tzinfo\n",
    "filename = pd.Timestamp.today(tz=local_timezone).strftime(\"%Y_%m_%d_BF_NN\")\n",
    "comparison_folder = os.path.join(\n",
    "    os.path.dirname(os.path.dirname(os.path.dirname(os.getcwd()))),\n",
    "    \"data\",\n",
    "    \"02_bridge_sampling_comparison\",\n",
    "    \"non_nested_models\",\n",
    ")\n",
    "\n",
    "comparison_results.to_csv(os.path.join(comparison_folder, filename), index=False)"
   ]
  }
 ],
 "metadata": {
  "kernelspec": {
   "display_name": "Python 3.8.13 ('tf')",
   "language": "python",
   "name": "python3"
  },
  "language_info": {
   "codemirror_mode": {
    "name": "ipython",
    "version": 3
   },
   "file_extension": ".py",
   "mimetype": "text/x-python",
   "name": "python",
   "nbconvert_exporter": "python",
   "pygments_lexer": "ipython3",
   "version": "3.10.10"
  },
  "orig_nbformat": 4,
  "vscode": {
   "interpreter": {
    "hash": "27a86c9f63fe2f1aa7d9f3c637434a8367b5c148236c1390e91d25c0e560ef1a"
   }
  }
 },
 "nbformat": 4,
 "nbformat_minor": 2
}
