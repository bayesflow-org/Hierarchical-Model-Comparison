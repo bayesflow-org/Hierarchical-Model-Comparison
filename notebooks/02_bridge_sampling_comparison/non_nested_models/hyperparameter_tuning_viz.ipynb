{
 "cells": [
  {
   "cell_type": "code",
   "execution_count": 9,
   "metadata": {},
   "outputs": [],
   "source": [
    "import numpy as np\n",
    "import pandas as pd\n",
    "import matplotlib.pyplot as plt"
   ]
  },
  {
   "cell_type": "code",
   "execution_count": 10,
   "metadata": {},
   "outputs": [
    {
     "data": {
      "text/plain": [
       "<Figure size 640x480 with 0 Axes>"
      ]
     },
     "metadata": {},
     "output_type": "display_data"
    }
   ],
   "source": [
    "# Hack to correctly set facecolor to white\n",
    "# matplotlib 3.5 only sets facecolor if a plot was already created \n",
    "_ = plt.figure()\n",
    "plt.rcParams['figure.facecolor'] = 'w'"
   ]
  },
  {
   "attachments": {},
   "cell_type": "markdown",
   "metadata": {},
   "source": [
    "# v2: learning rate of bigger network (all 3 summary networks 128 untis relu glorot uniform)"
   ]
  },
  {
   "cell_type": "code",
   "execution_count": 14,
   "metadata": {},
   "outputs": [
    {
     "data": {
      "text/html": [
       "<div>\n",
       "<style scoped>\n",
       "    .dataframe tbody tr th:only-of-type {\n",
       "        vertical-align: middle;\n",
       "    }\n",
       "\n",
       "    .dataframe tbody tr th {\n",
       "        vertical-align: top;\n",
       "    }\n",
       "\n",
       "    .dataframe thead th {\n",
       "        text-align: right;\n",
       "    }\n",
       "</style>\n",
       "<table border=\"1\" class=\"dataframe\">\n",
       "  <thead>\n",
       "    <tr style=\"text-align: right;\">\n",
       "      <th></th>\n",
       "      <th>learning_rate</th>\n",
       "      <th>final_loss</th>\n",
       "      <th>training_time</th>\n",
       "    </tr>\n",
       "  </thead>\n",
       "  <tbody>\n",
       "    <tr>\n",
       "      <th>0</th>\n",
       "      <td>0.000100</td>\n",
       "      <td>0.281439</td>\n",
       "      <td>1702.493409</td>\n",
       "    </tr>\n",
       "    <tr>\n",
       "      <th>1</th>\n",
       "      <td>0.000100</td>\n",
       "      <td>0.693141</td>\n",
       "      <td>1670.621058</td>\n",
       "    </tr>\n",
       "    <tr>\n",
       "      <th>2</th>\n",
       "      <td>0.000100</td>\n",
       "      <td>0.201912</td>\n",
       "      <td>1663.838128</td>\n",
       "    </tr>\n",
       "    <tr>\n",
       "      <th>3</th>\n",
       "      <td>0.000100</td>\n",
       "      <td>0.693149</td>\n",
       "      <td>1655.434788</td>\n",
       "    </tr>\n",
       "    <tr>\n",
       "      <th>4</th>\n",
       "      <td>0.000100</td>\n",
       "      <td>0.214309</td>\n",
       "      <td>1624.555376</td>\n",
       "    </tr>\n",
       "    <tr>\n",
       "      <th>5</th>\n",
       "      <td>0.000050</td>\n",
       "      <td>0.216988</td>\n",
       "      <td>1646.799017</td>\n",
       "    </tr>\n",
       "    <tr>\n",
       "      <th>6</th>\n",
       "      <td>0.000050</td>\n",
       "      <td>0.271404</td>\n",
       "      <td>1635.285609</td>\n",
       "    </tr>\n",
       "    <tr>\n",
       "      <th>7</th>\n",
       "      <td>0.000050</td>\n",
       "      <td>0.283038</td>\n",
       "      <td>1620.996333</td>\n",
       "    </tr>\n",
       "    <tr>\n",
       "      <th>8</th>\n",
       "      <td>0.000050</td>\n",
       "      <td>0.314836</td>\n",
       "      <td>1615.515518</td>\n",
       "    </tr>\n",
       "    <tr>\n",
       "      <th>9</th>\n",
       "      <td>0.000050</td>\n",
       "      <td>0.203629</td>\n",
       "      <td>1620.213827</td>\n",
       "    </tr>\n",
       "    <tr>\n",
       "      <th>10</th>\n",
       "      <td>0.000025</td>\n",
       "      <td>0.220205</td>\n",
       "      <td>1607.883323</td>\n",
       "    </tr>\n",
       "    <tr>\n",
       "      <th>11</th>\n",
       "      <td>0.000025</td>\n",
       "      <td>0.224847</td>\n",
       "      <td>1614.692955</td>\n",
       "    </tr>\n",
       "    <tr>\n",
       "      <th>12</th>\n",
       "      <td>0.000025</td>\n",
       "      <td>0.217700</td>\n",
       "      <td>1567.478874</td>\n",
       "    </tr>\n",
       "    <tr>\n",
       "      <th>13</th>\n",
       "      <td>0.000025</td>\n",
       "      <td>0.235758</td>\n",
       "      <td>1582.720169</td>\n",
       "    </tr>\n",
       "    <tr>\n",
       "      <th>14</th>\n",
       "      <td>0.000025</td>\n",
       "      <td>0.222029</td>\n",
       "      <td>1612.020508</td>\n",
       "    </tr>\n",
       "    <tr>\n",
       "      <th>15</th>\n",
       "      <td>0.000010</td>\n",
       "      <td>0.262262</td>\n",
       "      <td>1600.015559</td>\n",
       "    </tr>\n",
       "    <tr>\n",
       "      <th>16</th>\n",
       "      <td>0.000010</td>\n",
       "      <td>0.321152</td>\n",
       "      <td>1567.248548</td>\n",
       "    </tr>\n",
       "    <tr>\n",
       "      <th>17</th>\n",
       "      <td>0.000010</td>\n",
       "      <td>0.281765</td>\n",
       "      <td>1564.165523</td>\n",
       "    </tr>\n",
       "    <tr>\n",
       "      <th>18</th>\n",
       "      <td>0.000010</td>\n",
       "      <td>0.268204</td>\n",
       "      <td>1566.935325</td>\n",
       "    </tr>\n",
       "    <tr>\n",
       "      <th>19</th>\n",
       "      <td>0.000010</td>\n",
       "      <td>0.263997</td>\n",
       "      <td>1584.328742</td>\n",
       "    </tr>\n",
       "  </tbody>\n",
       "</table>\n",
       "</div>"
      ],
      "text/plain": [
       "    learning_rate  final_loss  training_time\n",
       "0        0.000100    0.281439    1702.493409\n",
       "1        0.000100    0.693141    1670.621058\n",
       "2        0.000100    0.201912    1663.838128\n",
       "3        0.000100    0.693149    1655.434788\n",
       "4        0.000100    0.214309    1624.555376\n",
       "5        0.000050    0.216988    1646.799017\n",
       "6        0.000050    0.271404    1635.285609\n",
       "7        0.000050    0.283038    1620.996333\n",
       "8        0.000050    0.314836    1615.515518\n",
       "9        0.000050    0.203629    1620.213827\n",
       "10       0.000025    0.220205    1607.883323\n",
       "11       0.000025    0.224847    1614.692955\n",
       "12       0.000025    0.217700    1567.478874\n",
       "13       0.000025    0.235758    1582.720169\n",
       "14       0.000025    0.222029    1612.020508\n",
       "15       0.000010    0.262262    1600.015559\n",
       "16       0.000010    0.321152    1567.248548\n",
       "17       0.000010    0.281765    1564.165523\n",
       "18       0.000010    0.268204    1566.935325\n",
       "19       0.000010    0.263997    1584.328742"
      ]
     },
     "execution_count": 14,
     "metadata": {},
     "output_type": "execute_result"
    }
   ],
   "source": [
    "# Import data\n",
    "results = pd.read_csv('hyperparameter_tuning_results_lr_big_net', index_col=0)\n",
    "results"
   ]
  },
  {
   "cell_type": "code",
   "execution_count": 15,
   "metadata": {},
   "outputs": [
    {
     "data": {
      "text/plain": [
       "<matplotlib.legend.Legend at 0x25bd9fe0d90>"
      ]
     },
     "execution_count": 15,
     "metadata": {},
     "output_type": "execute_result"
    },
    {
     "data": {
      "image/png": "[encoded data removed]",
      "text/plain": [
       "<Figure size 1000x500 with 1 Axes>"
      ]
     },
     "metadata": {},
     "output_type": "display_data"
    }
   ],
   "source": [
    "# Plot final epoch loss\n",
    "outcome = 'learning_rate'\n",
    "\n",
    "fig, ax = plt.subplots(1,1, figsize=(10,5))\n",
    "uniques = list(set(results[outcome])) # get categories\n",
    "colors = plt.cm.viridis(np.linspace(0, 1, len(uniques)))\n",
    "for i, value in enumerate(uniques):\n",
    "    ax.bar(x=results.index[results[outcome]==value], height=results['final_loss'][results[outcome]==value], color=colors[i], label=f'{outcome}={value}')\n",
    "    \n",
    "ax.set_xlim(-0.5,19.5)\n",
    "ax.set_ylim(0,2)\n",
    "ax.set_ylabel('Final epoch running loss')\n",
    "handles,labels = ax.get_legend_handles_labels()\n",
    "order = [1,2,3,0]\n",
    "ax.legend([handles[i] for i in order], [labels[i] for i in order])"
   ]
  },
  {
   "attachments": {},
   "cell_type": "markdown",
   "metadata": {},
   "source": [
    "# v2: summary network configs"
   ]
  },
  {
   "cell_type": "code",
   "execution_count": 16,
   "metadata": {},
   "outputs": [
    {
     "data": {
      "text/html": [
       "<div>\n",
       "<style scoped>\n",
       "    .dataframe tbody tr th:only-of-type {\n",
       "        vertical-align: middle;\n",
       "    }\n",
       "\n",
       "    .dataframe tbody tr th {\n",
       "        vertical-align: top;\n",
       "    }\n",
       "\n",
       "    .dataframe thead th {\n",
       "        text-align: right;\n",
       "    }\n",
       "</style>\n",
       "<table border=\"1\" class=\"dataframe\">\n",
       "  <thead>\n",
       "    <tr style=\"text-align: right;\">\n",
       "      <th></th>\n",
       "      <th>sum_config</th>\n",
       "      <th>final_loss</th>\n",
       "      <th>training_time</th>\n",
       "    </tr>\n",
       "  </thead>\n",
       "  <tbody>\n",
       "    <tr>\n",
       "      <th>0</th>\n",
       "      <td>{'units': 64, 'activation': 'elu', 'kernel_ini...</td>\n",
       "      <td>0.603711</td>\n",
       "      <td>238.799873</td>\n",
       "    </tr>\n",
       "    <tr>\n",
       "      <th>1</th>\n",
       "      <td>{'units': 64, 'activation': 'elu', 'kernel_ini...</td>\n",
       "      <td>0.660993</td>\n",
       "      <td>240.060894</td>\n",
       "    </tr>\n",
       "    <tr>\n",
       "      <th>2</th>\n",
       "      <td>{'units': 64, 'activation': 'elu', 'kernel_ini...</td>\n",
       "      <td>0.650100</td>\n",
       "      <td>239.922257</td>\n",
       "    </tr>\n",
       "    <tr>\n",
       "      <th>3</th>\n",
       "      <td>{'units': 64, 'activation': 'elu', 'kernel_ini...</td>\n",
       "      <td>0.669486</td>\n",
       "      <td>233.276656</td>\n",
       "    </tr>\n",
       "    <tr>\n",
       "      <th>4</th>\n",
       "      <td>{'units': 64, 'activation': 'elu', 'kernel_ini...</td>\n",
       "      <td>0.656742</td>\n",
       "      <td>239.191242</td>\n",
       "    </tr>\n",
       "    <tr>\n",
       "      <th>5</th>\n",
       "      <td>{'units': 128, 'activation': 'elu', 'kernel_in...</td>\n",
       "      <td>0.656407</td>\n",
       "      <td>295.427203</td>\n",
       "    </tr>\n",
       "    <tr>\n",
       "      <th>6</th>\n",
       "      <td>{'units': 128, 'activation': 'elu', 'kernel_in...</td>\n",
       "      <td>0.693150</td>\n",
       "      <td>292.541648</td>\n",
       "    </tr>\n",
       "    <tr>\n",
       "      <th>7</th>\n",
       "      <td>{'units': 128, 'activation': 'elu', 'kernel_in...</td>\n",
       "      <td>0.693189</td>\n",
       "      <td>294.927824</td>\n",
       "    </tr>\n",
       "    <tr>\n",
       "      <th>8</th>\n",
       "      <td>{'units': 128, 'activation': 'elu', 'kernel_in...</td>\n",
       "      <td>0.650661</td>\n",
       "      <td>301.249879</td>\n",
       "    </tr>\n",
       "    <tr>\n",
       "      <th>9</th>\n",
       "      <td>{'units': 128, 'activation': 'elu', 'kernel_in...</td>\n",
       "      <td>0.679771</td>\n",
       "      <td>300.943607</td>\n",
       "    </tr>\n",
       "    <tr>\n",
       "      <th>10</th>\n",
       "      <td>{'units': 64, 'activation': 'relu', 'kernel_in...</td>\n",
       "      <td>0.414282</td>\n",
       "      <td>237.665025</td>\n",
       "    </tr>\n",
       "    <tr>\n",
       "      <th>11</th>\n",
       "      <td>{'units': 64, 'activation': 'relu', 'kernel_in...</td>\n",
       "      <td>0.346211</td>\n",
       "      <td>243.524701</td>\n",
       "    </tr>\n",
       "    <tr>\n",
       "      <th>12</th>\n",
       "      <td>{'units': 64, 'activation': 'relu', 'kernel_in...</td>\n",
       "      <td>0.399769</td>\n",
       "      <td>236.654277</td>\n",
       "    </tr>\n",
       "    <tr>\n",
       "      <th>13</th>\n",
       "      <td>{'units': 64, 'activation': 'relu', 'kernel_in...</td>\n",
       "      <td>0.350806</td>\n",
       "      <td>239.886199</td>\n",
       "    </tr>\n",
       "    <tr>\n",
       "      <th>14</th>\n",
       "      <td>{'units': 64, 'activation': 'relu', 'kernel_in...</td>\n",
       "      <td>0.394332</td>\n",
       "      <td>236.170835</td>\n",
       "    </tr>\n",
       "    <tr>\n",
       "      <th>15</th>\n",
       "      <td>{'units': 128, 'activation': 'relu', 'kernel_i...</td>\n",
       "      <td>0.693145</td>\n",
       "      <td>294.212119</td>\n",
       "    </tr>\n",
       "    <tr>\n",
       "      <th>16</th>\n",
       "      <td>{'units': 128, 'activation': 'relu', 'kernel_i...</td>\n",
       "      <td>0.693206</td>\n",
       "      <td>293.459992</td>\n",
       "    </tr>\n",
       "    <tr>\n",
       "      <th>17</th>\n",
       "      <td>{'units': 128, 'activation': 'relu', 'kernel_i...</td>\n",
       "      <td>0.693155</td>\n",
       "      <td>293.427145</td>\n",
       "    </tr>\n",
       "    <tr>\n",
       "      <th>18</th>\n",
       "      <td>{'units': 128, 'activation': 'relu', 'kernel_i...</td>\n",
       "      <td>0.309481</td>\n",
       "      <td>296.006717</td>\n",
       "    </tr>\n",
       "    <tr>\n",
       "      <th>19</th>\n",
       "      <td>{'units': 128, 'activation': 'relu', 'kernel_i...</td>\n",
       "      <td>0.399601</td>\n",
       "      <td>300.584403</td>\n",
       "    </tr>\n",
       "  </tbody>\n",
       "</table>\n",
       "</div>"
      ],
      "text/plain": [
       "                                           sum_config  final_loss   \n",
       "0   {'units': 64, 'activation': 'elu', 'kernel_ini...    0.603711  \\\n",
       "1   {'units': 64, 'activation': 'elu', 'kernel_ini...    0.660993   \n",
       "2   {'units': 64, 'activation': 'elu', 'kernel_ini...    0.650100   \n",
       "3   {'units': 64, 'activation': 'elu', 'kernel_ini...    0.669486   \n",
       "4   {'units': 64, 'activation': 'elu', 'kernel_ini...    0.656742   \n",
       "5   {'units': 128, 'activation': 'elu', 'kernel_in...    0.656407   \n",
       "6   {'units': 128, 'activation': 'elu', 'kernel_in...    0.693150   \n",
       "7   {'units': 128, 'activation': 'elu', 'kernel_in...    0.693189   \n",
       "8   {'units': 128, 'activation': 'elu', 'kernel_in...    0.650661   \n",
       "9   {'units': 128, 'activation': 'elu', 'kernel_in...    0.679771   \n",
       "10  {'units': 64, 'activation': 'relu', 'kernel_in...    0.414282   \n",
       "11  {'units': 64, 'activation': 'relu', 'kernel_in...    0.346211   \n",
       "12  {'units': 64, 'activation': 'relu', 'kernel_in...    0.399769   \n",
       "13  {'units': 64, 'activation': 'relu', 'kernel_in...    0.350806   \n",
       "14  {'units': 64, 'activation': 'relu', 'kernel_in...    0.394332   \n",
       "15  {'units': 128, 'activation': 'relu', 'kernel_i...    0.693145   \n",
       "16  {'units': 128, 'activation': 'relu', 'kernel_i...    0.693206   \n",
       "17  {'units': 128, 'activation': 'relu', 'kernel_i...    0.693155   \n",
       "18  {'units': 128, 'activation': 'relu', 'kernel_i...    0.309481   \n",
       "19  {'units': 128, 'activation': 'relu', 'kernel_i...    0.399601   \n",
       "\n",
       "    training_time  \n",
       "0      238.799873  \n",
       "1      240.060894  \n",
       "2      239.922257  \n",
       "3      233.276656  \n",
       "4      239.191242  \n",
       "5      295.427203  \n",
       "6      292.541648  \n",
       "7      294.927824  \n",
       "8      301.249879  \n",
       "9      300.943607  \n",
       "10     237.665025  \n",
       "11     243.524701  \n",
       "12     236.654277  \n",
       "13     239.886199  \n",
       "14     236.170835  \n",
       "15     294.212119  \n",
       "16     293.459992  \n",
       "17     293.427145  \n",
       "18     296.006717  \n",
       "19     300.584403  "
      ]
     },
     "execution_count": 16,
     "metadata": {},
     "output_type": "execute_result"
    }
   ],
   "source": [
    "# Import data\n",
    "results = pd.read_csv('hyperparameter_tuning_results_sum_configs_5reps', index_col=0)\n",
    "results"
   ]
  },
  {
   "cell_type": "code",
   "execution_count": 17,
   "metadata": {},
   "outputs": [
    {
     "data": {
      "text/plain": [
       "<matplotlib.legend.Legend at 0x25bda3bf850>"
      ]
     },
     "execution_count": 17,
     "metadata": {},
     "output_type": "execute_result"
    },
    {
     "data": {
      "image/png": "[encoded data removed]",
      "text/plain": [
       "<Figure size 1000x500 with 1 Axes>"
      ]
     },
     "metadata": {},
     "output_type": "display_data"
    }
   ],
   "source": [
    "# Plot final epoch loss\n",
    "outcome = 'sum_config'\n",
    "\n",
    "fig, ax = plt.subplots(1,1, figsize=(10,5))\n",
    "uniques = list(set(results[outcome])) # get categories\n",
    "colors = plt.cm.viridis(np.linspace(0, 1, len(uniques)))\n",
    "for i, value in enumerate(uniques):\n",
    "    ax.bar(x=results.index[results[outcome]==value], height=results['final_loss'][results[outcome]==value], color=colors[i], label=f'{outcome}={value}')\n",
    "    \n",
    "ax.set_xlim(-0.5,19.5)\n",
    "ax.set_ylim(0,2)\n",
    "ax.set_ylabel('Final epoch running loss')\n",
    "handles,labels = ax.get_legend_handles_labels()\n",
    "order = [1,3,0,2]\n",
    "ax.legend([handles[i] for i in order], [labels[i] for i in order])"
   ]
  },
  {
   "attachments": {},
   "cell_type": "markdown",
   "metadata": {},
   "source": [
    "# v2: learning rate"
   ]
  },
  {
   "cell_type": "code",
   "execution_count": 3,
   "metadata": {},
   "outputs": [
    {
     "data": {
      "text/html": [
       "<div>\n",
       "<style scoped>\n",
       "    .dataframe tbody tr th:only-of-type {\n",
       "        vertical-align: middle;\n",
       "    }\n",
       "\n",
       "    .dataframe tbody tr th {\n",
       "        vertical-align: top;\n",
       "    }\n",
       "\n",
       "    .dataframe thead th {\n",
       "        text-align: right;\n",
       "    }\n",
       "</style>\n",
       "<table border=\"1\" class=\"dataframe\">\n",
       "  <thead>\n",
       "    <tr style=\"text-align: right;\">\n",
       "      <th></th>\n",
       "      <th>learning_rate</th>\n",
       "      <th>final_loss</th>\n",
       "      <th>training_time</th>\n",
       "    </tr>\n",
       "  </thead>\n",
       "  <tbody>\n",
       "    <tr>\n",
       "      <th>0</th>\n",
       "      <td>0.00050</td>\n",
       "      <td>0.693134</td>\n",
       "      <td>580.300403</td>\n",
       "    </tr>\n",
       "    <tr>\n",
       "      <th>1</th>\n",
       "      <td>0.00050</td>\n",
       "      <td>0.693132</td>\n",
       "      <td>587.656764</td>\n",
       "    </tr>\n",
       "    <tr>\n",
       "      <th>2</th>\n",
       "      <td>0.00025</td>\n",
       "      <td>0.693146</td>\n",
       "      <td>589.492352</td>\n",
       "    </tr>\n",
       "    <tr>\n",
       "      <th>3</th>\n",
       "      <td>0.00025</td>\n",
       "      <td>0.495346</td>\n",
       "      <td>581.907855</td>\n",
       "    </tr>\n",
       "    <tr>\n",
       "      <th>4</th>\n",
       "      <td>0.00010</td>\n",
       "      <td>0.564042</td>\n",
       "      <td>582.252583</td>\n",
       "    </tr>\n",
       "    <tr>\n",
       "      <th>5</th>\n",
       "      <td>0.00010</td>\n",
       "      <td>0.237325</td>\n",
       "      <td>574.364144</td>\n",
       "    </tr>\n",
       "    <tr>\n",
       "      <th>6</th>\n",
       "      <td>0.00005</td>\n",
       "      <td>0.612833</td>\n",
       "      <td>589.982567</td>\n",
       "    </tr>\n",
       "    <tr>\n",
       "      <th>7</th>\n",
       "      <td>0.00005</td>\n",
       "      <td>0.503971</td>\n",
       "      <td>585.769450</td>\n",
       "    </tr>\n",
       "  </tbody>\n",
       "</table>\n",
       "</div>"
      ],
      "text/plain": [
       "   learning_rate  final_loss  training_time\n",
       "0        0.00050    0.693134     580.300403\n",
       "1        0.00050    0.693132     587.656764\n",
       "2        0.00025    0.693146     589.492352\n",
       "3        0.00025    0.495346     581.907855\n",
       "4        0.00010    0.564042     582.252583\n",
       "5        0.00010    0.237325     574.364144\n",
       "6        0.00005    0.612833     589.982567\n",
       "7        0.00005    0.503971     585.769450"
      ]
     },
     "execution_count": 3,
     "metadata": {},
     "output_type": "execute_result"
    }
   ],
   "source": [
    "# Import data\n",
    "results = pd.read_csv('hyperparameter_tuning_results_lr', index_col=0)\n",
    "results"
   ]
  },
  {
   "cell_type": "code",
   "execution_count": 6,
   "metadata": {},
   "outputs": [
    {
     "ename": "KeyError",
     "evalue": "'learning_rate'",
     "output_type": "error",
     "traceback": [
      "\u001b[1;31m---------------------------------------------------------------------------\u001b[0m",
      "\u001b[1;31mKeyError\u001b[0m                                  Traceback (most recent call last)",
      "File \u001b[1;32mc:\\Users\\lasse\\anaconda3\\envs\\bf\\lib\\site-packages\\pandas\\core\\indexes\\base.py:3652\u001b[0m, in \u001b[0;36mIndex.get_loc\u001b[1;34m(self, key)\u001b[0m\n\u001b[0;32m   3651\u001b[0m \u001b[39mtry\u001b[39;00m:\n\u001b[1;32m-> 3652\u001b[0m     \u001b[39mreturn\u001b[39;00m \u001b[39mself\u001b[39;49m\u001b[39m.\u001b[39;49m_engine\u001b[39m.\u001b[39;49mget_loc(casted_key)\n\u001b[0;32m   3653\u001b[0m \u001b[39mexcept\u001b[39;00m \u001b[39mKeyError\u001b[39;00m \u001b[39mas\u001b[39;00m err:\n",
      "File \u001b[1;32mc:\\Users\\lasse\\anaconda3\\envs\\bf\\lib\\site-packages\\pandas\\_libs\\index.pyx:147\u001b[0m, in \u001b[0;36mpandas._libs.index.IndexEngine.get_loc\u001b[1;34m()\u001b[0m\n",
      "File \u001b[1;32mc:\\Users\\lasse\\anaconda3\\envs\\bf\\lib\\site-packages\\pandas\\_libs\\index.pyx:176\u001b[0m, in \u001b[0;36mpandas._libs.index.IndexEngine.get_loc\u001b[1;34m()\u001b[0m\n",
      "File \u001b[1;32mpandas\\_libs\\hashtable_class_helper.pxi:7080\u001b[0m, in \u001b[0;36mpandas._libs.hashtable.PyObjectHashTable.get_item\u001b[1;34m()\u001b[0m\n",
      "File \u001b[1;32mpandas\\_libs\\hashtable_class_helper.pxi:7088\u001b[0m, in \u001b[0;36mpandas._libs.hashtable.PyObjectHashTable.get_item\u001b[1;34m()\u001b[0m\n",
      "\u001b[1;31mKeyError\u001b[0m: 'learning_rate'",
      "\nThe above exception was the direct cause of the following exception:\n",
      "\u001b[1;31mKeyError\u001b[0m                                  Traceback (most recent call last)",
      "Cell \u001b[1;32mIn[6], line 5\u001b[0m\n\u001b[0;32m      2\u001b[0m outcome \u001b[39m=\u001b[39m \u001b[39m'\u001b[39m\u001b[39mlearning_rate\u001b[39m\u001b[39m'\u001b[39m\n\u001b[0;32m      4\u001b[0m fig, ax \u001b[39m=\u001b[39m plt\u001b[39m.\u001b[39msubplots(\u001b[39m1\u001b[39m,\u001b[39m1\u001b[39m, figsize\u001b[39m=\u001b[39m(\u001b[39m10\u001b[39m,\u001b[39m5\u001b[39m))\n\u001b[1;32m----> 5\u001b[0m uniques \u001b[39m=\u001b[39m \u001b[39mlist\u001b[39m(\u001b[39mset\u001b[39m(results[outcome])) \u001b[39m# get categories\u001b[39;00m\n\u001b[0;32m      6\u001b[0m colors \u001b[39m=\u001b[39m plt\u001b[39m.\u001b[39mcm\u001b[39m.\u001b[39mviridis(np\u001b[39m.\u001b[39mlinspace(\u001b[39m0\u001b[39m, \u001b[39m1\u001b[39m, \u001b[39mlen\u001b[39m(uniques)))\n\u001b[0;32m      7\u001b[0m \u001b[39mfor\u001b[39;00m i, value \u001b[39min\u001b[39;00m \u001b[39menumerate\u001b[39m(uniques):\n",
      "File \u001b[1;32mc:\\Users\\lasse\\anaconda3\\envs\\bf\\lib\\site-packages\\pandas\\core\\frame.py:3761\u001b[0m, in \u001b[0;36mDataFrame.__getitem__\u001b[1;34m(self, key)\u001b[0m\n\u001b[0;32m   3759\u001b[0m \u001b[39mif\u001b[39;00m \u001b[39mself\u001b[39m\u001b[39m.\u001b[39mcolumns\u001b[39m.\u001b[39mnlevels \u001b[39m>\u001b[39m \u001b[39m1\u001b[39m:\n\u001b[0;32m   3760\u001b[0m     \u001b[39mreturn\u001b[39;00m \u001b[39mself\u001b[39m\u001b[39m.\u001b[39m_getitem_multilevel(key)\n\u001b[1;32m-> 3761\u001b[0m indexer \u001b[39m=\u001b[39m \u001b[39mself\u001b[39;49m\u001b[39m.\u001b[39;49mcolumns\u001b[39m.\u001b[39;49mget_loc(key)\n\u001b[0;32m   3762\u001b[0m \u001b[39mif\u001b[39;00m is_integer(indexer):\n\u001b[0;32m   3763\u001b[0m     indexer \u001b[39m=\u001b[39m [indexer]\n",
      "File \u001b[1;32mc:\\Users\\lasse\\anaconda3\\envs\\bf\\lib\\site-packages\\pandas\\core\\indexes\\base.py:3654\u001b[0m, in \u001b[0;36mIndex.get_loc\u001b[1;34m(self, key)\u001b[0m\n\u001b[0;32m   3652\u001b[0m     \u001b[39mreturn\u001b[39;00m \u001b[39mself\u001b[39m\u001b[39m.\u001b[39m_engine\u001b[39m.\u001b[39mget_loc(casted_key)\n\u001b[0;32m   3653\u001b[0m \u001b[39mexcept\u001b[39;00m \u001b[39mKeyError\u001b[39;00m \u001b[39mas\u001b[39;00m err:\n\u001b[1;32m-> 3654\u001b[0m     \u001b[39mraise\u001b[39;00m \u001b[39mKeyError\u001b[39;00m(key) \u001b[39mfrom\u001b[39;00m \u001b[39merr\u001b[39;00m\n\u001b[0;32m   3655\u001b[0m \u001b[39mexcept\u001b[39;00m \u001b[39mTypeError\u001b[39;00m:\n\u001b[0;32m   3656\u001b[0m     \u001b[39m# If we have a listlike key, _check_indexing_error will raise\u001b[39;00m\n\u001b[0;32m   3657\u001b[0m     \u001b[39m#  InvalidIndexError. Otherwise we fall through and re-raise\u001b[39;00m\n\u001b[0;32m   3658\u001b[0m     \u001b[39m#  the TypeError.\u001b[39;00m\n\u001b[0;32m   3659\u001b[0m     \u001b[39mself\u001b[39m\u001b[39m.\u001b[39m_check_indexing_error(key)\n",
      "\u001b[1;31mKeyError\u001b[0m: 'learning_rate'"
     ]
    },
    {
     "data": {
      "image/png": "[encoded data removed]",
      "text/plain": [
       "<Figure size 1000x500 with 1 Axes>"
      ]
     },
     "metadata": {},
     "output_type": "display_data"
    }
   ],
   "source": [
    "# Plot final epoch loss\n",
    "outcome = 'learning_rate'\n",
    "\n",
    "fig, ax = plt.subplots(1,1, figsize=(10,5))\n",
    "uniques = list(set(results[outcome])) # get categories\n",
    "colors = plt.cm.viridis(np.linspace(0, 1, len(uniques)))\n",
    "for i, value in enumerate(uniques):\n",
    "    ax.bar(x=results.index[results[outcome]==value], height=results['final_loss'][results[outcome]==value], color=colors[i], label=f'{outcome}={value}')\n",
    "    \n",
    "ax.set_xlim(-0.5,7.5)\n",
    "ax.set_ylim(0,2)\n",
    "ax.set_ylabel('Final epoch running loss')\n",
    "ax.legend()"
   ]
  },
  {
   "attachments": {},
   "cell_type": "markdown",
   "metadata": {},
   "source": [
    "# v2: Size (learning rate was constant with 0.0005!)"
   ]
  },
  {
   "cell_type": "code",
   "execution_count": 3,
   "metadata": {},
   "outputs": [
    {
     "data": {
      "text/html": [
       "<div>\n",
       "<style scoped>\n",
       "    .dataframe tbody tr th:only-of-type {\n",
       "        vertical-align: middle;\n",
       "    }\n",
       "\n",
       "    .dataframe tbody tr th {\n",
       "        vertical-align: top;\n",
       "    }\n",
       "\n",
       "    .dataframe thead th {\n",
       "        text-align: right;\n",
       "    }\n",
       "</style>\n",
       "<table border=\"1\" class=\"dataframe\">\n",
       "  <thead>\n",
       "    <tr style=\"text-align: right;\">\n",
       "      <th></th>\n",
       "      <th>bigger_size</th>\n",
       "      <th>smaller_lr</th>\n",
       "      <th>final_loss</th>\n",
       "      <th>training_time</th>\n",
       "    </tr>\n",
       "  </thead>\n",
       "  <tbody>\n",
       "    <tr>\n",
       "      <th>0</th>\n",
       "      <td>False</td>\n",
       "      <td>False</td>\n",
       "      <td>0.693150</td>\n",
       "      <td>863.819412</td>\n",
       "    </tr>\n",
       "    <tr>\n",
       "      <th>1</th>\n",
       "      <td>False</td>\n",
       "      <td>False</td>\n",
       "      <td>0.693168</td>\n",
       "      <td>850.899682</td>\n",
       "    </tr>\n",
       "    <tr>\n",
       "      <th>2</th>\n",
       "      <td>False</td>\n",
       "      <td>False</td>\n",
       "      <td>0.693145</td>\n",
       "      <td>848.334686</td>\n",
       "    </tr>\n",
       "    <tr>\n",
       "      <th>3</th>\n",
       "      <td>False</td>\n",
       "      <td>False</td>\n",
       "      <td>0.693141</td>\n",
       "      <td>851.271935</td>\n",
       "    </tr>\n",
       "    <tr>\n",
       "      <th>4</th>\n",
       "      <td>False</td>\n",
       "      <td>False</td>\n",
       "      <td>0.693148</td>\n",
       "      <td>853.988375</td>\n",
       "    </tr>\n",
       "    <tr>\n",
       "      <th>5</th>\n",
       "      <td>False</td>\n",
       "      <td>True</td>\n",
       "      <td>0.693145</td>\n",
       "      <td>857.337505</td>\n",
       "    </tr>\n",
       "    <tr>\n",
       "      <th>6</th>\n",
       "      <td>False</td>\n",
       "      <td>True</td>\n",
       "      <td>0.693141</td>\n",
       "      <td>866.864560</td>\n",
       "    </tr>\n",
       "    <tr>\n",
       "      <th>7</th>\n",
       "      <td>False</td>\n",
       "      <td>True</td>\n",
       "      <td>0.693148</td>\n",
       "      <td>873.992757</td>\n",
       "    </tr>\n",
       "    <tr>\n",
       "      <th>8</th>\n",
       "      <td>False</td>\n",
       "      <td>True</td>\n",
       "      <td>0.693116</td>\n",
       "      <td>875.343610</td>\n",
       "    </tr>\n",
       "    <tr>\n",
       "      <th>9</th>\n",
       "      <td>False</td>\n",
       "      <td>True</td>\n",
       "      <td>0.693151</td>\n",
       "      <td>859.799676</td>\n",
       "    </tr>\n",
       "    <tr>\n",
       "      <th>10</th>\n",
       "      <td>True</td>\n",
       "      <td>False</td>\n",
       "      <td>0.693149</td>\n",
       "      <td>849.905858</td>\n",
       "    </tr>\n",
       "    <tr>\n",
       "      <th>11</th>\n",
       "      <td>True</td>\n",
       "      <td>False</td>\n",
       "      <td>0.693148</td>\n",
       "      <td>848.598293</td>\n",
       "    </tr>\n",
       "    <tr>\n",
       "      <th>12</th>\n",
       "      <td>True</td>\n",
       "      <td>False</td>\n",
       "      <td>0.693131</td>\n",
       "      <td>867.807932</td>\n",
       "    </tr>\n",
       "    <tr>\n",
       "      <th>13</th>\n",
       "      <td>True</td>\n",
       "      <td>False</td>\n",
       "      <td>0.693146</td>\n",
       "      <td>874.425588</td>\n",
       "    </tr>\n",
       "    <tr>\n",
       "      <th>14</th>\n",
       "      <td>True</td>\n",
       "      <td>False</td>\n",
       "      <td>0.693143</td>\n",
       "      <td>864.216357</td>\n",
       "    </tr>\n",
       "    <tr>\n",
       "      <th>15</th>\n",
       "      <td>True</td>\n",
       "      <td>True</td>\n",
       "      <td>0.693165</td>\n",
       "      <td>887.254422</td>\n",
       "    </tr>\n",
       "    <tr>\n",
       "      <th>16</th>\n",
       "      <td>True</td>\n",
       "      <td>True</td>\n",
       "      <td>0.693151</td>\n",
       "      <td>883.031910</td>\n",
       "    </tr>\n",
       "    <tr>\n",
       "      <th>17</th>\n",
       "      <td>True</td>\n",
       "      <td>True</td>\n",
       "      <td>0.693148</td>\n",
       "      <td>828.608431</td>\n",
       "    </tr>\n",
       "    <tr>\n",
       "      <th>18</th>\n",
       "      <td>True</td>\n",
       "      <td>True</td>\n",
       "      <td>0.693142</td>\n",
       "      <td>793.697820</td>\n",
       "    </tr>\n",
       "    <tr>\n",
       "      <th>19</th>\n",
       "      <td>True</td>\n",
       "      <td>True</td>\n",
       "      <td>0.693147</td>\n",
       "      <td>787.693171</td>\n",
       "    </tr>\n",
       "  </tbody>\n",
       "</table>\n",
       "</div>"
      ],
      "text/plain": [
       "    bigger_size  smaller_lr  final_loss  training_time\n",
       "0         False       False    0.693150     863.819412\n",
       "1         False       False    0.693168     850.899682\n",
       "2         False       False    0.693145     848.334686\n",
       "3         False       False    0.693141     851.271935\n",
       "4         False       False    0.693148     853.988375\n",
       "5         False        True    0.693145     857.337505\n",
       "6         False        True    0.693141     866.864560\n",
       "7         False        True    0.693148     873.992757\n",
       "8         False        True    0.693116     875.343610\n",
       "9         False        True    0.693151     859.799676\n",
       "10         True       False    0.693149     849.905858\n",
       "11         True       False    0.693148     848.598293\n",
       "12         True       False    0.693131     867.807932\n",
       "13         True       False    0.693146     874.425588\n",
       "14         True       False    0.693143     864.216357\n",
       "15         True        True    0.693165     887.254422\n",
       "16         True        True    0.693151     883.031910\n",
       "17         True        True    0.693148     828.608431\n",
       "18         True        True    0.693142     793.697820\n",
       "19         True        True    0.693147     787.693171"
      ]
     },
     "execution_count": 3,
     "metadata": {},
     "output_type": "execute_result"
    }
   ],
   "source": [
    "# Import data\n",
    "results = pd.read_csv('hyperparameter_tuning_results_size_lr', index_col=0)\n",
    "results"
   ]
  },
  {
   "cell_type": "code",
   "execution_count": 4,
   "metadata": {},
   "outputs": [
    {
     "data": {
      "text/plain": [
       "<matplotlib.legend.Legend at 0x22d5bfc2da0>"
      ]
     },
     "execution_count": 4,
     "metadata": {},
     "output_type": "execute_result"
    },
    {
     "data": {
      "image/png": "[encoded data removed]",
      "text/plain": [
       "<Figure size 1000x500 with 1 Axes>"
      ]
     },
     "metadata": {},
     "output_type": "display_data"
    }
   ],
   "source": [
    "# Plot final epoch loss with respect to summary network size\n",
    "outcome = 'bigger_size'\n",
    "\n",
    "fig, ax = plt.subplots(1,1, figsize=(10,5))\n",
    "uniques = list(set(results[outcome])) # get categories\n",
    "colors = plt.cm.viridis(np.linspace(0, 1, len(uniques)))\n",
    "for i, value in enumerate(uniques):\n",
    "    ax.bar(x=results.index[results[outcome]==value], height=results['final_loss'][results[outcome]==value], color=colors[i], label=f'{outcome}={value}')\n",
    "    \n",
    "ax.set_xlim(-0.5,19.5)\n",
    "ax.set_ylim(0,2)\n",
    "ax.set_ylabel('Final epoch running loss')\n",
    "\n",
    "# fix wrong ordering of legend\n",
    "handles,labels = ax.get_legend_handles_labels()\n",
    "order = [2,0,1,3]\n",
    "#ax.legend([handles[i] for i in order], [labels[i] for i in order])\n",
    "ax.legend()"
   ]
  },
  {
   "attachments": {},
   "cell_type": "markdown",
   "metadata": {},
   "source": [
    "# Learning Rate Decay (Cosine Decay with Resets) Hyperparameters"
   ]
  },
  {
   "attachments": {},
   "cell_type": "markdown",
   "metadata": {},
   "source": [
    "## Initial test with M = 75"
   ]
  },
  {
   "cell_type": "code",
   "execution_count": 4,
   "metadata": {},
   "outputs": [
    {
     "data": {
      "text/html": [
       "<div>\n",
       "<style scoped>\n",
       "    .dataframe tbody tr th:only-of-type {\n",
       "        vertical-align: middle;\n",
       "    }\n",
       "\n",
       "    .dataframe tbody tr th {\n",
       "        vertical-align: top;\n",
       "    }\n",
       "\n",
       "    .dataframe thead th {\n",
       "        text-align: right;\n",
       "    }\n",
       "</style>\n",
       "<table border=\"1\" class=\"dataframe\">\n",
       "  <thead>\n",
       "    <tr style=\"text-align: right;\">\n",
       "      <th></th>\n",
       "      <th>initial_lr</th>\n",
       "      <th>m_mul</th>\n",
       "      <th>final_loss</th>\n",
       "    </tr>\n",
       "  </thead>\n",
       "  <tbody>\n",
       "    <tr>\n",
       "      <th>0</th>\n",
       "      <td>0.00065</td>\n",
       "      <td>0.95</td>\n",
       "      <td>0.165389</td>\n",
       "    </tr>\n",
       "    <tr>\n",
       "      <th>1</th>\n",
       "      <td>0.00065</td>\n",
       "      <td>0.95</td>\n",
       "      <td>0.175521</td>\n",
       "    </tr>\n",
       "    <tr>\n",
       "      <th>2</th>\n",
       "      <td>0.00065</td>\n",
       "      <td>0.95</td>\n",
       "      <td>0.175811</td>\n",
       "    </tr>\n",
       "    <tr>\n",
       "      <th>3</th>\n",
       "      <td>0.00065</td>\n",
       "      <td>0.95</td>\n",
       "      <td>0.165079</td>\n",
       "    </tr>\n",
       "    <tr>\n",
       "      <th>4</th>\n",
       "      <td>0.00065</td>\n",
       "      <td>0.95</td>\n",
       "      <td>0.189475</td>\n",
       "    </tr>\n",
       "    <tr>\n",
       "      <th>...</th>\n",
       "      <td>...</td>\n",
       "      <td>...</td>\n",
       "      <td>...</td>\n",
       "    </tr>\n",
       "    <tr>\n",
       "      <th>95</th>\n",
       "      <td>0.00050</td>\n",
       "      <td>0.75</td>\n",
       "      <td>0.179936</td>\n",
       "    </tr>\n",
       "    <tr>\n",
       "      <th>96</th>\n",
       "      <td>0.00050</td>\n",
       "      <td>0.75</td>\n",
       "      <td>0.213220</td>\n",
       "    </tr>\n",
       "    <tr>\n",
       "      <th>97</th>\n",
       "      <td>0.00050</td>\n",
       "      <td>0.75</td>\n",
       "      <td>0.226972</td>\n",
       "    </tr>\n",
       "    <tr>\n",
       "      <th>98</th>\n",
       "      <td>0.00050</td>\n",
       "      <td>0.75</td>\n",
       "      <td>0.218954</td>\n",
       "    </tr>\n",
       "    <tr>\n",
       "      <th>99</th>\n",
       "      <td>0.00050</td>\n",
       "      <td>0.75</td>\n",
       "      <td>0.201153</td>\n",
       "    </tr>\n",
       "  </tbody>\n",
       "</table>\n",
       "<p>100 rows × 3 columns</p>\n",
       "</div>"
      ],
      "text/plain": [
       "    initial_lr  m_mul  final_loss\n",
       "0      0.00065   0.95    0.165389\n",
       "1      0.00065   0.95    0.175521\n",
       "2      0.00065   0.95    0.175811\n",
       "3      0.00065   0.95    0.165079\n",
       "4      0.00065   0.95    0.189475\n",
       "..         ...    ...         ...\n",
       "95     0.00050   0.75    0.179936\n",
       "96     0.00050   0.75    0.213220\n",
       "97     0.00050   0.75    0.226972\n",
       "98     0.00050   0.75    0.218954\n",
       "99     0.00050   0.75    0.201153\n",
       "\n",
       "[100 rows x 3 columns]"
      ]
     },
     "execution_count": 4,
     "metadata": {},
     "output_type": "execute_result"
    }
   ],
   "source": [
    "# Import data\n",
    "results = pd.read_csv('hyperparameter_tuning_results_m75', index_col=0)\n",
    "results"
   ]
  },
  {
   "attachments": {},
   "cell_type": "markdown",
   "metadata": {},
   "source": [
    "Comment: A final running loss of .18 corresponds to accuracies between .95-.97 for both the evidential and the softmax output (and ECEs around .07)."
   ]
  },
  {
   "cell_type": "code",
   "execution_count": 5,
   "metadata": {},
   "outputs": [
    {
     "data": {
      "text/plain": [
       "<matplotlib.legend.Legend at 0x244ba9cc6a0>"
      ]
     },
     "execution_count": 5,
     "metadata": {},
     "output_type": "execute_result"
    },
    {
     "data": {
      "image/png": "[encoded data removed]",
      "text/plain": [
       "<Figure size 720x360 with 1 Axes>"
      ]
     },
     "metadata": {},
     "output_type": "display_data"
    }
   ],
   "source": [
    "# Plot final epoch loss with respect to initial learning rate\n",
    "outcome = 'initial_lr'\n",
    "\n",
    "fig, ax = plt.subplots(1,1, figsize=(10,5))\n",
    "uniques = list(set(results[outcome])) # get categories\n",
    "colors = plt.cm.viridis(np.linspace(0, 1, len(uniques)))\n",
    "for i, value in enumerate(uniques):\n",
    "    ax.bar(x=results.index[results[outcome]==value], height=results['final_loss'][results[outcome]==value], color=colors[i], label=f'{outcome}={value}')\n",
    "    \n",
    "ax.set_xlim(-0.5,99.5)\n",
    "ax.set_ylim(0,2)\n",
    "ax.set_ylabel('Final epoch running loss')\n",
    "\n",
    "# fix wrong ordering of legend\n",
    "handles,labels = ax.get_legend_handles_labels()\n",
    "order = [2,0,1,3]\n",
    "ax.legend([handles[i] for i in order], [labels[i] for i in order])"
   ]
  },
  {
   "cell_type": "code",
   "execution_count": 6,
   "metadata": {},
   "outputs": [
    {
     "data": {
      "text/plain": [
       "<matplotlib.legend.Legend at 0x244bbb59d00>"
      ]
     },
     "execution_count": 6,
     "metadata": {},
     "output_type": "execute_result"
    },
    {
     "data": {
      "image/png": "[encoded data removed]",
      "text/plain": [
       "<Figure size 720x360 with 1 Axes>"
      ]
     },
     "metadata": {},
     "output_type": "display_data"
    }
   ],
   "source": [
    "# Plot final epoch loss with respect to decay rate (lower=faster decay)\n",
    "outcome = 'm_mul'\n",
    "\n",
    "fig, ax = plt.subplots(1,1, figsize=(10,5))\n",
    "uniques = list(set(results[outcome])) # get categories\n",
    "colors = plt.cm.viridis(np.linspace(0, 1, len(uniques)))\n",
    "for i, value in enumerate(uniques):\n",
    "    ax.bar(x=results.index[results[outcome]==value], height=results['final_loss'][results[outcome]==value], color=colors[i], label=f'{outcome}={value}')\n",
    "    \n",
    "ax.set_xlim(-0.5,99.5)\n",
    "ax.set_ylim(0,2)\n",
    "ax.set_ylabel('Final epoch running loss')\n",
    "ax.legend()"
   ]
  },
  {
   "attachments": {},
   "cell_type": "markdown",
   "metadata": {},
   "source": [
    "## Second test with M = 50"
   ]
  },
  {
   "cell_type": "code",
   "execution_count": 7,
   "metadata": {},
   "outputs": [
    {
     "data": {
      "text/html": [
       "<div>\n",
       "<style scoped>\n",
       "    .dataframe tbody tr th:only-of-type {\n",
       "        vertical-align: middle;\n",
       "    }\n",
       "\n",
       "    .dataframe tbody tr th {\n",
       "        vertical-align: top;\n",
       "    }\n",
       "\n",
       "    .dataframe thead th {\n",
       "        text-align: right;\n",
       "    }\n",
       "</style>\n",
       "<table border=\"1\" class=\"dataframe\">\n",
       "  <thead>\n",
       "    <tr style=\"text-align: right;\">\n",
       "      <th></th>\n",
       "      <th>initial_lr</th>\n",
       "      <th>m_mul</th>\n",
       "      <th>final_loss</th>\n",
       "    </tr>\n",
       "  </thead>\n",
       "  <tbody>\n",
       "    <tr>\n",
       "      <th>0</th>\n",
       "      <td>0.00065</td>\n",
       "      <td>0.8</td>\n",
       "      <td>0.236606</td>\n",
       "    </tr>\n",
       "    <tr>\n",
       "      <th>1</th>\n",
       "      <td>0.00065</td>\n",
       "      <td>0.8</td>\n",
       "      <td>0.242102</td>\n",
       "    </tr>\n",
       "    <tr>\n",
       "      <th>2</th>\n",
       "      <td>0.00065</td>\n",
       "      <td>0.8</td>\n",
       "      <td>0.227229</td>\n",
       "    </tr>\n",
       "    <tr>\n",
       "      <th>3</th>\n",
       "      <td>0.00065</td>\n",
       "      <td>0.8</td>\n",
       "      <td>0.221264</td>\n",
       "    </tr>\n",
       "    <tr>\n",
       "      <th>4</th>\n",
       "      <td>0.00065</td>\n",
       "      <td>0.8</td>\n",
       "      <td>0.277865</td>\n",
       "    </tr>\n",
       "    <tr>\n",
       "      <th>5</th>\n",
       "      <td>0.00050</td>\n",
       "      <td>0.8</td>\n",
       "      <td>0.226577</td>\n",
       "    </tr>\n",
       "    <tr>\n",
       "      <th>6</th>\n",
       "      <td>0.00050</td>\n",
       "      <td>0.8</td>\n",
       "      <td>0.237445</td>\n",
       "    </tr>\n",
       "    <tr>\n",
       "      <th>7</th>\n",
       "      <td>0.00050</td>\n",
       "      <td>0.8</td>\n",
       "      <td>0.308270</td>\n",
       "    </tr>\n",
       "    <tr>\n",
       "      <th>8</th>\n",
       "      <td>0.00050</td>\n",
       "      <td>0.8</td>\n",
       "      <td>0.252728</td>\n",
       "    </tr>\n",
       "    <tr>\n",
       "      <th>9</th>\n",
       "      <td>0.00050</td>\n",
       "      <td>0.8</td>\n",
       "      <td>0.266609</td>\n",
       "    </tr>\n",
       "  </tbody>\n",
       "</table>\n",
       "</div>"
      ],
      "text/plain": [
       "   initial_lr  m_mul  final_loss\n",
       "0     0.00065    0.8    0.236606\n",
       "1     0.00065    0.8    0.242102\n",
       "2     0.00065    0.8    0.227229\n",
       "3     0.00065    0.8    0.221264\n",
       "4     0.00065    0.8    0.277865\n",
       "5     0.00050    0.8    0.226577\n",
       "6     0.00050    0.8    0.237445\n",
       "7     0.00050    0.8    0.308270\n",
       "8     0.00050    0.8    0.252728\n",
       "9     0.00050    0.8    0.266609"
      ]
     },
     "execution_count": 7,
     "metadata": {},
     "output_type": "execute_result"
    }
   ],
   "source": [
    "# Import data\n",
    "results = pd.read_csv('hyperparameter_tuning_results_m50', index_col=0)\n",
    "results"
   ]
  },
  {
   "cell_type": "code",
   "execution_count": 8,
   "metadata": {},
   "outputs": [
    {
     "data": {
      "text/plain": [
       "<matplotlib.legend.Legend at 0x244bbc62d30>"
      ]
     },
     "execution_count": 8,
     "metadata": {},
     "output_type": "execute_result"
    },
    {
     "data": {
      "image/png": "[encoded data removed]",
      "text/plain": [
       "<Figure size 720x360 with 1 Axes>"
      ]
     },
     "metadata": {},
     "output_type": "display_data"
    }
   ],
   "source": [
    "# Plot final epoch loss with respect to initial learning rate\n",
    "outcome = 'initial_lr'\n",
    "\n",
    "fig, ax = plt.subplots(1,1, figsize=(10,5))\n",
    "uniques = list(set(results[outcome])) # get categories\n",
    "colors = plt.cm.viridis(np.linspace(0, 1, len(uniques)))\n",
    "for i, value in enumerate(uniques):\n",
    "    ax.bar(x=results.index[results[outcome]==value], height=results['final_loss'][results[outcome]==value], color=colors[i], label=f'{outcome}={value}')\n",
    "    \n",
    "ax.set_xlim(-0.5,9.5)\n",
    "ax.set_ylabel('Final epoch running loss')\n",
    "ax.legend()"
   ]
  },
  {
   "attachments": {},
   "cell_type": "markdown",
   "metadata": {},
   "source": [
    "Comment: A final running loss of .23 corresponds to accuracies between .93-.96 for both the evidential and the softmax output (and ECEs around .07)."
   ]
  },
  {
   "cell_type": "code",
   "execution_count": 10,
   "metadata": {},
   "outputs": [
    {
     "data": {
      "text/plain": [
       "0.2318004775"
      ]
     },
     "execution_count": 10,
     "metadata": {},
     "output_type": "execute_result"
    }
   ],
   "source": [
    "np.mean(results['final_loss'][0:4])"
   ]
  },
  {
   "cell_type": "code",
   "execution_count": 11,
   "metadata": {},
   "outputs": [
    {
     "data": {
      "text/plain": [
       "0.2562551375"
      ]
     },
     "execution_count": 11,
     "metadata": {},
     "output_type": "execute_result"
    }
   ],
   "source": [
    "np.mean(results['final_loss'][5:9])"
   ]
  },
  {
   "attachments": {},
   "cell_type": "markdown",
   "metadata": {},
   "source": [
    "# Dropout and Input Noise"
   ]
  },
  {
   "attachments": {},
   "cell_type": "markdown",
   "metadata": {},
   "source": [
    "## M = 25"
   ]
  },
  {
   "cell_type": "code",
   "execution_count": 25,
   "metadata": {},
   "outputs": [
    {
     "data": {
      "text/html": [
       "<div>\n",
       "<style scoped>\n",
       "    .dataframe tbody tr th:only-of-type {\n",
       "        vertical-align: middle;\n",
       "    }\n",
       "\n",
       "    .dataframe tbody tr th {\n",
       "        vertical-align: top;\n",
       "    }\n",
       "\n",
       "    .dataframe thead th {\n",
       "        text-align: right;\n",
       "    }\n",
       "</style>\n",
       "<table border=\"1\" class=\"dataframe\">\n",
       "  <thead>\n",
       "    <tr style=\"text-align: right;\">\n",
       "      <th></th>\n",
       "      <th>dropout</th>\n",
       "      <th>input noise</th>\n",
       "      <th>final_loss</th>\n",
       "    </tr>\n",
       "  </thead>\n",
       "  <tbody>\n",
       "    <tr>\n",
       "      <th>0</th>\n",
       "      <td>False</td>\n",
       "      <td>0.00</td>\n",
       "      <td>0.166121</td>\n",
       "    </tr>\n",
       "    <tr>\n",
       "      <th>1</th>\n",
       "      <td>False</td>\n",
       "      <td>0.00</td>\n",
       "      <td>0.178621</td>\n",
       "    </tr>\n",
       "    <tr>\n",
       "      <th>2</th>\n",
       "      <td>False</td>\n",
       "      <td>0.00</td>\n",
       "      <td>0.172776</td>\n",
       "    </tr>\n",
       "    <tr>\n",
       "      <th>3</th>\n",
       "      <td>False</td>\n",
       "      <td>0.00</td>\n",
       "      <td>0.200245</td>\n",
       "    </tr>\n",
       "    <tr>\n",
       "      <th>4</th>\n",
       "      <td>False</td>\n",
       "      <td>0.00</td>\n",
       "      <td>0.177154</td>\n",
       "    </tr>\n",
       "    <tr>\n",
       "      <th>5</th>\n",
       "      <td>False</td>\n",
       "      <td>0.05</td>\n",
       "      <td>0.237931</td>\n",
       "    </tr>\n",
       "    <tr>\n",
       "      <th>6</th>\n",
       "      <td>False</td>\n",
       "      <td>0.05</td>\n",
       "      <td>0.164746</td>\n",
       "    </tr>\n",
       "    <tr>\n",
       "      <th>7</th>\n",
       "      <td>False</td>\n",
       "      <td>0.05</td>\n",
       "      <td>0.250386</td>\n",
       "    </tr>\n",
       "    <tr>\n",
       "      <th>8</th>\n",
       "      <td>False</td>\n",
       "      <td>0.05</td>\n",
       "      <td>0.174719</td>\n",
       "    </tr>\n",
       "    <tr>\n",
       "      <th>9</th>\n",
       "      <td>False</td>\n",
       "      <td>0.05</td>\n",
       "      <td>0.466809</td>\n",
       "    </tr>\n",
       "    <tr>\n",
       "      <th>10</th>\n",
       "      <td>True</td>\n",
       "      <td>0.00</td>\n",
       "      <td>0.623129</td>\n",
       "    </tr>\n",
       "    <tr>\n",
       "      <th>11</th>\n",
       "      <td>True</td>\n",
       "      <td>0.00</td>\n",
       "      <td>0.693116</td>\n",
       "    </tr>\n",
       "    <tr>\n",
       "      <th>12</th>\n",
       "      <td>True</td>\n",
       "      <td>0.00</td>\n",
       "      <td>0.167123</td>\n",
       "    </tr>\n",
       "    <tr>\n",
       "      <th>13</th>\n",
       "      <td>True</td>\n",
       "      <td>0.00</td>\n",
       "      <td>0.166923</td>\n",
       "    </tr>\n",
       "    <tr>\n",
       "      <th>14</th>\n",
       "      <td>True</td>\n",
       "      <td>0.00</td>\n",
       "      <td>0.693147</td>\n",
       "    </tr>\n",
       "    <tr>\n",
       "      <th>15</th>\n",
       "      <td>True</td>\n",
       "      <td>0.05</td>\n",
       "      <td>0.693187</td>\n",
       "    </tr>\n",
       "    <tr>\n",
       "      <th>16</th>\n",
       "      <td>True</td>\n",
       "      <td>0.05</td>\n",
       "      <td>0.693197</td>\n",
       "    </tr>\n",
       "    <tr>\n",
       "      <th>17</th>\n",
       "      <td>True</td>\n",
       "      <td>0.05</td>\n",
       "      <td>0.693427</td>\n",
       "    </tr>\n",
       "    <tr>\n",
       "      <th>18</th>\n",
       "      <td>True</td>\n",
       "      <td>0.05</td>\n",
       "      <td>0.164863</td>\n",
       "    </tr>\n",
       "    <tr>\n",
       "      <th>19</th>\n",
       "      <td>True</td>\n",
       "      <td>0.05</td>\n",
       "      <td>0.693230</td>\n",
       "    </tr>\n",
       "  </tbody>\n",
       "</table>\n",
       "</div>"
      ],
      "text/plain": [
       "    dropout  input noise  final_loss\n",
       "0     False         0.00    0.166121\n",
       "1     False         0.00    0.178621\n",
       "2     False         0.00    0.172776\n",
       "3     False         0.00    0.200245\n",
       "4     False         0.00    0.177154\n",
       "5     False         0.05    0.237931\n",
       "6     False         0.05    0.164746\n",
       "7     False         0.05    0.250386\n",
       "8     False         0.05    0.174719\n",
       "9     False         0.05    0.466809\n",
       "10     True         0.00    0.623129\n",
       "11     True         0.00    0.693116\n",
       "12     True         0.00    0.167123\n",
       "13     True         0.00    0.166923\n",
       "14     True         0.00    0.693147\n",
       "15     True         0.05    0.693187\n",
       "16     True         0.05    0.693197\n",
       "17     True         0.05    0.693427\n",
       "18     True         0.05    0.164863\n",
       "19     True         0.05    0.693230"
      ]
     },
     "execution_count": 25,
     "metadata": {},
     "output_type": "execute_result"
    }
   ],
   "source": [
    "# Import data\n",
    "results = pd.read_csv('hyperparameter_tuning_results_dropout_input_noise', index_col=0)\n",
    "results['input noise'] = results['input noise'].fillna(0)\n",
    "results"
   ]
  },
  {
   "cell_type": "code",
   "execution_count": 28,
   "metadata": {},
   "outputs": [
    {
     "data": {
      "text/plain": [
       "<matplotlib.legend.Legend at 0x129517e2280>"
      ]
     },
     "execution_count": 28,
     "metadata": {},
     "output_type": "execute_result"
    },
    {
     "data": {
      "image/png": "[encoded data removed]",
      "text/plain": [
       "<Figure size 720x360 with 1 Axes>"
      ]
     },
     "metadata": {},
     "output_type": "display_data"
    }
   ],
   "source": [
    "# Plot final epoch loss with respect to dropout\n",
    "outcome = 'dropout'\n",
    "\n",
    "fig, ax = plt.subplots(1,1, figsize=(10,5))\n",
    "uniques = list(set(results[outcome])) # get categories\n",
    "colors = plt.cm.viridis(np.linspace(0, 1, len(uniques)))\n",
    "for i, value in enumerate(uniques):\n",
    "    ax.bar(x=results.index[results[outcome]==value], height=results['final_loss'][results[outcome]==value], color=colors[i], label=f'{outcome}={value}')\n",
    "    \n",
    "ax.set_xlim(-0.5,19.5)\n",
    "ax.set_xlabel('NN training trial')\n",
    "ax.set_ylabel('Final epoch running loss')\n",
    "ax.legend()"
   ]
  },
  {
   "cell_type": "code",
   "execution_count": 29,
   "metadata": {},
   "outputs": [
    {
     "data": {
      "text/plain": [
       "<matplotlib.legend.Legend at 0x12951891910>"
      ]
     },
     "execution_count": 29,
     "metadata": {},
     "output_type": "execute_result"
    },
    {
     "data": {
      "image/png": "[encoded data removed]",
      "text/plain": [
       "<Figure size 720x360 with 1 Axes>"
      ]
     },
     "metadata": {},
     "output_type": "display_data"
    }
   ],
   "source": [
    "# Plot final epoch loss with respect to input noise\n",
    "outcome = 'input noise'\n",
    "\n",
    "fig, ax = plt.subplots(1,1, figsize=(10,5))\n",
    "uniques = list(set(results[outcome])) # get categories\n",
    "colors = plt.cm.viridis(np.linspace(0, 1, len(uniques)))\n",
    "for i, value in enumerate(uniques):\n",
    "    ax.bar(x=results.index[results[outcome]==value], height=results['final_loss'][results[outcome]==value], color=colors[i], label=f'{outcome}={value}')\n",
    "    \n",
    "ax.set_xlim(-0.5,19.5)\n",
    "ax.set_xlabel('NN training trial')\n",
    "ax.set_ylabel('Final epoch running loss')\n",
    "ax.legend()"
   ]
  }
 ],
 "metadata": {
  "kernelspec": {
   "display_name": "Python 3.8.13 ('tf')",
   "language": "python",
   "name": "python3"
  },
  "language_info": {
   "codemirror_mode": {
    "name": "ipython",
    "version": 3
   },
   "file_extension": ".py",
   "mimetype": "text/x-python",
   "name": "python",
   "nbconvert_exporter": "python",
   "pygments_lexer": "ipython3",
   "version": "3.10.10"
  },
  "orig_nbformat": 4,
  "vscode": {
   "interpreter": {
    "hash": "27a86c9f63fe2f1aa7d9f3c637434a8367b5c148236c1390e91d25c0e560ef1a"
   }
  }
 },
 "nbformat": 4,
 "nbformat_minor": 2
}
