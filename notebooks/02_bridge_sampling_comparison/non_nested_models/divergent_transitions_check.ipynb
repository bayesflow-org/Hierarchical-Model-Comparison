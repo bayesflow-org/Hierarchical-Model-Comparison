{
 "cells": [
  {
   "cell_type": "markdown",
   "metadata": {},
   "source": [
    "# Setup"
   ]
  },
  {
   "cell_type": "code",
   "execution_count": 1,
   "metadata": {},
   "outputs": [],
   "source": [
    "import os, sys\n",
    "\n",
    "sys.path.append(os.path.abspath(os.path.join(\"../../..\")))  # access sibling directories\n",
    "sys.path.append(\"C:\\\\Users\\\\lasse\\\\Documents\\\\GitHub\\\\BayesFlow\")\n",
    "\n",
    "from src.python.settings import summary_meta_validation, probability_meta_validation\n",
    "from src.python.networks import HierarchicalInvariantNetwork, ModelProbabilityNetwork\n",
    "from src.python.models import HierarchicalSdtMptSimulator, MainSimulator\n",
    "from src.python.metrics import performance_metrics, bootstrapped_metrics\n",
    "from src.python.helpers import (\n",
    "    n_clust_obs_f_f,\n",
    "    log_with_inf_noise_addition,\n",
    "    computation_times,\n",
    "    get_repeated_predictions,\n",
    ")\n",
    "from src.python.visualization import (\n",
    "    plot_approximations,\n",
    "    plot_computation_times,\n",
    "    plot_calibration_curve_repetition_uncertainty,\n",
    ")\n",
    "\n",
    "import numpy as np\n",
    "\n",
    "np.set_printoptions(suppress=True)\n",
    "import pandas as pd\n",
    "from functools import partial\n",
    "import matplotlib.pyplot as plt\n",
    "\n",
    "from bayesflow.trainers import ModelComparisonTrainer\n",
    "from bayesflow.amortizers import MultiModelAmortizer"
   ]
  },
  {
   "cell_type": "code",
   "execution_count": 2,
   "metadata": {},
   "outputs": [
    {
     "data": {
      "text/plain": [
       "<Figure size 432x288 with 0 Axes>"
      ]
     },
     "metadata": {},
     "output_type": "display_data"
    }
   ],
   "source": [
    "# Hack to correctly set facecolor to white\n",
    "# matplotlib 3.5 only sets facecolor if a plot was already created\n",
    "_ = plt.figure()\n",
    "plt.rcParams[\"figure.facecolor\"] = \"w\""
   ]
  },
  {
   "cell_type": "markdown",
   "metadata": {},
   "source": [
    "# Load data"
   ]
  },
  {
   "cell_type": "code",
   "execution_count": 3,
   "metadata": {},
   "outputs": [],
   "source": [
    "comparison_folder = os.path.join(\n",
    "    os.path.dirname(os.path.dirname(os.path.dirname(os.getcwd()))),\n",
    "    \"data\",\n",
    "    \"02_bridge_sampling_comparison\",\n",
    "    \"non_nested_models\",\n",
    ")\n",
    "bridge_file = \"2023_01_20_BF_BS\"\n",
    "NN_fixed_file = \"2022_12_06_BF_NN_softmax_30epochs\"\n",
    "\n",
    "bridge = pd.read_csv(os.path.join(comparison_folder, bridge_file), sep=\" \").reset_index(\n",
    "    drop=True\n",
    ")\n",
    "NN_fixed = pd.read_csv(os.path.join(comparison_folder, NN_fixed_file))\n",
    "n_div_transitions = pd.read_csv(\n",
    "    os.path.join(comparison_folder, \"2023_01_20_BF_BS_n_div_trans\"), sep=\" \"\n",
    ").reset_index(drop=True)\n",
    "\n",
    "results_list = [bridge, NN_fixed]"
   ]
  },
  {
   "cell_type": "code",
   "execution_count": 26,
   "metadata": {},
   "outputs": [
    {
     "data": {
      "text/plain": [
       "array([[   0,    0],\n",
       "       [   0,    0],\n",
       "       [   0,    0],\n",
       "       [   0,    0],\n",
       "       [   0, 8069],\n",
       "       [   0,    0],\n",
       "       [   0,  240],\n",
       "       [   0, 2236],\n",
       "       [   0,    1],\n",
       "       [   0,    0],\n",
       "       [   0,    0],\n",
       "       [   0,    0],\n",
       "       [   0,    0],\n",
       "       [   0,    0],\n",
       "       [   0,    0],\n",
       "       [   0,    0],\n",
       "       [   0, 3754],\n",
       "       [   0,    0],\n",
       "       [   0,    0],\n",
       "       [   0, 3451],\n",
       "       [   0,    0],\n",
       "       [   0,   52],\n",
       "       [   0, 2398],\n",
       "       [   0,  831],\n",
       "       [   0,  304],\n",
       "       [   0,    0],\n",
       "       [   0,    0],\n",
       "       [   0,    0],\n",
       "       [   0,    0],\n",
       "       [   0,    9],\n",
       "       [   0, 2395],\n",
       "       [   0,    0],\n",
       "       [   0,    0],\n",
       "       [   0,    0],\n",
       "       [   0,    0],\n",
       "       [   0,    0],\n",
       "       [   0,    0],\n",
       "       [   0, 2300],\n",
       "       [   0,    0],\n",
       "       [   0,    0],\n",
       "       [   0, 3718],\n",
       "       [   0,   69],\n",
       "       [   0, 5592],\n",
       "       [   0, 1045],\n",
       "       [   0, 2450],\n",
       "       [   0,    0],\n",
       "       [   0, 1121],\n",
       "       [   0,    0],\n",
       "       [   0,    0],\n",
       "       [   0,    0],\n",
       "       [   0,    0],\n",
       "       [   0,    0],\n",
       "       [   0, 8887],\n",
       "       [   0, 5223],\n",
       "       [   0,    0],\n",
       "       [   0,  964],\n",
       "       [   0,    0],\n",
       "       [   0,    0],\n",
       "       [   0,    0],\n",
       "       [   0,    0],\n",
       "       [   0,    0],\n",
       "       [   0,    0],\n",
       "       [   0, 1440],\n",
       "       [   0,    0],\n",
       "       [   0,    0],\n",
       "       [   0,    0],\n",
       "       [   0,    0],\n",
       "       [   0,    0],\n",
       "       [   0,    1],\n",
       "       [   0,    0],\n",
       "       [   0,    0],\n",
       "       [   0,    4],\n",
       "       [   0,    0],\n",
       "       [   0,    0],\n",
       "       [   0,    0],\n",
       "       [   0, 3990],\n",
       "       [   0,    0],\n",
       "       [   0,    0],\n",
       "       [   0,    0],\n",
       "       [   0,    0],\n",
       "       [   0, 3938],\n",
       "       [   0,    0],\n",
       "       [   0,    0],\n",
       "       [   0, 2196],\n",
       "       [   0,   17],\n",
       "       [   0,    0],\n",
       "       [   0,    0],\n",
       "       [   0, 7915],\n",
       "       [   0,    1],\n",
       "       [   0,    8],\n",
       "       [   0, 7677],\n",
       "       [   0,    0],\n",
       "       [   0, 3311],\n",
       "       [   0,    0],\n",
       "       [   0,  753],\n",
       "       [   0,    0],\n",
       "       [   0,  316],\n",
       "       [   0,    0],\n",
       "       [   0,    0],\n",
       "       [   0,   71]], dtype=int64)"
      ]
     },
     "execution_count": 26,
     "metadata": {},
     "output_type": "execute_result"
    }
   ],
   "source": [
    "np.sort(n_div_transitions)"
   ]
  },
  {
   "cell_type": "markdown",
   "metadata": {},
   "source": [
    "# Calculate performance metrics"
   ]
  },
  {
   "cell_type": "code",
   "execution_count": 4,
   "metadata": {},
   "outputs": [],
   "source": [
    "n_bootstrap = 1000\n",
    "names = [\"Bridge sampling\", \"Neural network\"]\n",
    "metrics = [\"Accuracy\", \"ROC AUC\", \"MAE\", \"RMSE\", \"Log score\", \"SBC\"]\n",
    "\n",
    "# Calculate performance metrics\n",
    "perf_metrics = performance_metrics(\n",
    "    results_list, names=names, metrics=metrics, model_prior=0.5\n",
    ")\n",
    "\n",
    "# Calculate bootstrapped performance metrics\n",
    "metrics_means, metrics_ses = bootstrapped_metrics(\n",
    "    results_list, n_bootstrap=1000, names=names, metrics=metrics, model_prior=0.5\n",
    ")"
   ]
  },
  {
   "cell_type": "code",
   "execution_count": 5,
   "metadata": {},
   "outputs": [
    {
     "data": {
      "text/html": [
       "<div>\n",
       "<style scoped>\n",
       "    .dataframe tbody tr th:only-of-type {\n",
       "        vertical-align: middle;\n",
       "    }\n",
       "\n",
       "    .dataframe tbody tr th {\n",
       "        vertical-align: top;\n",
       "    }\n",
       "\n",
       "    .dataframe thead th {\n",
       "        text-align: right;\n",
       "    }\n",
       "</style>\n",
       "<table border=\"1\" class=\"dataframe\">\n",
       "  <thead>\n",
       "    <tr style=\"text-align: right;\">\n",
       "      <th></th>\n",
       "      <th>Accuracy</th>\n",
       "      <th>ROC AUC</th>\n",
       "      <th>MAE</th>\n",
       "      <th>RMSE</th>\n",
       "      <th>Log score</th>\n",
       "      <th>SBC</th>\n",
       "    </tr>\n",
       "  </thead>\n",
       "  <tbody>\n",
       "    <tr>\n",
       "      <th>Bridge sampling</th>\n",
       "      <td>0.95</td>\n",
       "      <td>0.9856</td>\n",
       "      <td>0.094879</td>\n",
       "      <td>0.217214</td>\n",
       "      <td>0.153464</td>\n",
       "      <td>-0.005661</td>\n",
       "    </tr>\n",
       "    <tr>\n",
       "      <th>Neural network</th>\n",
       "      <td>0.95</td>\n",
       "      <td>0.9848</td>\n",
       "      <td>0.096166</td>\n",
       "      <td>0.214380</td>\n",
       "      <td>0.155125</td>\n",
       "      <td>-0.002499</td>\n",
       "    </tr>\n",
       "  </tbody>\n",
       "</table>\n",
       "</div>"
      ],
      "text/plain": [
       "                 Accuracy  ROC AUC       MAE      RMSE  Log score       SBC\n",
       "Bridge sampling      0.95   0.9856  0.094879  0.217214   0.153464 -0.005661\n",
       "Neural network       0.95   0.9848  0.096166  0.214380   0.155125 -0.002499"
      ]
     },
     "execution_count": 5,
     "metadata": {},
     "output_type": "execute_result"
    }
   ],
   "source": [
    "# Raw results\n",
    "perf_metrics"
   ]
  },
  {
   "cell_type": "code",
   "execution_count": 6,
   "metadata": {},
   "outputs": [
    {
     "data": {
      "text/html": [
       "<div>\n",
       "<style scoped>\n",
       "    .dataframe tbody tr th:only-of-type {\n",
       "        vertical-align: middle;\n",
       "    }\n",
       "\n",
       "    .dataframe tbody tr th {\n",
       "        vertical-align: top;\n",
       "    }\n",
       "\n",
       "    .dataframe thead th {\n",
       "        text-align: right;\n",
       "    }\n",
       "</style>\n",
       "<table border=\"1\" class=\"dataframe\">\n",
       "  <thead>\n",
       "    <tr style=\"text-align: right;\">\n",
       "      <th></th>\n",
       "      <th>Accuracy</th>\n",
       "      <th>ROC AUC</th>\n",
       "      <th>MAE</th>\n",
       "      <th>RMSE</th>\n",
       "      <th>Log score</th>\n",
       "      <th>SBC</th>\n",
       "    </tr>\n",
       "  </thead>\n",
       "  <tbody>\n",
       "    <tr>\n",
       "      <th>Bridge sampling</th>\n",
       "      <td>0.95040</td>\n",
       "      <td>0.985731</td>\n",
       "      <td>0.094458</td>\n",
       "      <td>0.213629</td>\n",
       "      <td>0.152363</td>\n",
       "      <td>-0.004674</td>\n",
       "    </tr>\n",
       "    <tr>\n",
       "      <th>Neural network</th>\n",
       "      <td>0.95053</td>\n",
       "      <td>0.984979</td>\n",
       "      <td>0.095837</td>\n",
       "      <td>0.210804</td>\n",
       "      <td>0.154022</td>\n",
       "      <td>-0.001643</td>\n",
       "    </tr>\n",
       "  </tbody>\n",
       "</table>\n",
       "</div>"
      ],
      "text/plain": [
       "                 Accuracy   ROC AUC       MAE      RMSE  Log score       SBC\n",
       "Bridge sampling   0.95040  0.985731  0.094458  0.213629   0.152363 -0.004674\n",
       "Neural network    0.95053  0.984979  0.095837  0.210804   0.154022 -0.001643"
      ]
     },
     "execution_count": 6,
     "metadata": {},
     "output_type": "execute_result"
    }
   ],
   "source": [
    "# Bootstrapped means\n",
    "metrics_means"
   ]
  },
  {
   "cell_type": "code",
   "execution_count": 7,
   "metadata": {},
   "outputs": [
    {
     "data": {
      "text/html": [
       "<div>\n",
       "<style scoped>\n",
       "    .dataframe tbody tr th:only-of-type {\n",
       "        vertical-align: middle;\n",
       "    }\n",
       "\n",
       "    .dataframe tbody tr th {\n",
       "        vertical-align: top;\n",
       "    }\n",
       "\n",
       "    .dataframe thead th {\n",
       "        text-align: right;\n",
       "    }\n",
       "</style>\n",
       "<table border=\"1\" class=\"dataframe\">\n",
       "  <thead>\n",
       "    <tr style=\"text-align: right;\">\n",
       "      <th></th>\n",
       "      <th>Accuracy</th>\n",
       "      <th>ROC AUC</th>\n",
       "      <th>MAE</th>\n",
       "      <th>RMSE</th>\n",
       "      <th>Log score</th>\n",
       "      <th>SBC</th>\n",
       "    </tr>\n",
       "  </thead>\n",
       "  <tbody>\n",
       "    <tr>\n",
       "      <th>Bridge sampling</th>\n",
       "      <td>0.021754</td>\n",
       "      <td>0.008735</td>\n",
       "      <td>0.019541</td>\n",
       "      <td>0.034350</td>\n",
       "      <td>0.041905</td>\n",
       "      <td>0.043607</td>\n",
       "    </tr>\n",
       "    <tr>\n",
       "      <th>Neural network</th>\n",
       "      <td>0.021527</td>\n",
       "      <td>0.009248</td>\n",
       "      <td>0.019167</td>\n",
       "      <td>0.034542</td>\n",
       "      <td>0.043053</td>\n",
       "      <td>0.043208</td>\n",
       "    </tr>\n",
       "  </tbody>\n",
       "</table>\n",
       "</div>"
      ],
      "text/plain": [
       "                 Accuracy   ROC AUC       MAE      RMSE  Log score       SBC\n",
       "Bridge sampling  0.021754  0.008735  0.019541  0.034350   0.041905  0.043607\n",
       "Neural network   0.021527  0.009248  0.019167  0.034542   0.043053  0.043208"
      ]
     },
     "execution_count": 7,
     "metadata": {},
     "output_type": "execute_result"
    }
   ],
   "source": [
    "# Bootstrapped standard errors\n",
    "metrics_ses"
   ]
  },
  {
   "cell_type": "markdown",
   "metadata": {},
   "source": [
    "# Investigate influence of # of divergent transitions"
   ]
  },
  {
   "cell_type": "code",
   "execution_count": 8,
   "metadata": {},
   "outputs": [
    {
     "data": {
      "text/plain": [
       "23.666666666666668"
      ]
     },
     "execution_count": 8,
     "metadata": {},
     "output_type": "execute_result"
    }
   ],
   "source": [
    "142 / 6"
   ]
  },
  {
   "cell_type": "code",
   "execution_count": 9,
   "metadata": {},
   "outputs": [],
   "source": [
    "# Find biggest PMP discrepancies\n",
    "pmp_divergences = abs(bridge[\"m1_prob\"] - NN_fixed[\"m1_prob\"])"
   ]
  },
  {
   "cell_type": "code",
   "execution_count": 10,
   "metadata": {},
   "outputs": [
    {
     "data": {
      "text/plain": [
       "0     6.268447e-03\n",
       "1     8.663375e-03\n",
       "2     2.605674e-11\n",
       "3     8.290616e-02\n",
       "4     1.314845e-04\n",
       "          ...     \n",
       "95    1.341176e-04\n",
       "96    3.950468e-02\n",
       "97    1.192078e-06\n",
       "98    9.799226e-06\n",
       "99    1.251645e-04\n",
       "Name: m1_prob, Length: 100, dtype: float64"
      ]
     },
     "execution_count": 10,
     "metadata": {},
     "output_type": "execute_result"
    }
   ],
   "source": [
    "pmp_divergences"
   ]
  },
  {
   "cell_type": "code",
   "execution_count": 11,
   "metadata": {},
   "outputs": [
    {
     "data": {
      "text/html": [
       "<div>\n",
       "<style scoped>\n",
       "    .dataframe tbody tr th:only-of-type {\n",
       "        vertical-align: middle;\n",
       "    }\n",
       "\n",
       "    .dataframe tbody tr th {\n",
       "        vertical-align: top;\n",
       "    }\n",
       "\n",
       "    .dataframe thead th {\n",
       "        text-align: right;\n",
       "    }\n",
       "</style>\n",
       "<table border=\"1\" class=\"dataframe\">\n",
       "  <thead>\n",
       "    <tr style=\"text-align: right;\">\n",
       "      <th></th>\n",
       "      <th>V1</th>\n",
       "      <th>V2</th>\n",
       "    </tr>\n",
       "  </thead>\n",
       "  <tbody>\n",
       "    <tr>\n",
       "      <th>0</th>\n",
       "      <td>0</td>\n",
       "      <td>0</td>\n",
       "    </tr>\n",
       "    <tr>\n",
       "      <th>1</th>\n",
       "      <td>0</td>\n",
       "      <td>0</td>\n",
       "    </tr>\n",
       "    <tr>\n",
       "      <th>2</th>\n",
       "      <td>0</td>\n",
       "      <td>0</td>\n",
       "    </tr>\n",
       "    <tr>\n",
       "      <th>3</th>\n",
       "      <td>0</td>\n",
       "      <td>0</td>\n",
       "    </tr>\n",
       "    <tr>\n",
       "      <th>4</th>\n",
       "      <td>8069</td>\n",
       "      <td>0</td>\n",
       "    </tr>\n",
       "    <tr>\n",
       "      <th>...</th>\n",
       "      <td>...</td>\n",
       "      <td>...</td>\n",
       "    </tr>\n",
       "    <tr>\n",
       "      <th>95</th>\n",
       "      <td>0</td>\n",
       "      <td>0</td>\n",
       "    </tr>\n",
       "    <tr>\n",
       "      <th>96</th>\n",
       "      <td>316</td>\n",
       "      <td>0</td>\n",
       "    </tr>\n",
       "    <tr>\n",
       "      <th>97</th>\n",
       "      <td>0</td>\n",
       "      <td>0</td>\n",
       "    </tr>\n",
       "    <tr>\n",
       "      <th>98</th>\n",
       "      <td>0</td>\n",
       "      <td>0</td>\n",
       "    </tr>\n",
       "    <tr>\n",
       "      <th>99</th>\n",
       "      <td>71</td>\n",
       "      <td>0</td>\n",
       "    </tr>\n",
       "  </tbody>\n",
       "</table>\n",
       "<p>100 rows × 2 columns</p>\n",
       "</div>"
      ],
      "text/plain": [
       "      V1  V2\n",
       "0      0   0\n",
       "1      0   0\n",
       "2      0   0\n",
       "3      0   0\n",
       "4   8069   0\n",
       "..   ...  ..\n",
       "95     0   0\n",
       "96   316   0\n",
       "97     0   0\n",
       "98     0   0\n",
       "99    71   0\n",
       "\n",
       "[100 rows x 2 columns]"
      ]
     },
     "execution_count": 11,
     "metadata": {},
     "output_type": "execute_result"
    }
   ],
   "source": [
    "n_div_transitions"
   ]
  },
  {
   "cell_type": "code",
   "execution_count": 12,
   "metadata": {},
   "outputs": [],
   "source": [
    "from src.python.settings import plotting_settings\n",
    "\n",
    "colors = {\n",
    "    0: plotting_settings[\"colors_discrete\"][3],\n",
    "    1: plotting_settings[\"colors_discrete\"][0],\n",
    "}\n",
    "model_names = [\"SDT\", \"MPT\"]"
   ]
  },
  {
   "cell_type": "code",
   "execution_count": 13,
   "metadata": {},
   "outputs": [
    {
     "data": {
      "text/plain": [
       "<matplotlib.legend.Legend at 0x2041dac53a0>"
      ]
     },
     "execution_count": 13,
     "metadata": {},
     "output_type": "execute_result"
    },
    {
     "data": {
      "image/png": "[encoded data removed]",
      "text/plain": [
       "<Figure size 360x360 with 1 Axes>"
      ]
     },
     "metadata": {},
     "output_type": "display_data"
    }
   ],
   "source": [
    "# Inspect SDT Stan fit\n",
    "fig, ax = plt.subplots(1, 1, figsize=(5, 5))\n",
    "\n",
    "ax.scatter(\n",
    "    n_div_transitions.iloc[:, 0],\n",
    "    pmp_divergences,\n",
    "    c=bridge[\"true_model\"].map(colors),\n",
    "    alpha=0.5,\n",
    ")\n",
    "ax.set_xlabel(\"Number of divergent transitions\", fontsize=14)\n",
    "ax.set_ylabel(\"PMP divergence bridge vs network\", fontsize=14)\n",
    "ax.set_title(\"SDT Stan fit\", fontsize=18)\n",
    "helperlist = [\n",
    "    plt.plot([], marker=\"o\", ls=\"\", color=color, alpha=0.8)[0]\n",
    "    for color in colors.values()\n",
    "]  # hack for legend\n",
    "legend_test = [\n",
    "    r\"Simulated from \" + f\"{model_names[0]}\",\n",
    "    r\"Simulated from \" + f\"{model_names[1]}\",\n",
    "]\n",
    "ax.legend(helperlist, legend_test, fontsize=plotting_settings[\"fontsize_legends\"])"
   ]
  },
  {
   "cell_type": "code",
   "execution_count": 14,
   "metadata": {},
   "outputs": [
    {
     "data": {
      "text/plain": [
       "<matplotlib.legend.Legend at 0x2041db2c220>"
      ]
     },
     "execution_count": 14,
     "metadata": {},
     "output_type": "execute_result"
    },
    {
     "data": {
      "image/png": "[encoded data removed]",
      "text/plain": [
       "<Figure size 360x360 with 1 Axes>"
      ]
     },
     "metadata": {},
     "output_type": "display_data"
    }
   ],
   "source": [
    "# Inspect MPT Stan fit\n",
    "fig, ax = plt.subplots(1, 1, figsize=(5, 5))\n",
    "\n",
    "ax.scatter(\n",
    "    n_div_transitions.iloc[:, 1],\n",
    "    pmp_divergences,\n",
    "    c=bridge[\"true_model\"].map(colors),\n",
    "    alpha=0.5,\n",
    ")\n",
    "ax.set_xlabel(\"Number of divergent transitions\", fontsize=14)\n",
    "ax.set_ylabel(\"PMP divergence bridge vs network\", fontsize=14)\n",
    "ax.set_title(\"MPT Stan fit\", fontsize=18)\n",
    "helperlist = [\n",
    "    plt.plot([], marker=\"o\", ls=\"\", color=color, alpha=0.8)[0]\n",
    "    for color in colors.values()\n",
    "]  # hack for legend\n",
    "legend_test = [\n",
    "    r\"Simulated from \" + f\"{model_names[0]}\",\n",
    "    r\"Simulated from \" + f\"{model_names[1]}\",\n",
    "]\n",
    "ax.legend(helperlist, legend_test, fontsize=plotting_settings[\"fontsize_legends\"])"
   ]
  },
  {
   "cell_type": "code",
   "execution_count": 15,
   "metadata": {},
   "outputs": [
    {
     "data": {
      "text/plain": [
       "<matplotlib.legend.Legend at 0x2041dc2bb20>"
      ]
     },
     "execution_count": 15,
     "metadata": {},
     "output_type": "execute_result"
    },
    {
     "data": {
      "image/png": "[encoded data removed]",
      "text/plain": [
       "<Figure size 360x360 with 1 Axes>"
      ]
     },
     "metadata": {},
     "output_type": "display_data"
    }
   ],
   "source": [
    "# Inspect SDT Stan fit\n",
    "fig, ax = plt.subplots(1, 1, figsize=(5, 5))\n",
    "\n",
    "ax.scatter(\n",
    "    n_div_transitions.iloc[:, 0],\n",
    "    bridge.loc[:, \"m1_prob\"],\n",
    "    c=bridge[\"true_model\"].map(colors),\n",
    "    alpha=0.5,\n",
    ")\n",
    "ax.set_xlabel(\"Number of divergent transitions\", fontsize=14)\n",
    "ax.set_ylabel(\n",
    "    r\"$p($\" + f\"{model_names[1]}\" + r\"$\\,|\\,\\it{x})$\" + \" - \" + \"bridge sampling\",\n",
    "    fontsize=14,\n",
    ")\n",
    "ax.set_title(\"SDT Stan fit\", fontsize=18)\n",
    "helperlist = [\n",
    "    plt.plot([], marker=\"o\", ls=\"\", color=color, alpha=0.8)[0]\n",
    "    for color in colors.values()\n",
    "]  # hack for legend\n",
    "legend_test = [\n",
    "    r\"Simulated from \" + f\"{model_names[0]}\",\n",
    "    r\"Simulated from \" + f\"{model_names[1]}\",\n",
    "]\n",
    "ax.legend(helperlist, legend_test, fontsize=plotting_settings[\"fontsize_legends\"])"
   ]
  },
  {
   "cell_type": "markdown",
   "metadata": {},
   "source": [
    "# Plot computation times as function of data sets"
   ]
  },
  {
   "cell_type": "code",
   "execution_count": 16,
   "metadata": {},
   "outputs": [
    {
     "data": {
      "image/png": "[encoded data removed]",
      "text/plain": [
       "<Figure size 360x360 with 1 Axes>"
      ]
     },
     "metadata": {},
     "output_type": "display_data"
    }
   ],
   "source": [
    "# Calculate computation times\n",
    "results_time_list = computation_times(results_list)\n",
    "plot_computation_times(results_time_list, names=names, save=True)"
   ]
  },
  {
   "cell_type": "code",
   "execution_count": 17,
   "metadata": {},
   "outputs": [
    {
     "name": "stdout",
     "output_type": "stream",
     "text": [
      "10.957857921189735\n",
      "35.91004448166667\n"
     ]
    }
   ],
   "source": [
    "# total bridge sampling time in hours\n",
    "print((np.sum(bridge[\"stan_time\"]) + np.sum(bridge[\"bridge_time\"])) / 60 / 60)\n",
    "# total NN time in minutes\n",
    "print((np.sum(NN_fixed[\"training_time\"][0]) + np.sum(NN_fixed[\"inference_time\"])) / 60)"
   ]
  },
  {
   "cell_type": "code",
   "execution_count": 18,
   "metadata": {},
   "outputs": [
    {
     "name": "stdout",
     "output_type": "stream",
     "text": [
      "5\n"
     ]
    }
   ],
   "source": [
    "# Get minimum number of datasets for which NNs are faster than bridge sampling\n",
    "\n",
    "print(\n",
    "    np.where(results_time_list[0] > results_time_list[1])[0][0] + 1\n",
    ")  # +1 as numpy uses 0-based indexing"
   ]
  }
 ],
 "metadata": {
  "kernelspec": {
   "display_name": "tf",
   "language": "python",
   "name": "python3"
  },
  "language_info": {
   "codemirror_mode": {
    "name": "ipython",
    "version": 3
   },
   "file_extension": ".py",
   "mimetype": "text/x-python",
   "name": "python",
   "nbconvert_exporter": "python",
   "pygments_lexer": "ipython3",
   "version": "3.8.13 | packaged by conda-forge | (default, Mar 25 2022, 05:59:45) [MSC v.1929 64 bit (AMD64)]"
  },
  "orig_nbformat": 4,
  "vscode": {
   "interpreter": {
    "hash": "27a86c9f63fe2f1aa7d9f3c637434a8367b5c148236c1390e91d25c0e560ef1a"
   }
  }
 },
 "nbformat": 4,
 "nbformat_minor": 2
}
