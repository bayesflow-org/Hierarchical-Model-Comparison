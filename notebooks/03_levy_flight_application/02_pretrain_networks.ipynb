{
 "cells": [
  {
   "cell_type": "code",
   "execution_count": 1,
   "metadata": {},
   "outputs": [
    {
     "name": "stderr",
     "output_type": "stream",
     "text": [
      "c:\\Users\\lasse\\projects\\BayesFlow_dev\\BayesFlow\\bayesflow\\trainers.py:26: TqdmExperimentalWarning: Using `tqdm.autonotebook.tqdm` in notebook mode. Use `tqdm.tqdm` instead to force console mode (e.g. in jupyter console)\n",
      "  from tqdm.autonotebook import tqdm\n"
     ]
    }
   ],
   "source": [
    "import os, sys\n",
    "\n",
    "sys.path.append(os.path.abspath(os.path.join(\"../..\")))  # access sibling directories\n",
    "sys.path.append(os.path.abspath(os.path.join(\"../../../BayesFlow_dev/BayesFlow/\")))\n",
    "\n",
    "from src.python.settings import sum_config\n",
    "from src.python.helpers import load_simulated_rt_data\n",
    "\n",
    "import bayesflow as bf\n",
    "import numpy as np\n",
    "from functools import partial"
   ]
  },
  {
   "attachments": {},
   "cell_type": "markdown",
   "metadata": {},
   "source": [
    "# Pre-training with 100 trials per person"
   ]
  },
  {
   "attachments": {},
   "cell_type": "markdown",
   "metadata": {},
   "source": [
    "## Load in data"
   ]
  },
  {
   "cell_type": "code",
   "execution_count": 2,
   "metadata": {},
   "outputs": [],
   "source": [
    "levy_sims_folder = \"c:\\\\Users\\\\lasse\\\\documents\\\\hierarchical_model_comparison_project\\\\data\\\\03_levy_flight_application\\\\truncnormal_alpha_prior\"\n",
    "\n",
    "indices_100_filename = \"train_indices_100_trials.npy\"\n",
    "datasets_100_filename = \"train_datasets_100_trials.npy\"\n",
    "\n",
    "simulations_dict = load_simulated_rt_data(\n",
    "    levy_sims_folder, indices_100_filename, datasets_100_filename\n",
    ")"
   ]
  },
  {
   "attachments": {},
   "cell_type": "markdown",
   "metadata": {},
   "source": [
    "- dict with keys 'model_outputs' and 'model_indices'\n",
    "- each keyvalue has a list of length n_models\n",
    "- each list in model_outputs contains the sims for the model in a dict with key 'sim_data'\n",
    "- model indices is simply a list of indices"
   ]
  },
  {
   "attachments": {},
   "cell_type": "markdown",
   "metadata": {},
   "source": [
    "## Training"
   ]
  },
  {
   "cell_type": "code",
   "execution_count": 3,
   "metadata": {},
   "outputs": [],
   "source": [
    "summary_net = bf.summary_networks.HierarchicalNetwork(\n",
    "    [\n",
    "        bf.networks.DeepSet(dense_s2_args=sum_config, dense_s3_args=sum_config),\n",
    "        bf.networks.DeepSet(dense_s2_args=sum_config, dense_s3_args=sum_config),\n",
    "    ]\n",
    ")\n",
    "probability_net = bf.inference_networks.PMPNetwork(num_models=4, dropout=False)\n",
    "amortizer = bf.amortizers.AmortizedModelComparison(probability_net, summary_net)"
   ]
  },
  {
   "cell_type": "code",
   "execution_count": 14,
   "metadata": {},
   "outputs": [
    {
     "name": "stderr",
     "output_type": "stream",
     "text": [
      "INFO:root:Trainer initialization: No generative model provided. Only offline learning mode is available!\n",
      "INFO:root:Initialized empty loss history.\n",
      "INFO:root:Initialized networks from scratch.\n"
     ]
    }
   ],
   "source": [
    "# Training steps\n",
    "epochs = 20\n",
    "n_datasets = simulations_dict['model_outputs'][0]['sim_data'].shape[0] * 4\n",
    "batch_size = 32\n",
    "iterations_per_epoch = n_datasets / batch_size\n",
    "\n",
    "\n",
    "\n",
    "# Checkpoint path for storing pretrained network\n",
    "checkpoint_path = \"C:/Users/lasse/OneDrive/Ph.D/Projekte/hierarchical_model_comparison/checkpoints/03_levy_flight_application/truncnormal_alpha_prior/pre-trained_net\"\n",
    "\n",
    "trainer = bf.trainers.Trainer(\n",
    "    amortizer=amortizer,\n",
    "    default_lr=0.0005,\n",
    "    checkpoint_path=checkpoint_path,\n",
    ")"
   ]
  },
  {
   "cell_type": "code",
   "execution_count": 15,
   "metadata": {},
   "outputs": [
    {
     "data": {
      "application/vnd.jupyter.widget-view+json": {
       "model_id": "5acad0d650054a03b5e292bebfcd3eaa",
       "version_major": 2,
       "version_minor": 0
      },
      "text/plain": [
       "Training epoch 1:   0%|          | 0/1250 [00:00<?, ?it/s]"
      ]
     },
     "metadata": {},
     "output_type": "display_data"
    },
    {
     "data": {
      "application/vnd.jupyter.widget-view+json": {
       "model_id": "66804121d96a4d189b0b5d5dc2445ac1",
       "version_major": 2,
       "version_minor": 0
      },
      "text/plain": [
       "Training epoch 2:   0%|          | 0/1250 [00:00<?, ?it/s]"
      ]
     },
     "metadata": {},
     "output_type": "display_data"
    },
    {
     "data": {
      "application/vnd.jupyter.widget-view+json": {
       "model_id": "0c2ef6a1a42942c485ac97b55a4ba66d",
       "version_major": 2,
       "version_minor": 0
      },
      "text/plain": [
       "Training epoch 3:   0%|          | 0/1250 [00:00<?, ?it/s]"
      ]
     },
     "metadata": {},
     "output_type": "display_data"
    },
    {
     "data": {
      "application/vnd.jupyter.widget-view+json": {
       "model_id": "60f245a1db5b465fb9191c9ad1ac48de",
       "version_major": 2,
       "version_minor": 0
      },
      "text/plain": [
       "Training epoch 4:   0%|          | 0/1250 [00:00<?, ?it/s]"
      ]
     },
     "metadata": {},
     "output_type": "display_data"
    },
    {
     "data": {
      "application/vnd.jupyter.widget-view+json": {
       "model_id": "aa305ad6367f4ae782f5530984a27f48",
       "version_major": 2,
       "version_minor": 0
      },
      "text/plain": [
       "Training epoch 5:   0%|          | 0/1250 [00:00<?, ?it/s]"
      ]
     },
     "metadata": {},
     "output_type": "display_data"
    },
    {
     "data": {
      "application/vnd.jupyter.widget-view+json": {
       "model_id": "22ff44d5704f4cf9b56e52f41807c45d",
       "version_major": 2,
       "version_minor": 0
      },
      "text/plain": [
       "Training epoch 6:   0%|          | 0/1250 [00:00<?, ?it/s]"
      ]
     },
     "metadata": {},
     "output_type": "display_data"
    },
    {
     "data": {
      "application/vnd.jupyter.widget-view+json": {
       "model_id": "19eb63821c7a4bff9afbc99511dbe9f4",
       "version_major": 2,
       "version_minor": 0
      },
      "text/plain": [
       "Training epoch 7:   0%|          | 0/1250 [00:00<?, ?it/s]"
      ]
     },
     "metadata": {},
     "output_type": "display_data"
    },
    {
     "data": {
      "application/vnd.jupyter.widget-view+json": {
       "model_id": "a92b81bc0ef14b128fb4fe382f454c9f",
       "version_major": 2,
       "version_minor": 0
      },
      "text/plain": [
       "Training epoch 8:   0%|          | 0/1250 [00:00<?, ?it/s]"
      ]
     },
     "metadata": {},
     "output_type": "display_data"
    },
    {
     "data": {
      "application/vnd.jupyter.widget-view+json": {
       "model_id": "67b3bb6cee2a4286b65e132e6480b85c",
       "version_major": 2,
       "version_minor": 0
      },
      "text/plain": [
       "Training epoch 9:   0%|          | 0/1250 [00:00<?, ?it/s]"
      ]
     },
     "metadata": {},
     "output_type": "display_data"
    },
    {
     "data": {
      "application/vnd.jupyter.widget-view+json": {
       "model_id": "2c743be5ff254f4cbb61604f200d6bf0",
       "version_major": 2,
       "version_minor": 0
      },
      "text/plain": [
       "Training epoch 10:   0%|          | 0/1250 [00:00<?, ?it/s]"
      ]
     },
     "metadata": {},
     "output_type": "display_data"
    },
    {
     "data": {
      "application/vnd.jupyter.widget-view+json": {
       "model_id": "dc532f57a6ed40488d1e31301a51492b",
       "version_major": 2,
       "version_minor": 0
      },
      "text/plain": [
       "Training epoch 11:   0%|          | 0/1250 [00:00<?, ?it/s]"
      ]
     },
     "metadata": {},
     "output_type": "display_data"
    },
    {
     "data": {
      "application/vnd.jupyter.widget-view+json": {
       "model_id": "a3a040c212bc4c0cbfd84501998b25c1",
       "version_major": 2,
       "version_minor": 0
      },
      "text/plain": [
       "Training epoch 12:   0%|          | 0/1250 [00:00<?, ?it/s]"
      ]
     },
     "metadata": {},
     "output_type": "display_data"
    },
    {
     "data": {
      "application/vnd.jupyter.widget-view+json": {
       "model_id": "832f75f36e394d00b5973b326677de72",
       "version_major": 2,
       "version_minor": 0
      },
      "text/plain": [
       "Training epoch 13:   0%|          | 0/1250 [00:00<?, ?it/s]"
      ]
     },
     "metadata": {},
     "output_type": "display_data"
    },
    {
     "data": {
      "application/vnd.jupyter.widget-view+json": {
       "model_id": "e2a55430c7bf42dcac3dab15597d0fee",
       "version_major": 2,
       "version_minor": 0
      },
      "text/plain": [
       "Training epoch 14:   0%|          | 0/1250 [00:00<?, ?it/s]"
      ]
     },
     "metadata": {},
     "output_type": "display_data"
    },
    {
     "data": {
      "application/vnd.jupyter.widget-view+json": {
       "model_id": "a6228f545ee743a4b7a0632da2c761b3",
       "version_major": 2,
       "version_minor": 0
      },
      "text/plain": [
       "Training epoch 15:   0%|          | 0/1250 [00:00<?, ?it/s]"
      ]
     },
     "metadata": {},
     "output_type": "display_data"
    },
    {
     "data": {
      "application/vnd.jupyter.widget-view+json": {
       "model_id": "21b84bb60d6f4cc19e6f5f67665909a3",
       "version_major": 2,
       "version_minor": 0
      },
      "text/plain": [
       "Training epoch 16:   0%|          | 0/1250 [00:00<?, ?it/s]"
      ]
     },
     "metadata": {},
     "output_type": "display_data"
    },
    {
     "data": {
      "application/vnd.jupyter.widget-view+json": {
       "model_id": "caf250c52cc6453fb03a90b7aecd14d8",
       "version_major": 2,
       "version_minor": 0
      },
      "text/plain": [
       "Training epoch 17:   0%|          | 0/1250 [00:00<?, ?it/s]"
      ]
     },
     "metadata": {},
     "output_type": "display_data"
    },
    {
     "data": {
      "application/vnd.jupyter.widget-view+json": {
       "model_id": "7a6bdc7fd80048d09aae2a8274b2f093",
       "version_major": 2,
       "version_minor": 0
      },
      "text/plain": [
       "Training epoch 18:   0%|          | 0/1250 [00:00<?, ?it/s]"
      ]
     },
     "metadata": {},
     "output_type": "display_data"
    },
    {
     "data": {
      "application/vnd.jupyter.widget-view+json": {
       "model_id": "6332c0e6d5514c48987ef43cb475cde3",
       "version_major": 2,
       "version_minor": 0
      },
      "text/plain": [
       "Training epoch 19:   0%|          | 0/1250 [00:00<?, ?it/s]"
      ]
     },
     "metadata": {},
     "output_type": "display_data"
    },
    {
     "data": {
      "application/vnd.jupyter.widget-view+json": {
       "model_id": "f061256d8a9e48fc906dfe9d2c60e304",
       "version_major": 2,
       "version_minor": 0
      },
      "text/plain": [
       "Training epoch 20:   0%|          | 0/1250 [00:00<?, ?it/s]"
      ]
     },
     "metadata": {},
     "output_type": "display_data"
    }
   ],
   "source": [
    "losses = trainer.train_offline(\n",
    "    simulations_dict=simulations_dict,\n",
    "    epochs=epochs,\n",
    "    batch_size=batch_size\n",
    ")"
   ]
  }
 ],
 "metadata": {
  "kernelspec": {
   "display_name": "Python 3.8.13 ('tf')",
   "language": "python",
   "name": "python3"
  },
  "language_info": {
   "codemirror_mode": {
    "name": "ipython",
    "version": 3
   },
   "file_extension": ".py",
   "mimetype": "text/x-python",
   "name": "python",
   "nbconvert_exporter": "python",
   "pygments_lexer": "ipython3",
   "version": "3.10.10"
  },
  "toc": {
   "base_numbering": 1,
   "nav_menu": {},
   "number_sections": true,
   "sideBar": true,
   "skip_h1_title": false,
   "title_cell": "Table of Contents",
   "title_sidebar": "Contents",
   "toc_cell": false,
   "toc_position": {
    "height": "calc(100% - 180px)",
    "left": "10px",
    "top": "150px",
    "width": "165px"
   },
   "toc_section_display": true,
   "toc_window_display": true
  },
  "varInspector": {
   "cols": {
    "lenName": 16,
    "lenType": 16,
    "lenVar": 40
   },
   "kernels_config": {
    "python": {
     "delete_cmd_postfix": "",
     "delete_cmd_prefix": "del ",
     "library": "var_list.py",
     "varRefreshCmd": "print(var_dic_list())"
    },
    "r": {
     "delete_cmd_postfix": ") ",
     "delete_cmd_prefix": "rm(",
     "library": "var_list.r",
     "varRefreshCmd": "cat(var_dic_list()) "
    }
   },
   "types_to_exclude": [
    "module",
    "function",
    "builtin_function_or_method",
    "instance",
    "_Feature"
   ],
   "window_display": false
  },
  "vscode": {
   "interpreter": {
    "hash": "27a86c9f63fe2f1aa7d9f3c637434a8367b5c148236c1390e91d25c0e560ef1a"
   }
  }
 },
 "nbformat": 4,
 "nbformat_minor": 2
}
